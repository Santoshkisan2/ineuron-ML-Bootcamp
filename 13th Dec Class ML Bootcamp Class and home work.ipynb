{
 "cells": [
  {
   "cell_type": "markdown",
   "id": "b6d0a8f5",
   "metadata": {},
   "source": [
    "Q1:WAP to accept two numbers from the user and display their sum"
   ]
  },
  {
   "cell_type": "code",
   "execution_count": 3,
   "id": "858115b4",
   "metadata": {},
   "outputs": [
    {
     "name": "stdout",
     "output_type": "stream",
     "text": [
      "Enter your first number:10\n",
      "Enter your second number:50\n",
      "Your sum is: 60\n"
     ]
    }
   ],
   "source": [
    "a=int(input(\"Enter your first number:\"))\n",
    "b=int(input(\"Enter your second number:\"))\n",
    "c= a+b\n",
    "print('Your sum is:',c)"
   ]
  },
  {
   "cell_type": "markdown",
   "id": "0506341a",
   "metadata": {},
   "source": [
    "Q2:WAP to accept radius of a circle from the user and calculate area and circuference"
   ]
  },
  {
   "cell_type": "code",
   "execution_count": 8,
   "id": "393e1369",
   "metadata": {},
   "outputs": [
    {
     "name": "stdout",
     "output_type": "stream",
     "text": [
      "Enter your radius of circle:5\n",
      "Area of your circle: 78.525\n"
     ]
    }
   ],
   "source": [
    "r=int(input(\"Enter your radius of circle:\"))\n",
    "area=3.141*r**2\n",
    "print('Area of your circle:',area)"
   ]
  },
  {
   "cell_type": "markdown",
   "id": "c2af2439",
   "metadata": {},
   "source": [
    "Q3:WAP to accept roll number,grade and percentage as input from the user and display it back"
   ]
  },
  {
   "cell_type": "code",
   "execution_count": 11,
   "id": "8d573a98",
   "metadata": {},
   "outputs": [
    {
     "name": "stdout",
     "output_type": "stream",
     "text": [
      "Please write your roll number:123\n",
      "please write your grade:A\n",
      "Please write your percentage:50\n",
      "Your roll number is 123 . Your grade and percentage is A , 50 respectively.\n"
     ]
    }
   ],
   "source": [
    "rn=input('Please write your roll number:')\n",
    "grd=(input('please write your grade:'))\n",
    "per=input('Please write your percentage:')\n",
    "print('Your roll number is',rn,'.','Your grade and percentage is',grd,',',per,'respectively.')"
   ]
  },
  {
   "cell_type": "markdown",
   "id": "1aabfb39",
   "metadata": {},
   "source": [
    "Q4:WAP to ask the user to enter his/her name and age. Print out a message displaying user name along with the year in which they turn 100 year old"
   ]
  },
  {
   "cell_type": "code",
   "execution_count": 14,
   "id": "1c5fb919",
   "metadata": {},
   "outputs": [
    {
     "name": "stdout",
     "output_type": "stream",
     "text": [
      "Enter your number:sa\n",
      "Enter your age:50\n",
      "Your name is sa . You will turn hundred in year 2072\n"
     ]
    }
   ],
   "source": [
    "name=(input(\"Enter your number:\"))\n",
    "age=int(input(\"Enter your age:\"))\n",
    "e= 100-age\n",
    "f=2022+e\n",
    "print('Your name is',name,'.','You will turn hundred in year',f)"
   ]
  },
  {
   "cell_type": "markdown",
   "id": "b0df4b9e",
   "metadata": {},
   "source": [
    "Q5: WAP that ask the user to input 2 integer and adds them. Accept both the numbers in a single line only"
   ]
  },
  {
   "cell_type": "code",
   "execution_count": 34,
   "id": "09016f62",
   "metadata": {},
   "outputs": [
    {
     "name": "stdout",
     "output_type": "stream",
     "text": [
      "Enter your two integer with comma:5,4\n",
      "Your sum is: 9\n"
     ]
    }
   ],
   "source": [
    "i1,i2=input(\"Enter your two integer with comma:\").split(sep=',')\n",
    "print('Your sum is:',int(i1)+int(i2))\n"
   ]
  },
  {
   "cell_type": "markdown",
   "id": "c95fb90a",
   "metadata": {},
   "source": [
    "Q6:WAP which accept users first and last name and print them in reverse order with a space between them."
   ]
  },
  {
   "cell_type": "code",
   "execution_count": 37,
   "id": "a3044280",
   "metadata": {},
   "outputs": [
    {
     "name": "stdout",
     "output_type": "stream",
     "text": [
      "Enter your first name:sa\n",
      "Enter your last name:nt\n",
      "If your name written in reverse it will written as : as tn\n"
     ]
    }
   ],
   "source": [
    "fn=(input(\"Enter your first name:\"))\n",
    "ln=(input(\"Enter your last name:\"))\n",
    "rfn=fn[::-1]\n",
    "rln=ln[::-1]\n",
    "print('If your name written in reverse it will written as :',rfn,rln)"
   ]
  },
  {
   "cell_type": "code",
   "execution_count": null,
   "id": "96a1929b",
   "metadata": {},
   "outputs": [],
   "source": []
  }
 ],
 "metadata": {
  "kernelspec": {
   "display_name": "Python 3 (ipykernel)",
   "language": "python",
   "name": "python3"
  },
  "language_info": {
   "codemirror_mode": {
    "name": "ipython",
    "version": 3
   },
   "file_extension": ".py",
   "mimetype": "text/x-python",
   "name": "python",
   "nbconvert_exporter": "python",
   "pygments_lexer": "ipython3",
   "version": "3.9.12"
  }
 },
 "nbformat": 4,
 "nbformat_minor": 5
}
