{
 "cells": [
  {
   "cell_type": "code",
   "execution_count": 1,
   "id": "5eb40b93",
   "metadata": {},
   "outputs": [
    {
     "data": {
      "text/plain": [
       "<function __main__.<lambda>(a, b)>"
      ]
     },
     "execution_count": 1,
     "metadata": {},
     "output_type": "execute_result"
    }
   ],
   "source": [
    "lambda a,b:a+b\n",
    "    "
   ]
  },
  {
   "cell_type": "code",
   "execution_count": 2,
   "id": "288f416f",
   "metadata": {},
   "outputs": [
    {
     "name": "stdout",
     "output_type": "stream",
     "text": [
      "5\n"
     ]
    }
   ],
   "source": [
    "print((lambda a,b:a+b)(2,3))"
   ]
  },
  {
   "cell_type": "code",
   "execution_count": 3,
   "id": "e377ecb1",
   "metadata": {},
   "outputs": [],
   "source": [
    "my=lambda a,b:a+b"
   ]
  },
  {
   "cell_type": "code",
   "execution_count": 4,
   "id": "0839005a",
   "metadata": {},
   "outputs": [
    {
     "data": {
      "text/plain": [
       "25"
      ]
     },
     "execution_count": 4,
     "metadata": {},
     "output_type": "execute_result"
    }
   ],
   "source": [
    "my(10,15)"
   ]
  },
  {
   "cell_type": "code",
   "execution_count": 9,
   "id": "e2d3a4b6",
   "metadata": {},
   "outputs": [
    {
     "name": "stdout",
     "output_type": "stream",
     "text": [
      "5 \n",
      "4\n",
      "(25, 16)\n"
     ]
    }
   ],
   "source": [
    "n1=int(input())\n",
    "n2=int(input())\n",
    "sq=lambda n1,n2:(n1**2,n2**2)\n",
    "print(sq(n1,n2))"
   ]
  },
  {
   "cell_type": "code",
   "execution_count": 10,
   "id": "fd9b021c",
   "metadata": {},
   "outputs": [],
   "source": [
    "# syntax for variable=lambda [arg1,arg2,arg3...]:[expression]"
   ]
  },
  {
   "cell_type": "code",
   "execution_count": 13,
   "id": "4f9ab59b",
   "metadata": {},
   "outputs": [
    {
     "name": "stdout",
     "output_type": "stream",
     "text": [
      "santosh\n",
      "s\n"
     ]
    }
   ],
   "source": [
    "string=input()\n",
    "f=lambda string:string[0]\n",
    "print(f(string))"
   ]
  },
  {
   "cell_type": "code",
   "execution_count": 19,
   "id": "596cc1ee",
   "metadata": {},
   "outputs": [
    {
     "name": "stdout",
     "output_type": "stream",
     "text": [
      "5\n",
      "False\n"
     ]
    }
   ],
   "source": [
    "num=int(input())\n",
    "fun=lambda x:True if num%2==0 else False\n",
    "print(fun(num))"
   ]
  },
  {
   "cell_type": "code",
   "execution_count": 26,
   "id": "e8bd100b",
   "metadata": {},
   "outputs": [
    {
     "name": "stdout",
     "output_type": "stream",
     "text": [
      "5\n",
      "4\n"
     ]
    },
    {
     "data": {
      "text/plain": [
       "5"
      ]
     },
     "execution_count": 26,
     "metadata": {},
     "output_type": "execute_result"
    }
   ],
   "source": [
    "num1=int(input())\n",
    "num2=int(input())\n",
    "great=lambda num1,num2: num1 if num1>num2 else num2\n",
    "great(num1,num2)"
   ]
  },
  {
   "cell_type": "code",
   "execution_count": 29,
   "id": "fc18c46c",
   "metadata": {},
   "outputs": [],
   "source": [
    "# map(function,iterable)\n",
    "#iterable=string,list,tuple,set,dict,range"
   ]
  },
  {
   "cell_type": "code",
   "execution_count": 31,
   "id": "cc31b685",
   "metadata": {},
   "outputs": [
    {
     "name": "stdout",
     "output_type": "stream",
     "text": [
      "1\n",
      "4\n",
      "4\n",
      "9\n",
      "16\n",
      "25\n"
     ]
    }
   ],
   "source": [
    "def square(n):\n",
    "    return n**2\n",
    "mylist=[1,2,2,3,4,5]\n",
    "for i in mylist:\n",
    "    print(square(i))"
   ]
  },
  {
   "cell_type": "code",
   "execution_count": 33,
   "id": "48ccb171",
   "metadata": {},
   "outputs": [
    {
     "data": {
      "text/plain": [
       "[1, 4, 4, 9, 16, 25]"
      ]
     },
     "execution_count": 33,
     "metadata": {},
     "output_type": "execute_result"
    }
   ],
   "source": [
    "list(map(square,mylist))"
   ]
  },
  {
   "cell_type": "code",
   "execution_count": 39,
   "id": "3fa089f9",
   "metadata": {},
   "outputs": [
    {
     "data": {
      "text/plain": [
       "['j', 'even', 'm']"
      ]
     },
     "execution_count": 39,
     "metadata": {},
     "output_type": "execute_result"
    }
   ],
   "source": [
    "\n",
    "def inspect(strn):\n",
    "    if len(strn)%2==0:\n",
    "        return 'even'\n",
    "    else:\n",
    "        return strn[0]\n",
    "\n",
    "mylist=['jan','febr','mar']\n",
    "list(map(inspect,mylist))\n",
    "    "
   ]
  },
  {
   "cell_type": "code",
   "execution_count": 40,
   "id": "56c8dc74",
   "metadata": {},
   "outputs": [],
   "source": [
    "# filter(function,iterable)\n",
    "mylist=[1,2,3,4,5,6,7,8,9,10]"
   ]
  },
  {
   "cell_type": "code",
   "execution_count": 41,
   "id": "e5f59998",
   "metadata": {},
   "outputs": [
    {
     "name": "stdout",
     "output_type": "stream",
     "text": [
      "2\n",
      "4\n",
      "6\n",
      "8\n",
      "10\n"
     ]
    }
   ],
   "source": [
    "def check_even(n):\n",
    "    return n%2==0\n",
    "for i in mylist:\n",
    "    if (check_even(i)):\n",
    "        print(i)"
   ]
  },
  {
   "cell_type": "code",
   "execution_count": 43,
   "id": "03cfc54e",
   "metadata": {},
   "outputs": [
    {
     "data": {
      "text/plain": [
       "[2, 4, 6, 8, 10]"
      ]
     },
     "execution_count": 43,
     "metadata": {},
     "output_type": "execute_result"
    }
   ],
   "source": [
    "list(filter(check_even,mylist))"
   ]
  },
  {
   "cell_type": "code",
   "execution_count": 45,
   "id": "e4e6f645",
   "metadata": {},
   "outputs": [
    {
     "data": {
      "text/plain": [
       "[1, 4, 9, 16, 25]"
      ]
     },
     "execution_count": 45,
     "metadata": {},
     "output_type": "execute_result"
    }
   ],
   "source": [
    "mylist=[1,2,3,4,5]\n",
    "list(map(lambda n:n**2,mylist))"
   ]
  },
  {
   "cell_type": "code",
   "execution_count": 48,
   "id": "aa27ca43",
   "metadata": {},
   "outputs": [
    {
     "ename": "TypeError",
     "evalue": "map() takes no keyword arguments",
     "output_type": "error",
     "traceback": [
      "\u001b[1;31m---------------------------------------------------------------------------\u001b[0m",
      "\u001b[1;31mTypeError\u001b[0m                                 Traceback (most recent call last)",
      "Input \u001b[1;32mIn [48]\u001b[0m, in \u001b[0;36m<cell line: 1>\u001b[1;34m()\u001b[0m\n\u001b[1;32m----> 1\u001b[0m \u001b[38;5;28;43mmap\u001b[39;49m\u001b[43m(\u001b[49m\u001b[38;5;28;43;01mlambda\u001b[39;49;00m\u001b[43m \u001b[49m\u001b[43mstring\u001b[49m\u001b[43m:\u001b[49m\u001b[38;5;124;43m'\u001b[39;49m\u001b[38;5;124;43meven\u001b[39;49m\u001b[38;5;124;43m'\u001b[39;49m\u001b[43m \u001b[49m\u001b[38;5;28;43;01mif\u001b[39;49;00m\u001b[43m \u001b[49m\u001b[43m(\u001b[49m\u001b[38;5;28;43mlen\u001b[39;49m\u001b[43m(\u001b[49m\u001b[43mstring\u001b[49m\u001b[43m)\u001b[49m\u001b[43m)\u001b[49m\u001b[38;5;241;43m%\u001b[39;49m\u001b[38;5;241;43m2\u001b[39;49m\u001b[38;5;241;43m==\u001b[39;49m\u001b[38;5;241;43m0\u001b[39;49m\u001b[43m \u001b[49m\u001b[38;5;28;43;01melse\u001b[39;49;00m\u001b[43m \u001b[49m\u001b[38;5;124;43m'\u001b[39;49m\u001b[38;5;124;43modd\u001b[39;49m\u001b[38;5;124;43m'\u001b[39;49m\u001b[43m,\u001b[49m\u001b[43mstring\u001b[49m\u001b[38;5;241;43m=\u001b[39;49m\u001b[43m[\u001b[49m\u001b[38;5;124;43m'\u001b[39;49m\u001b[38;5;124;43mjanuary\u001b[39;49m\u001b[38;5;124;43m'\u001b[39;49m\u001b[43m,\u001b[49m\u001b[38;5;124;43m'\u001b[39;49m\u001b[38;5;124;43mfebruary\u001b[39;49m\u001b[38;5;124;43m'\u001b[39;49m\u001b[43m,\u001b[49m\u001b[38;5;124;43m'\u001b[39;49m\u001b[38;5;124;43mmarch\u001b[39;49m\u001b[38;5;124;43m'\u001b[39;49m\u001b[43m]\u001b[49m\u001b[43m)\u001b[49m\n",
      "\u001b[1;31mTypeError\u001b[0m: map() takes no keyword arguments"
     ]
    }
   ],
   "source": [
    "map(lambda string:'even' if (len(string))%2==0 else 'odd',string=['january','february','march'])"
   ]
  },
  {
   "cell_type": "code",
   "execution_count": 55,
   "id": "985e486d",
   "metadata": {},
   "outputs": [
    {
     "data": {
      "text/plain": [
       "<function __main__.<lambda>(ch)>"
      ]
     },
     "execution_count": 55,
     "metadata": {},
     "output_type": "execute_result"
    }
   ],
   "source": [
    "lambda ch:'true' if ch in 'aeiou' else 'false'"
   ]
  },
  {
   "cell_type": "code",
   "execution_count": null,
   "id": "2cf9f644",
   "metadata": {},
   "outputs": [],
   "source": []
  }
 ],
 "metadata": {
  "kernelspec": {
   "display_name": "Python 3 (ipykernel)",
   "language": "python",
   "name": "python3"
  },
  "language_info": {
   "codemirror_mode": {
    "name": "ipython",
    "version": 3
   },
   "file_extension": ".py",
   "mimetype": "text/x-python",
   "name": "python",
   "nbconvert_exporter": "python",
   "pygments_lexer": "ipython3",
   "version": "3.9.12"
  }
 },
 "nbformat": 4,
 "nbformat_minor": 5
}
