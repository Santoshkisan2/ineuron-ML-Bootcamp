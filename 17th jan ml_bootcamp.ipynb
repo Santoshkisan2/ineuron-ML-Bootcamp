{
 "cells": [
  {
   "cell_type": "code",
   "execution_count": 1,
   "id": "8fde68b9",
   "metadata": {},
   "outputs": [],
   "source": [
    "def absolute():\n",
    "  num=int(input())\n",
    "  return num"
   ]
  },
  {
   "cell_type": "code",
   "execution_count": 2,
   "id": "3130fd31",
   "metadata": {},
   "outputs": [
    {
     "name": "stdout",
     "output_type": "stream",
     "text": [
      "5\n"
     ]
    },
    {
     "data": {
      "text/plain": [
       "5"
      ]
     },
     "execution_count": 2,
     "metadata": {},
     "output_type": "execute_result"
    }
   ],
   "source": [
    "absolute()"
   ]
  },
  {
   "cell_type": "code",
   "execution_count": 4,
   "id": "01e265a0",
   "metadata": {},
   "outputs": [],
   "source": [
    "def multtwonumber():\n",
    "    a=int(input())\n",
    "    b=int(input())\n",
    "    c=a+b\n",
    "    print(c)"
   ]
  },
  {
   "cell_type": "code",
   "execution_count": 6,
   "id": "e422a9da",
   "metadata": {},
   "outputs": [
    {
     "name": "stdout",
     "output_type": "stream",
     "text": [
      "5\n",
      "4\n",
      "9\n"
     ]
    }
   ],
   "source": [
    "multtwonumber()"
   ]
  },
  {
   "cell_type": "code",
   "execution_count": 10,
   "id": "5d5ac137",
   "metadata": {},
   "outputs": [],
   "source": [
    "def mul(x,y):\n",
    "    a=x\n",
    "    b=y\n",
    "    c=a+b\n",
    "    print(c)"
   ]
  },
  {
   "cell_type": "code",
   "execution_count": 11,
   "id": "5395316c",
   "metadata": {},
   "outputs": [
    {
     "name": "stdout",
     "output_type": "stream",
     "text": [
      "9\n"
     ]
    }
   ],
   "source": [
    "mul(4,5)"
   ]
  },
  {
   "cell_type": "code",
   "execution_count": 12,
   "id": "0f498164",
   "metadata": {},
   "outputs": [],
   "source": [
    "def absolute(n):\n",
    "    if n>0:\n",
    "        return n\n",
    "    else:\n",
    "        return -n"
   ]
  },
  {
   "cell_type": "code",
   "execution_count": 14,
   "id": "c300442f",
   "metadata": {},
   "outputs": [
    {
     "name": "stdout",
     "output_type": "stream",
     "text": [
      "-8\n"
     ]
    },
    {
     "data": {
      "text/plain": [
       "8"
      ]
     },
     "execution_count": 14,
     "metadata": {},
     "output_type": "execute_result"
    }
   ],
   "source": [
    "value=int(input())\n",
    "absolute(value)"
   ]
  },
  {
   "cell_type": "code",
   "execution_count": 15,
   "id": "d1ea7752",
   "metadata": {},
   "outputs": [],
   "source": [
    "def fullname(a,b):\n",
    "    c=a+b\n",
    "    print(c)"
   ]
  },
  {
   "cell_type": "code",
   "execution_count": 18,
   "id": "f409948a",
   "metadata": {},
   "outputs": [
    {
     "name": "stdout",
     "output_type": "stream",
     "text": [
      "Santosh Kisan\n"
     ]
    }
   ],
   "source": [
    "fullname(\"Santosh\",\" Kisan\")"
   ]
  },
  {
   "cell_type": "markdown",
   "id": "3f98f4b5",
   "metadata": {},
   "source": [
    "1. function defination\n",
    "2.function calling\n",
    "3.argument\n",
    "4.parameter\n",
    "5.function return concept"
   ]
  },
  {
   "cell_type": "code",
   "execution_count": 45,
   "id": "f6fc82e8",
   "metadata": {},
   "outputs": [],
   "source": [
    "def factorial():\n",
    "    a=int(input())\n",
    "    res=1\n",
    "    for i in range (1,a+1):\n",
    "        res=res*i\n",
    "        i=i+1\n",
    "    return res "
   ]
  },
  {
   "cell_type": "code",
   "execution_count": 46,
   "id": "716948f3",
   "metadata": {},
   "outputs": [
    {
     "name": "stdout",
     "output_type": "stream",
     "text": [
      "5\n"
     ]
    },
    {
     "data": {
      "text/plain": [
       "120"
      ]
     },
     "execution_count": 46,
     "metadata": {},
     "output_type": "execute_result"
    }
   ],
   "source": [
    "factorial()"
   ]
  },
  {
   "cell_type": "code",
   "execution_count": 48,
   "id": "fa0148ec",
   "metadata": {},
   "outputs": [],
   "source": [
    "def factorial(n):\n",
    "    f=1\n",
    "    while n>1:\n",
    "        f=f*n\n",
    "        n=n-1\n",
    "    return f\n",
    "        "
   ]
  },
  {
   "cell_type": "code",
   "execution_count": 49,
   "id": "a1d28a54",
   "metadata": {},
   "outputs": [
    {
     "data": {
      "text/plain": [
       "120"
      ]
     },
     "execution_count": 49,
     "metadata": {},
     "output_type": "execute_result"
    }
   ],
   "source": [
    "factorial(5)"
   ]
  },
  {
   "cell_type": "code",
   "execution_count": 50,
   "id": "e09f2713",
   "metadata": {},
   "outputs": [],
   "source": [
    "def nos(*a):\n",
    "    return a"
   ]
  },
  {
   "cell_type": "code",
   "execution_count": 51,
   "id": "59859f4a",
   "metadata": {},
   "outputs": [
    {
     "data": {
      "text/plain": [
       "(10, 20, 30, 40)"
      ]
     },
     "execution_count": 51,
     "metadata": {},
     "output_type": "execute_result"
    }
   ],
   "source": [
    "nos(10,20,30,40)"
   ]
  },
  {
   "cell_type": "code",
   "execution_count": 57,
   "id": "952fd636",
   "metadata": {},
   "outputs": [],
   "source": [
    "def cal_area(pi=3.141):\n",
    "    radius=int(input(\"radius=\"))\n",
    "    area=pi*radius*radius\n",
    "    return (area)\n",
    "    "
   ]
  },
  {
   "cell_type": "code",
   "execution_count": 58,
   "id": "348dafec",
   "metadata": {},
   "outputs": [
    {
     "name": "stdout",
     "output_type": "stream",
     "text": [
      "radius=4\n"
     ]
    },
    {
     "data": {
      "text/plain": [
       "50.256"
      ]
     },
     "execution_count": 58,
     "metadata": {},
     "output_type": "execute_result"
    }
   ],
   "source": [
    "cal_area()"
   ]
  },
  {
   "cell_type": "code",
   "execution_count": 60,
   "id": "80abed6b",
   "metadata": {},
   "outputs": [],
   "source": [
    "def addnos(a,b):\n",
    "    c=a+b\n",
    "    return c\n",
    "\n",
    "def addnos(a,b,c):\n",
    "    d=a+b+c\n",
    "    return d"
   ]
  },
  {
   "cell_type": "code",
   "execution_count": null,
   "id": "46772ecd",
   "metadata": {},
   "outputs": [],
   "source": []
  },
  {
   "cell_type": "code",
   "execution_count": 61,
   "id": "f28e6d35",
   "metadata": {},
   "outputs": [],
   "source": [
    "def find_largest():\n",
    "    string=input(\"write a string=\")\n",
    "    return len(string)"
   ]
  },
  {
   "cell_type": "code",
   "execution_count": 62,
   "id": "5780b54c",
   "metadata": {},
   "outputs": [
    {
     "name": "stdout",
     "output_type": "stream",
     "text": [
      "write a string=san ds aaaaa\n"
     ]
    },
    {
     "data": {
      "text/plain": [
       "12"
      ]
     },
     "execution_count": 62,
     "metadata": {},
     "output_type": "execute_result"
    }
   ],
   "source": [
    "find_largest()"
   ]
  },
  {
   "cell_type": "code",
   "execution_count": null,
   "id": "58c9513a",
   "metadata": {},
   "outputs": [],
   "source": [
    "write a function in python called find_largest which accept multiple string as argument and returns the length of the largest string"
   ]
  },
  {
   "cell_type": "code",
   "execution_count": 63,
   "id": "d963cd7b",
   "metadata": {},
   "outputs": [],
   "source": [
    "def find_largest(*args):\n",
    "    largest = \"\"\n",
    "    for arg in args:\n",
    "        if len(arg) > len(largest):\n",
    "            largest = arg\n",
    "    return len(largest)"
   ]
  },
  {
   "cell_type": "code",
   "execution_count": null,
   "id": "314b36ca",
   "metadata": {},
   "outputs": [],
   "source": []
  }
 ],
 "metadata": {
  "kernelspec": {
   "display_name": "Python 3 (ipykernel)",
   "language": "python",
   "name": "python3"
  },
  "language_info": {
   "codemirror_mode": {
    "name": "ipython",
    "version": 3
   },
   "file_extension": ".py",
   "mimetype": "text/x-python",
   "name": "python",
   "nbconvert_exporter": "python",
   "pygments_lexer": "ipython3",
   "version": "3.9.12"
  }
 },
 "nbformat": 4,
 "nbformat_minor": 5
}
