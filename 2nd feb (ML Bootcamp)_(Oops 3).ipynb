{
 "cells": [
  {
   "cell_type": "markdown",
   "id": "c38bf1bd",
   "metadata": {},
   "source": [
    "# this is 3 piller of oops\n",
    "\n",
    "# encapulation\n",
    "\n",
    "# inheritance\n",
    "\n",
    "# polymorphism"
   ]
  },
  {
   "cell_type": "code",
   "execution_count": null,
   "id": "b1ca3316",
   "metadata": {},
   "outputs": [],
   "source": []
  },
  {
   "cell_type": "markdown",
   "id": "1017887f",
   "metadata": {},
   "source": [
    "public <variable_name>\n",
    "\n",
    "private __<var_name>\n",
    "\n",
    "protected _<var_name>\n",
    "\n",
    "setattr()\n",
    "\n",
    "getattr()"
   ]
  },
  {
   "cell_type": "code",
   "execution_count": 1,
   "id": "45f155b6",
   "metadata": {},
   "outputs": [],
   "source": [
    "class emp:\n",
    "    def __init__(self):\n",
    "        self.name='santosh'\n",
    "        self.age=26\n",
    "        self.__sal=20000  # private directly not accessiable\n",
    "    def __display(self):\n",
    "        print(self.name,self.age,self.__sal)\n",
    "    def show(self):\n",
    "         self.__display()   "
   ]
  },
  {
   "cell_type": "code",
   "execution_count": 3,
   "id": "cb24c5d1",
   "metadata": {},
   "outputs": [],
   "source": [
    "obj1=emp()"
   ]
  },
  {
   "cell_type": "code",
   "execution_count": 4,
   "id": "236f944d",
   "metadata": {},
   "outputs": [
    {
     "name": "stdout",
     "output_type": "stream",
     "text": [
      "santosh 26 20000\n"
     ]
    }
   ],
   "source": [
    "obj1.show()"
   ]
  },
  {
   "cell_type": "code",
   "execution_count": null,
   "id": "4b0f058c",
   "metadata": {},
   "outputs": [],
   "source": []
  },
  {
   "cell_type": "markdown",
   "id": "26be400e",
   "metadata": {},
   "source": [
    "# inheritance"
   ]
  },
  {
   "cell_type": "markdown",
   "id": "417b27f8",
   "metadata": {},
   "source": [
    "1. simple inheritance\n",
    "2. multilevel inheritance\n",
    "3. multiple inheritance\n",
    "4. hirarchical inheritance\n",
    "5. hybrid inheritance"
   ]
  },
  {
   "cell_type": "code",
   "execution_count": 6,
   "id": "7c9cf779",
   "metadata": {},
   "outputs": [],
   "source": [
    "#simplw\n",
    "class a:\n",
    "    pass\n",
    "class b(a):  # here cass b inheriting class a\n",
    "    pass"
   ]
  },
  {
   "cell_type": "code",
   "execution_count": 7,
   "id": "a26d59d9",
   "metadata": {},
   "outputs": [],
   "source": [
    "#multilevel\n",
    "class A:\n",
    "    pass\n",
    "class B(A):\n",
    "    pass\n",
    "class C(B):\n",
    "    pass"
   ]
  },
  {
   "cell_type": "code",
   "execution_count": 9,
   "id": "fec73169",
   "metadata": {},
   "outputs": [],
   "source": [
    "# multiple\n",
    "class A:\n",
    "    pass\n",
    "class B:\n",
    "    pass\n",
    "class C(A,B):\n",
    "    pass"
   ]
  },
  {
   "cell_type": "code",
   "execution_count": 10,
   "id": "22d01c09",
   "metadata": {},
   "outputs": [],
   "source": [
    "# hirarcial inheritance\n",
    "\n",
    "class A:\n",
    "    pass\n",
    "class B(A):\n",
    "    pass\n",
    "class C(A):\n",
    "    pass"
   ]
  },
  {
   "cell_type": "code",
   "execution_count": 11,
   "id": "4ba226c4",
   "metadata": {},
   "outputs": [],
   "source": [
    "# hybrid inheritance\n",
    "\n",
    "class A:\n",
    "    pass\n",
    "class B(A):\n",
    "    pass\n",
    "class C(A):\n",
    "    pass\n",
    "class D(B,C):\n",
    "    pass"
   ]
  },
  {
   "cell_type": "code",
   "execution_count": 12,
   "id": "4b462bf5",
   "metadata": {},
   "outputs": [],
   "source": [
    "class A:\n",
    "    def __init__(self):\n",
    "        print('hello there')"
   ]
  },
  {
   "cell_type": "code",
   "execution_count": 13,
   "id": "24af671f",
   "metadata": {},
   "outputs": [
    {
     "name": "stdout",
     "output_type": "stream",
     "text": [
      "hello there\n"
     ]
    }
   ],
   "source": [
    "obj=A()"
   ]
  },
  {
   "cell_type": "code",
   "execution_count": 14,
   "id": "63ef8d84",
   "metadata": {},
   "outputs": [],
   "source": [
    "obj2=object()"
   ]
  },
  {
   "cell_type": "code",
   "execution_count": 16,
   "id": "b64a7950",
   "metadata": {},
   "outputs": [
    {
     "data": {
      "text/plain": [
       "['__class__',\n",
       " '__delattr__',\n",
       " '__dir__',\n",
       " '__doc__',\n",
       " '__eq__',\n",
       " '__format__',\n",
       " '__ge__',\n",
       " '__getattribute__',\n",
       " '__gt__',\n",
       " '__hash__',\n",
       " '__init__',\n",
       " '__init_subclass__',\n",
       " '__le__',\n",
       " '__lt__',\n",
       " '__ne__',\n",
       " '__new__',\n",
       " '__reduce__',\n",
       " '__reduce_ex__',\n",
       " '__repr__',\n",
       " '__setattr__',\n",
       " '__sizeof__',\n",
       " '__str__',\n",
       " '__subclasshook__']"
      ]
     },
     "execution_count": 16,
     "metadata": {},
     "output_type": "execute_result"
    }
   ],
   "source": [
    "dir(obj2)"
   ]
  },
  {
   "cell_type": "code",
   "execution_count": 20,
   "id": "25abc473",
   "metadata": {},
   "outputs": [],
   "source": [
    "class A:\n",
    "    def __init__(self):\n",
    "        print('hello there')\n",
    "    def __repr__(self):\n",
    "        return 'i am here'"
   ]
  },
  {
   "cell_type": "code",
   "execution_count": 21,
   "id": "9b997fe5",
   "metadata": {},
   "outputs": [
    {
     "name": "stdout",
     "output_type": "stream",
     "text": [
      "hello there\n"
     ]
    }
   ],
   "source": [
    "myobj=A()"
   ]
  },
  {
   "cell_type": "code",
   "execution_count": 22,
   "id": "91aeaa3f",
   "metadata": {},
   "outputs": [
    {
     "name": "stdout",
     "output_type": "stream",
     "text": [
      "i am here\n"
     ]
    }
   ],
   "source": [
    "print(myobj)"
   ]
  },
  {
   "cell_type": "code",
   "execution_count": 23,
   "id": "e6dc33af",
   "metadata": {},
   "outputs": [],
   "source": [
    "class A:\n",
    "    def __init__(self):\n",
    "        print('hello there')\n",
    "    def __str__(self):\n",
    "        return 'i am here'"
   ]
  },
  {
   "cell_type": "code",
   "execution_count": 24,
   "id": "2d3f3d16",
   "metadata": {},
   "outputs": [
    {
     "name": "stdout",
     "output_type": "stream",
     "text": [
      "hello there\n"
     ]
    }
   ],
   "source": [
    "myobject=A()"
   ]
  },
  {
   "cell_type": "code",
   "execution_count": 25,
   "id": "82893898",
   "metadata": {},
   "outputs": [
    {
     "name": "stdout",
     "output_type": "stream",
     "text": [
      "i am here\n"
     ]
    }
   ],
   "source": [
    "print(myobject)"
   ]
  },
  {
   "cell_type": "code",
   "execution_count": 26,
   "id": "065d881e",
   "metadata": {},
   "outputs": [
    {
     "data": {
      "text/plain": [
       "<__main__.A at 0x21aff7c03a0>"
      ]
     },
     "execution_count": 26,
     "metadata": {},
     "output_type": "execute_result"
    }
   ],
   "source": [
    "myobject"
   ]
  },
  {
   "cell_type": "code",
   "execution_count": null,
   "id": "9c5e0b39",
   "metadata": {},
   "outputs": [],
   "source": [
    "# simple inheritance\n",
    "class animal:\n",
    "    def eat(self):\n",
    "        print('yes it eats')"
   ]
  }
 ],
 "metadata": {
  "kernelspec": {
   "display_name": "Python 3 (ipykernel)",
   "language": "python",
   "name": "python3"
  },
  "language_info": {
   "codemirror_mode": {
    "name": "ipython",
    "version": 3
   },
   "file_extension": ".py",
   "mimetype": "text/x-python",
   "name": "python",
   "nbconvert_exporter": "python",
   "pygments_lexer": "ipython3",
   "version": "3.9.12"
  }
 },
 "nbformat": 4,
 "nbformat_minor": 5
}
