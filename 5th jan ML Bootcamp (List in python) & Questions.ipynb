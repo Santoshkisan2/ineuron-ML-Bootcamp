{
 "cells": [
  {
   "cell_type": "markdown",
   "id": "52ce3fe6",
   "metadata": {},
   "source": [
    "# List in Python"
   ]
  },
  {
   "cell_type": "code",
   "execution_count": null,
   "id": "5b16c0bf",
   "metadata": {},
   "outputs": [],
   "source": []
  },
  {
   "cell_type": "code",
   "execution_count": 1,
   "id": "486daf34",
   "metadata": {},
   "outputs": [],
   "source": [
    "#empty list\n",
    "# we represent the list with square bracket\n",
    "mylist=[]"
   ]
  },
  {
   "cell_type": "code",
   "execution_count": 2,
   "id": "390038b2",
   "metadata": {},
   "outputs": [
    {
     "data": {
      "text/plain": [
       "[]"
      ]
     },
     "execution_count": 2,
     "metadata": {},
     "output_type": "execute_result"
    }
   ],
   "source": [
    "mylist"
   ]
  },
  {
   "cell_type": "code",
   "execution_count": 3,
   "id": "d785540f",
   "metadata": {},
   "outputs": [],
   "source": [
    "#list of integers\n",
    "mylist=[1,2,3,4,5,6]"
   ]
  },
  {
   "cell_type": "code",
   "execution_count": 4,
   "id": "d5e74081",
   "metadata": {},
   "outputs": [
    {
     "data": {
      "text/plain": [
       "[1, 2, 3, 4, 5, 6]"
      ]
     },
     "execution_count": 4,
     "metadata": {},
     "output_type": "execute_result"
    }
   ],
   "source": [
    "mylist"
   ]
  },
  {
   "cell_type": "code",
   "execution_count": 6,
   "id": "b17a2729",
   "metadata": {},
   "outputs": [],
   "source": [
    "#list with different datatype\n",
    "mylist=[1,'hello',2.5]"
   ]
  },
  {
   "cell_type": "code",
   "execution_count": 8,
   "id": "fc787568",
   "metadata": {},
   "outputs": [
    {
     "data": {
      "text/plain": [
       "str"
      ]
     },
     "execution_count": 8,
     "metadata": {},
     "output_type": "execute_result"
    }
   ],
   "source": [
    "number='100'\n",
    "type(number)"
   ]
  },
  {
   "cell_type": "code",
   "execution_count": 11,
   "id": "d98aec5e",
   "metadata": {},
   "outputs": [
    {
     "data": {
      "text/plain": [
       "100"
      ]
     },
     "execution_count": 11,
     "metadata": {},
     "output_type": "execute_result"
    }
   ],
   "source": [
    "int(number)\n"
   ]
  },
  {
   "cell_type": "code",
   "execution_count": 13,
   "id": "d8b946f6",
   "metadata": {},
   "outputs": [],
   "source": [
    "#iterable"
   ]
  },
  {
   "cell_type": "code",
   "execution_count": 15,
   "id": "c1a2310e",
   "metadata": {},
   "outputs": [
    {
     "ename": "TypeError",
     "evalue": "'int' object is not iterable",
     "output_type": "error",
     "traceback": [
      "\u001b[1;31m---------------------------------------------------------------------------\u001b[0m",
      "\u001b[1;31mTypeError\u001b[0m                                 Traceback (most recent call last)",
      "Input \u001b[1;32mIn [15]\u001b[0m, in \u001b[0;36m<cell line: 1>\u001b[1;34m()\u001b[0m\n\u001b[1;32m----> 1\u001b[0m \u001b[38;5;28;43mlist\u001b[39;49m\u001b[43m(\u001b[49m\u001b[38;5;241;43m10\u001b[39;49m\u001b[43m)\u001b[49m\n",
      "\u001b[1;31mTypeError\u001b[0m: 'int' object is not iterable"
     ]
    }
   ],
   "source": [
    "list(10)"
   ]
  },
  {
   "cell_type": "code",
   "execution_count": 16,
   "id": "3b869db3",
   "metadata": {},
   "outputs": [
    {
     "data": {
      "text/plain": [
       "['s', 'u', 'n', 'n', 'y']"
      ]
     },
     "execution_count": 16,
     "metadata": {},
     "output_type": "execute_result"
    }
   ],
   "source": [
    "list('sunny')"
   ]
  },
  {
   "cell_type": "code",
   "execution_count": 20,
   "id": "e7370651",
   "metadata": {},
   "outputs": [
    {
     "data": {
      "text/plain": [
       "[10, 20, 30]"
      ]
     },
     "execution_count": 20,
     "metadata": {},
     "output_type": "execute_result"
    }
   ],
   "source": [
    "list((10,20,30))"
   ]
  },
  {
   "cell_type": "code",
   "execution_count": 18,
   "id": "2d1e62d8",
   "metadata": {},
   "outputs": [
    {
     "data": {
      "text/plain": [
       "[10, 20, 30]"
      ]
     },
     "execution_count": 18,
     "metadata": {},
     "output_type": "execute_result"
    }
   ],
   "source": [
    "list([10,20,30])"
   ]
  },
  {
   "cell_type": "code",
   "execution_count": 21,
   "id": "98b625e6",
   "metadata": {},
   "outputs": [],
   "source": [
    "mylist=[1,2,3,4,45,5,6,7]"
   ]
  },
  {
   "cell_type": "code",
   "execution_count": 22,
   "id": "958c2b73",
   "metadata": {},
   "outputs": [],
   "source": [
    "mynum=[10,20,30,40,50]"
   ]
  },
  {
   "cell_type": "code",
   "execution_count": 23,
   "id": "50b0bdac",
   "metadata": {},
   "outputs": [
    {
     "data": {
      "text/plain": [
       "[20, 30, 40, 50]"
      ]
     },
     "execution_count": 23,
     "metadata": {},
     "output_type": "execute_result"
    }
   ],
   "source": [
    "mynum[1:]"
   ]
  },
  {
   "cell_type": "code",
   "execution_count": 24,
   "id": "3cd975b4",
   "metadata": {},
   "outputs": [
    {
     "data": {
      "text/plain": [
       "[10, 20, 30]"
      ]
     },
     "execution_count": 24,
     "metadata": {},
     "output_type": "execute_result"
    }
   ],
   "source": [
    "mynum[:-2]"
   ]
  },
  {
   "cell_type": "code",
   "execution_count": 29,
   "id": "358346b4",
   "metadata": {},
   "outputs": [],
   "source": [
    "#modify the existing element\n",
    "sports=['cricket','hockey','football']"
   ]
  },
  {
   "cell_type": "code",
   "execution_count": 30,
   "id": "27700d58",
   "metadata": {},
   "outputs": [
    {
     "data": {
      "text/plain": [
       "'hockey'"
      ]
     },
     "execution_count": 30,
     "metadata": {},
     "output_type": "execute_result"
    }
   ],
   "source": [
    "sports[1]"
   ]
  },
  {
   "cell_type": "code",
   "execution_count": 31,
   "id": "595641c2",
   "metadata": {},
   "outputs": [],
   "source": [
    "sports[1]='badminton'"
   ]
  },
  {
   "cell_type": "code",
   "execution_count": 32,
   "id": "5eabd47d",
   "metadata": {},
   "outputs": [
    {
     "data": {
      "text/plain": [
       "['cricket', 'badminton', 'football']"
      ]
     },
     "execution_count": 32,
     "metadata": {},
     "output_type": "execute_result"
    }
   ],
   "source": [
    "sports"
   ]
  },
  {
   "cell_type": "code",
   "execution_count": 35,
   "id": "e26b4799",
   "metadata": {},
   "outputs": [],
   "source": [
    "#slicing element for multiole value\n",
    "sports[1:3]=['basketball','tennis']"
   ]
  },
  {
   "cell_type": "code",
   "execution_count": 36,
   "id": "fddf7305",
   "metadata": {},
   "outputs": [
    {
     "data": {
      "text/plain": [
       "['cricket', 'basketball', 'tennis']"
      ]
     },
     "execution_count": 36,
     "metadata": {},
     "output_type": "execute_result"
    }
   ],
   "source": [
    "sports"
   ]
  },
  {
   "cell_type": "code",
   "execution_count": 37,
   "id": "2cf32157",
   "metadata": {},
   "outputs": [
    {
     "data": {
      "text/plain": [
       "'sunnysavita'"
      ]
     },
     "execution_count": 37,
     "metadata": {},
     "output_type": "execute_result"
    }
   ],
   "source": [
    "#concatinate the list\n",
    "'sunny'+'savita'"
   ]
  },
  {
   "cell_type": "code",
   "execution_count": 38,
   "id": "dbcc7587",
   "metadata": {},
   "outputs": [],
   "source": [
    "outdoorgames=['cricket','basketball','tennis']"
   ]
  },
  {
   "cell_type": "code",
   "execution_count": 39,
   "id": "03bdf1f2",
   "metadata": {},
   "outputs": [],
   "source": [
    "indoorgames=['carrom','ludo','chess']"
   ]
  },
  {
   "cell_type": "code",
   "execution_count": 40,
   "id": "da24b456",
   "metadata": {},
   "outputs": [],
   "source": [
    "all_sports=outdoorgames+indoorgames"
   ]
  },
  {
   "cell_type": "code",
   "execution_count": 41,
   "id": "5e21b6a0",
   "metadata": {},
   "outputs": [
    {
     "data": {
      "text/plain": [
       "['cricket', 'basketball', 'tennis', 'carrom', 'ludo', 'chess']"
      ]
     },
     "execution_count": 41,
     "metadata": {},
     "output_type": "execute_result"
    }
   ],
   "source": [
    "all_sports"
   ]
  },
  {
   "cell_type": "code",
   "execution_count": 42,
   "id": "c5efe3de",
   "metadata": {},
   "outputs": [],
   "source": [
    "ineuron_team=['sunny','krish','sudhanshu']"
   ]
  },
  {
   "cell_type": "code",
   "execution_count": 43,
   "id": "b71e7f10",
   "metadata": {},
   "outputs": [
    {
     "data": {
      "text/plain": [
       "['sunny', 'krish', 'sudhanshu', 's', 'a', 't', 'y', 'a']"
      ]
     },
     "execution_count": 43,
     "metadata": {},
     "output_type": "execute_result"
    }
   ],
   "source": [
    "ineuron_team+list('satya')"
   ]
  },
  {
   "cell_type": "code",
   "execution_count": 46,
   "id": "7af2460a",
   "metadata": {},
   "outputs": [
    {
     "data": {
      "text/plain": [
       "['sunny', 'krish', 'sudhanshu', 'satya']"
      ]
     },
     "execution_count": 46,
     "metadata": {},
     "output_type": "execute_result"
    }
   ],
   "source": [
    "ineuron_team+list(['satya'])"
   ]
  },
  {
   "cell_type": "code",
   "execution_count": 49,
   "id": "653b9cf8",
   "metadata": {},
   "outputs": [
    {
     "data": {
      "text/plain": [
       "['sunny', 'krish', 'sudhanshu', 'rishav']"
      ]
     },
     "execution_count": 49,
     "metadata": {},
     "output_type": "execute_result"
    }
   ],
   "source": [
    "ineuron_team+['rishav']"
   ]
  },
  {
   "cell_type": "code",
   "execution_count": 50,
   "id": "e9f67f2f",
   "metadata": {},
   "outputs": [
    {
     "data": {
      "text/plain": [
       "['sunny',\n",
       " 'krish',\n",
       " 'sudhanshu',\n",
       " 'sunny',\n",
       " 'krish',\n",
       " 'sudhanshu',\n",
       " 'sunny',\n",
       " 'krish',\n",
       " 'sudhanshu']"
      ]
     },
     "execution_count": 50,
     "metadata": {},
     "output_type": "execute_result"
    }
   ],
   "source": [
    "ineuron_team*3"
   ]
  },
  {
   "cell_type": "markdown",
   "id": "edf2e53d",
   "metadata": {},
   "source": [
    "# membership operator\n",
    "# in and not in"
   ]
  },
  {
   "cell_type": "code",
   "execution_count": 52,
   "id": "bba9fbe7",
   "metadata": {},
   "outputs": [
    {
     "data": {
      "text/plain": [
       "True"
      ]
     },
     "execution_count": 52,
     "metadata": {},
     "output_type": "execute_result"
    }
   ],
   "source": [
    "'sunny' in ineuron_team"
   ]
  },
  {
   "cell_type": "code",
   "execution_count": 53,
   "id": "a5ba27a9",
   "metadata": {},
   "outputs": [
    {
     "data": {
      "text/plain": [
       "True"
      ]
     },
     "execution_count": 53,
     "metadata": {},
     "output_type": "execute_result"
    }
   ],
   "source": [
    "'rohit' not in ineuron_team"
   ]
  },
  {
   "cell_type": "code",
   "execution_count": 54,
   "id": "cdc96c64",
   "metadata": {},
   "outputs": [
    {
     "data": {
      "text/plain": [
       "False"
      ]
     },
     "execution_count": 54,
     "metadata": {},
     "output_type": "execute_result"
    }
   ],
   "source": [
    "'krish' not in ineuron_team"
   ]
  },
  {
   "cell_type": "code",
   "execution_count": 56,
   "id": "e0b56e9d",
   "metadata": {},
   "outputs": [
    {
     "data": {
      "text/plain": [
       "False"
      ]
     },
     "execution_count": 56,
     "metadata": {},
     "output_type": "execute_result"
    }
   ],
   "source": [
    "'S' in 'sunny'"
   ]
  },
  {
   "cell_type": "markdown",
   "id": "7f442ace",
   "metadata": {},
   "source": [
    "# list function"
   ]
  },
  {
   "cell_type": "markdown",
   "id": "12b7a5cb",
   "metadata": {},
   "source": []
  },
  {
   "cell_type": "markdown",
   "id": "e96e440b",
   "metadata": {},
   "source": [
    "len()\n",
    "max()\n",
    "min()\n",
    "sum()\n",
    "sorted()\n",
    "any()\n",
    "all()\n",
    "list()"
   ]
  },
  {
   "cell_type": "markdown",
   "id": "4b763f94",
   "metadata": {},
   "source": [
    "## list methods"
   ]
  },
  {
   "cell_type": "code",
   "execution_count": null,
   "id": "8cc048ec",
   "metadata": {},
   "outputs": [],
   "source": []
  },
  {
   "cell_type": "markdown",
   "id": "f001c374",
   "metadata": {},
   "source": [
    "append()\n",
    "extend()\n",
    "insert()\n",
    "index()\n",
    "count()\n",
    "remove()\n",
    "pop()\n",
    "clear()\n",
    "reverse()\n",
    "sort()"
   ]
  },
  {
   "cell_type": "code",
   "execution_count": null,
   "id": "98d1c6a7",
   "metadata": {},
   "outputs": [],
   "source": []
  },
  {
   "cell_type": "markdown",
   "id": "83aabbff",
   "metadata": {},
   "source": [
    "# List Comprehension"
   ]
  },
  {
   "cell_type": "code",
   "execution_count": 59,
   "id": "c25ec9f7",
   "metadata": {},
   "outputs": [],
   "source": [
    "mynum=[1,2,3,4,5,6,67,8]"
   ]
  },
  {
   "cell_type": "code",
   "execution_count": 60,
   "id": "424016ea",
   "metadata": {},
   "outputs": [
    {
     "data": {
      "text/plain": [
       "8"
      ]
     },
     "execution_count": 60,
     "metadata": {},
     "output_type": "execute_result"
    }
   ],
   "source": [
    "# len() gives length\n",
    "len(mynum)"
   ]
  },
  {
   "cell_type": "code",
   "execution_count": 61,
   "id": "7e4809d6",
   "metadata": {},
   "outputs": [
    {
     "data": {
      "text/plain": [
       "67"
      ]
     },
     "execution_count": 61,
     "metadata": {},
     "output_type": "execute_result"
    }
   ],
   "source": [
    "max(mynum)"
   ]
  },
  {
   "cell_type": "code",
   "execution_count": 62,
   "id": "80abbe0e",
   "metadata": {},
   "outputs": [
    {
     "data": {
      "text/plain": [
       "1"
      ]
     },
     "execution_count": 62,
     "metadata": {},
     "output_type": "execute_result"
    }
   ],
   "source": [
    "min(mynum)"
   ]
  },
  {
   "cell_type": "code",
   "execution_count": 63,
   "id": "0807d317",
   "metadata": {},
   "outputs": [
    {
     "data": {
      "text/plain": [
       "96"
      ]
     },
     "execution_count": 63,
     "metadata": {},
     "output_type": "execute_result"
    }
   ],
   "source": [
    "sum(mynum)"
   ]
  },
  {
   "cell_type": "code",
   "execution_count": 64,
   "id": "be071c0e",
   "metadata": {},
   "outputs": [
    {
     "data": {
      "text/plain": [
       "[1, 2, 3, 4, 5, 6, 8, 67]"
      ]
     },
     "execution_count": 64,
     "metadata": {},
     "output_type": "execute_result"
    }
   ],
   "source": [
    "sorted(mynum)"
   ]
  },
  {
   "cell_type": "code",
   "execution_count": 65,
   "id": "e3bc34a2",
   "metadata": {},
   "outputs": [
    {
     "data": {
      "text/plain": [
       "[67, 8, 6, 5, 4, 3, 2, 1]"
      ]
     },
     "execution_count": 65,
     "metadata": {},
     "output_type": "execute_result"
    }
   ],
   "source": [
    "sorted(mynum,reverse=True)"
   ]
  },
  {
   "cell_type": "markdown",
   "id": "6e512f40",
   "metadata": {},
   "source": [
    "# if all the element is true in the list it will give me a true otherwise flase"
   ]
  },
  {
   "cell_type": "code",
   "execution_count": 66,
   "id": "1f009abf",
   "metadata": {},
   "outputs": [
    {
     "data": {
      "text/plain": [
       "True"
      ]
     },
     "execution_count": 66,
     "metadata": {},
     "output_type": "execute_result"
    }
   ],
   "source": [
    "all(mynum)"
   ]
  },
  {
   "cell_type": "code",
   "execution_count": 67,
   "id": "f3647477",
   "metadata": {},
   "outputs": [],
   "source": [
    "# 0,0.0,False,0+0j this vales in python is always false"
   ]
  },
  {
   "cell_type": "code",
   "execution_count": 68,
   "id": "a942d912",
   "metadata": {},
   "outputs": [],
   "source": [
    "mynum2=[0,1,2,323]"
   ]
  },
  {
   "cell_type": "code",
   "execution_count": 69,
   "id": "a2f3d428",
   "metadata": {},
   "outputs": [
    {
     "data": {
      "text/plain": [
       "False"
      ]
     },
     "execution_count": 69,
     "metadata": {},
     "output_type": "execute_result"
    }
   ],
   "source": [
    "all(mynum2)"
   ]
  },
  {
   "cell_type": "code",
   "execution_count": 70,
   "id": "d5586927",
   "metadata": {},
   "outputs": [],
   "source": [
    "mynum3=[0,False,1,2,45]"
   ]
  },
  {
   "cell_type": "code",
   "execution_count": 71,
   "id": "46e265fc",
   "metadata": {},
   "outputs": [
    {
     "data": {
      "text/plain": [
       "False"
      ]
     },
     "execution_count": 71,
     "metadata": {},
     "output_type": "execute_result"
    }
   ],
   "source": [
    "all(mynum3)"
   ]
  },
  {
   "cell_type": "code",
   "execution_count": 83,
   "id": "9ec1255b",
   "metadata": {},
   "outputs": [],
   "source": [
    "primes=[2,3,5,7,11]"
   ]
  },
  {
   "cell_type": "code",
   "execution_count": 84,
   "id": "2b802637",
   "metadata": {},
   "outputs": [],
   "source": [
    "primes.append(13) # list method is written this way"
   ]
  },
  {
   "cell_type": "code",
   "execution_count": 85,
   "id": "3c4e6905",
   "metadata": {},
   "outputs": [
    {
     "data": {
      "text/plain": [
       "[2, 3, 5, 7, 11, 13]"
      ]
     },
     "execution_count": 85,
     "metadata": {},
     "output_type": "execute_result"
    }
   ],
   "source": [
    "primes"
   ]
  },
  {
   "cell_type": "code",
   "execution_count": 86,
   "id": "5c28a952",
   "metadata": {},
   "outputs": [
    {
     "data": {
      "text/plain": [
       "6"
      ]
     },
     "execution_count": 86,
     "metadata": {},
     "output_type": "execute_result"
    }
   ],
   "source": [
    "len(primes) # list function is written this way"
   ]
  },
  {
   "cell_type": "code",
   "execution_count": 87,
   "id": "6590b5ec",
   "metadata": {},
   "outputs": [],
   "source": [
    "animal=['dog','cat','rabbit']"
   ]
  },
  {
   "cell_type": "code",
   "execution_count": 88,
   "id": "418ad071",
   "metadata": {},
   "outputs": [],
   "source": [
    "animal.append('tiger')"
   ]
  },
  {
   "cell_type": "code",
   "execution_count": 89,
   "id": "da482499",
   "metadata": {},
   "outputs": [
    {
     "data": {
      "text/plain": [
       "['dog', 'cat', 'rabbit', 'tiger']"
      ]
     },
     "execution_count": 89,
     "metadata": {},
     "output_type": "execute_result"
    }
   ],
   "source": [
    "animal"
   ]
  },
  {
   "cell_type": "code",
   "execution_count": 90,
   "id": "33f02358",
   "metadata": {},
   "outputs": [],
   "source": [
    "wild_animal=['lion','fox']"
   ]
  },
  {
   "cell_type": "code",
   "execution_count": 91,
   "id": "baffcab2",
   "metadata": {},
   "outputs": [],
   "source": [
    "animal.append(wild_animal)"
   ]
  },
  {
   "cell_type": "code",
   "execution_count": 92,
   "id": "33623cba",
   "metadata": {},
   "outputs": [
    {
     "data": {
      "text/plain": [
       "['dog', 'cat', 'rabbit', 'tiger', ['lion', 'fox']]"
      ]
     },
     "execution_count": 92,
     "metadata": {},
     "output_type": "execute_result"
    }
   ],
   "source": [
    "animal"
   ]
  },
  {
   "cell_type": "code",
   "execution_count": 93,
   "id": "4c90853b",
   "metadata": {},
   "outputs": [],
   "source": [
    "animal.extend(wild_animal)"
   ]
  },
  {
   "cell_type": "code",
   "execution_count": 94,
   "id": "d46a77c6",
   "metadata": {},
   "outputs": [
    {
     "data": {
      "text/plain": [
       "['dog', 'cat', 'rabbit', 'tiger', ['lion', 'fox'], 'lion', 'fox']"
      ]
     },
     "execution_count": 94,
     "metadata": {},
     "output_type": "execute_result"
    }
   ],
   "source": [
    "animal"
   ]
  },
  {
   "cell_type": "code",
   "execution_count": 95,
   "id": "a2d6fa57",
   "metadata": {},
   "outputs": [],
   "source": [
    "animal.remove('lion')"
   ]
  },
  {
   "cell_type": "code",
   "execution_count": 96,
   "id": "cfd34fe7",
   "metadata": {},
   "outputs": [
    {
     "data": {
      "text/plain": [
       "['dog', 'cat', 'rabbit', 'tiger', ['lion', 'fox'], 'fox']"
      ]
     },
     "execution_count": 96,
     "metadata": {},
     "output_type": "execute_result"
    }
   ],
   "source": [
    "animal"
   ]
  },
  {
   "cell_type": "code",
   "execution_count": 97,
   "id": "b66e057f",
   "metadata": {},
   "outputs": [],
   "source": [
    "# nesting in the function"
   ]
  },
  {
   "cell_type": "code",
   "execution_count": null,
   "id": "e2fdea91",
   "metadata": {},
   "outputs": [],
   "source": []
  },
  {
   "cell_type": "code",
   "execution_count": 104,
   "id": "9846a25e",
   "metadata": {},
   "outputs": [],
   "source": [
    "mynums=[1,2,34,5,6,456,45,3323,2323]"
   ]
  },
  {
   "cell_type": "code",
   "execution_count": 105,
   "id": "3305877e",
   "metadata": {},
   "outputs": [],
   "source": [
    "mynums.extend(['2000'])"
   ]
  },
  {
   "cell_type": "code",
   "execution_count": 106,
   "id": "61633826",
   "metadata": {},
   "outputs": [
    {
     "data": {
      "text/plain": [
       "[1, 2, 34, 5, 6, 456, 45, 3323, 2323, '2000']"
      ]
     },
     "execution_count": 106,
     "metadata": {},
     "output_type": "execute_result"
    }
   ],
   "source": [
    "mynums"
   ]
  },
  {
   "cell_type": "code",
   "execution_count": 107,
   "id": "68de0ccc",
   "metadata": {},
   "outputs": [],
   "source": [
    "primes=[2,3,45,7,11]"
   ]
  },
  {
   "cell_type": "code",
   "execution_count": 108,
   "id": "59a00618",
   "metadata": {},
   "outputs": [],
   "source": [
    "primes[3]=9"
   ]
  },
  {
   "cell_type": "code",
   "execution_count": 109,
   "id": "e2c6c685",
   "metadata": {},
   "outputs": [
    {
     "data": {
      "text/plain": [
       "[2, 3, 45, 9, 11]"
      ]
     },
     "execution_count": 109,
     "metadata": {},
     "output_type": "execute_result"
    }
   ],
   "source": [
    "primes"
   ]
  },
  {
   "cell_type": "code",
   "execution_count": 110,
   "id": "77501720",
   "metadata": {},
   "outputs": [],
   "source": [
    "# insert(index,value)"
   ]
  },
  {
   "cell_type": "code",
   "execution_count": 111,
   "id": "3b620b20",
   "metadata": {},
   "outputs": [],
   "source": [
    "primes.insert(3,1000)"
   ]
  },
  {
   "cell_type": "code",
   "execution_count": 112,
   "id": "a6e475af",
   "metadata": {},
   "outputs": [
    {
     "data": {
      "text/plain": [
       "[2, 3, 45, 1000, 9, 11]"
      ]
     },
     "execution_count": 112,
     "metadata": {},
     "output_type": "execute_result"
    }
   ],
   "source": [
    "primes"
   ]
  },
  {
   "cell_type": "code",
   "execution_count": 113,
   "id": "45a6f7e1",
   "metadata": {},
   "outputs": [
    {
     "data": {
      "text/plain": [
       "[1, 2, 34, 5, 6, 456, 45, 3323, 2323, '2000']"
      ]
     },
     "execution_count": 113,
     "metadata": {},
     "output_type": "execute_result"
    }
   ],
   "source": [
    "mynums"
   ]
  },
  {
   "cell_type": "code",
   "execution_count": 114,
   "id": "b2c28135",
   "metadata": {},
   "outputs": [
    {
     "data": {
      "text/plain": [
       "1"
      ]
     },
     "execution_count": 114,
     "metadata": {},
     "output_type": "execute_result"
    }
   ],
   "source": [
    "mynums.count(2)"
   ]
  },
  {
   "cell_type": "code",
   "execution_count": 117,
   "id": "c8aeab64",
   "metadata": {},
   "outputs": [
    {
     "data": {
      "text/plain": [
       "3"
      ]
     },
     "execution_count": 117,
     "metadata": {},
     "output_type": "execute_result"
    }
   ],
   "source": [
    "mynums.index(5) # getting the index position of the given element"
   ]
  },
  {
   "cell_type": "code",
   "execution_count": 120,
   "id": "8e61aa2e",
   "metadata": {},
   "outputs": [
    {
     "data": {
      "text/plain": [
       "10"
      ]
     },
     "execution_count": 120,
     "metadata": {},
     "output_type": "execute_result"
    }
   ],
   "source": [
    "len(mynums)"
   ]
  },
  {
   "cell_type": "code",
   "execution_count": 121,
   "id": "9c37e622",
   "metadata": {},
   "outputs": [
    {
     "data": {
      "text/plain": [
       "9"
      ]
     },
     "execution_count": 121,
     "metadata": {},
     "output_type": "execute_result"
    }
   ],
   "source": [
    "len(mynums)-1"
   ]
  },
  {
   "cell_type": "code",
   "execution_count": 126,
   "id": "3a074414",
   "metadata": {},
   "outputs": [],
   "source": [
    "vowels=['a','e','i','o','u']"
   ]
  },
  {
   "cell_type": "code",
   "execution_count": 127,
   "id": "c812ebe1",
   "metadata": {},
   "outputs": [],
   "source": [
    "vowels.remove('a') # it will remove first matching element"
   ]
  },
  {
   "cell_type": "code",
   "execution_count": 128,
   "id": "19015d34",
   "metadata": {},
   "outputs": [
    {
     "data": {
      "text/plain": [
       "['e', 'i', 'o', 'u']"
      ]
     },
     "execution_count": 128,
     "metadata": {},
     "output_type": "execute_result"
    }
   ],
   "source": [
    "vowels"
   ]
  },
  {
   "cell_type": "code",
   "execution_count": 129,
   "id": "fb296d3d",
   "metadata": {},
   "outputs": [],
   "source": [
    "#pop"
   ]
  },
  {
   "cell_type": "code",
   "execution_count": 130,
   "id": "49f02120",
   "metadata": {},
   "outputs": [],
   "source": [
    "#pop method removes and return the element at the given index"
   ]
  },
  {
   "cell_type": "code",
   "execution_count": 131,
   "id": "781a6332",
   "metadata": {},
   "outputs": [],
   "source": [
    "fruits=['apple','banana','orange']"
   ]
  },
  {
   "cell_type": "code",
   "execution_count": 132,
   "id": "5f79587c",
   "metadata": {},
   "outputs": [
    {
     "data": {
      "text/plain": [
       "'banana'"
      ]
     },
     "execution_count": 132,
     "metadata": {},
     "output_type": "execute_result"
    }
   ],
   "source": [
    "fruits.pop(1)"
   ]
  },
  {
   "cell_type": "code",
   "execution_count": 133,
   "id": "de911b9c",
   "metadata": {},
   "outputs": [
    {
     "data": {
      "text/plain": [
       "['apple', 'orange']"
      ]
     },
     "execution_count": 133,
     "metadata": {},
     "output_type": "execute_result"
    }
   ],
   "source": [
    "fruits"
   ]
  },
  {
   "cell_type": "code",
   "execution_count": 136,
   "id": "251e3f52",
   "metadata": {},
   "outputs": [],
   "source": [
    "fruits.clear() # everything will be empty"
   ]
  },
  {
   "cell_type": "code",
   "execution_count": 137,
   "id": "10467213",
   "metadata": {},
   "outputs": [
    {
     "data": {
      "text/plain": [
       "[]"
      ]
     },
     "execution_count": 137,
     "metadata": {},
     "output_type": "execute_result"
    }
   ],
   "source": [
    "fruits"
   ]
  },
  {
   "cell_type": "code",
   "execution_count": 138,
   "id": "6806465a",
   "metadata": {},
   "outputs": [
    {
     "data": {
      "text/plain": [
       "[1, 2, 3, 4, 45, 5, 6, 7]"
      ]
     },
     "execution_count": 138,
     "metadata": {},
     "output_type": "execute_result"
    }
   ],
   "source": [
    "mylist"
   ]
  },
  {
   "cell_type": "code",
   "execution_count": 139,
   "id": "883c57e3",
   "metadata": {},
   "outputs": [],
   "source": [
    "mylist.reverse()"
   ]
  },
  {
   "cell_type": "code",
   "execution_count": 140,
   "id": "94cb4666",
   "metadata": {},
   "outputs": [
    {
     "data": {
      "text/plain": [
       "[7, 6, 5, 45, 4, 3, 2, 1]"
      ]
     },
     "execution_count": 140,
     "metadata": {},
     "output_type": "execute_result"
    }
   ],
   "source": [
    "mylist"
   ]
  },
  {
   "cell_type": "code",
   "execution_count": 141,
   "id": "fb201a44",
   "metadata": {},
   "outputs": [],
   "source": [
    "mylist.sort()"
   ]
  },
  {
   "cell_type": "code",
   "execution_count": 142,
   "id": "9ff0330b",
   "metadata": {},
   "outputs": [
    {
     "data": {
      "text/plain": [
       "[1, 2, 3, 4, 5, 6, 7, 45]"
      ]
     },
     "execution_count": 142,
     "metadata": {},
     "output_type": "execute_result"
    }
   ],
   "source": [
    "mylist"
   ]
  },
  {
   "cell_type": "code",
   "execution_count": 144,
   "id": "6ef01b2a",
   "metadata": {},
   "outputs": [],
   "source": [
    "mylist.sort(reverse=True)"
   ]
  },
  {
   "cell_type": "code",
   "execution_count": 145,
   "id": "f82980ef",
   "metadata": {},
   "outputs": [
    {
     "data": {
      "text/plain": [
       "[45, 7, 6, 5, 4, 3, 2, 1]"
      ]
     },
     "execution_count": 145,
     "metadata": {},
     "output_type": "execute_result"
    }
   ],
   "source": [
    "mylist"
   ]
  },
  {
   "cell_type": "code",
   "execution_count": 146,
   "id": "a242365e",
   "metadata": {},
   "outputs": [],
   "source": [
    "# list method in python"
   ]
  },
  {
   "cell_type": "code",
   "execution_count": 147,
   "id": "3f4ff6ee",
   "metadata": {},
   "outputs": [
    {
     "data": {
      "text/plain": [
       "[1, 2, 34, 5, 6, 456, 45, 3323, 2323, '2000']"
      ]
     },
     "execution_count": 147,
     "metadata": {},
     "output_type": "execute_result"
    }
   ],
   "source": [
    "# print all the element with while as well as for loop\n",
    "mynums"
   ]
  },
  {
   "cell_type": "code",
   "execution_count": 148,
   "id": "4ae9bfa1",
   "metadata": {},
   "outputs": [
    {
     "name": "stdout",
     "output_type": "stream",
     "text": [
      "1\n",
      "2\n",
      "34\n",
      "5\n",
      "6\n",
      "456\n",
      "45\n",
      "3323\n",
      "2323\n",
      "2000\n"
     ]
    }
   ],
   "source": [
    "i=0\n",
    "while i<len(mynums):\n",
    "    print(mynums[i])\n",
    "    i=i+1\n",
    "    "
   ]
  },
  {
   "cell_type": "code",
   "execution_count": 149,
   "id": "47959b0b",
   "metadata": {},
   "outputs": [
    {
     "name": "stdout",
     "output_type": "stream",
     "text": [
      "1\n",
      "2\n",
      "34\n",
      "5\n",
      "6\n",
      "456\n",
      "45\n",
      "3323\n",
      "2323\n",
      "2000\n"
     ]
    }
   ],
   "source": [
    "for i in mynums:\n",
    "    print(i)"
   ]
  },
  {
   "cell_type": "code",
   "execution_count": null,
   "id": "b282fb01",
   "metadata": {},
   "outputs": [],
   "source": []
  },
  {
   "cell_type": "markdown",
   "id": "82c20eff",
   "metadata": {},
   "source": [
    "# Questions"
   ]
  },
  {
   "cell_type": "markdown",
   "id": "05443087",
   "metadata": {},
   "source": [
    "Q1 Write a program to accept five integers from the user , store them in a list . Display these integers and also display their sum"
   ]
  },
  {
   "cell_type": "code",
   "execution_count": 59,
   "id": "8d7adb93",
   "metadata": {},
   "outputs": [
    {
     "name": "stdout",
     "output_type": "stream",
     "text": [
      "Write five intrger with single space:0 1 2 3 4\n",
      "My list of numbers are ['0', '1', '2', '3', '4']\n",
      "Sum of my list of numbers is 10\n"
     ]
    }
   ],
   "source": [
    "n1,n2,n3,n4,n5=input('Write five intrger with single space:').split()\n",
    "mylist=[n1,n2,n3,n4,n5]\n",
    "mylist_sum=int(n1)+int(n2)+int(n3)+int(n4)+int(n5)\n",
    "print('My list of numbers are {}'.format(mylist))\n",
    "print('Sum of my list of numbers is {}'.format(mylist_sum))"
   ]
  },
  {
   "cell_type": "code",
   "execution_count": null,
   "id": "6ff7abee",
   "metadata": {},
   "outputs": [],
   "source": []
  },
  {
   "cell_type": "markdown",
   "id": "db45973f",
   "metadata": {},
   "source": [
    "Q2 Write a program to accept 5 unique integers from the user. Make sure if the integer being entered is already present in the list your code displays the message “Item already present” and ask the user to reenter the integer. "
   ]
  },
  {
   "cell_type": "code",
   "execution_count": 74,
   "id": "9f72f091",
   "metadata": {},
   "outputs": [
    {
     "name": "stdout",
     "output_type": "stream",
     "text": [
      "Write five unique integer:9 8 7 6 5\n",
      "My previous list of numbers are ['0', '1', '2', '3', '4']\n",
      "My new list of numbers are ['9', '8', '7', '6', '5']\n",
      "You have entered unique list of integer\n"
     ]
    }
   ],
   "source": [
    "\n",
    "n6,n7,n8,n9,n10=input('Write five unique integer:').split()\n",
    "print('My previous list of numbers are {}'.format(mylist))\n",
    "mylist2=[n6,n7,n8,n9,n10]\n",
    "print('My new list of numbers are {}'.format(mylist2))\n",
    "common=set(mylist2) & set(mylist)\n",
    "if common ==set():\n",
    "    print('You have entered unique list of integer')\n",
    "\n",
    "else:\n",
    "    \n",
    "    n6,n7,n8,n9,n10=input('Write five unique integer again:').split()\n",
    "    \n"
   ]
  },
  {
   "cell_type": "code",
   "execution_count": null,
   "id": "5a8631b8",
   "metadata": {},
   "outputs": [],
   "source": [
    "\n"
   ]
  },
  {
   "cell_type": "code",
   "execution_count": null,
   "id": "8b1c84c0",
   "metadata": {},
   "outputs": [],
   "source": []
  },
  {
   "cell_type": "markdown",
   "id": "8b26a23b",
   "metadata": {},
   "source": [
    "Q3 Write a program to accept 2 lists from the user of 5 nos each . Assume each list will have unique nos Now find out how many items in these lists are common ."
   ]
  },
  {
   "cell_type": "code",
   "execution_count": 75,
   "id": "deac1032",
   "metadata": {},
   "outputs": [
    {
     "name": "stdout",
     "output_type": "stream",
     "text": [
      "Write five uniue intrger with single space:4 5 6 2 1\n",
      "Write five uniue intrger with single space:7 8 5 6 4\n",
      "3 items are common\n"
     ]
    }
   ],
   "source": [
    "n1,n2,n3,n4,n5=input('Write five uniue intrger with single space:').split()\n",
    "n6,n7,n8,n9,n10=input('Write five uniue intrger with single space:').split()\n",
    "list1=[n1,n2,n3,n4,n5]\n",
    "list2=[n6,n7,n8,n9,n10]\n",
    "common=(set(list1)&set(list2))\n",
    "if common:\n",
    "    print('{} items are common'.format(len(common)))\n",
    "else:\n",
    "    print ('Nothing is common')"
   ]
  },
  {
   "cell_type": "code",
   "execution_count": null,
   "id": "e3ddbf16",
   "metadata": {},
   "outputs": [],
   "source": []
  },
  {
   "cell_type": "code",
   "execution_count": null,
   "id": "25acab09",
   "metadata": {},
   "outputs": [],
   "source": []
  },
  {
   "cell_type": "markdown",
   "id": "fc019750",
   "metadata": {},
   "source": [
    "Q4 Rewrite the previous code so that your code also displays the items which are common in both the lists"
   ]
  },
  {
   "cell_type": "code",
   "execution_count": 25,
   "id": "1a7e2b6c",
   "metadata": {},
   "outputs": [
    {
     "name": "stdout",
     "output_type": "stream",
     "text": [
      "Write five uniue intrger with single space:1 2 3 0 4 \n",
      "Write five uniue intrger with single space:5 4 6 2 1\n",
      "3 items are common\n",
      "{'2', '1', '4'}\n"
     ]
    }
   ],
   "source": [
    "n1,n2,n3,n4,n5=input('Write five uniue intrger with single space:').split()\n",
    "n6,n7,n8,n9,n10=input('Write five uniue intrger with single space:').split()\n",
    "list1=[n1,n2,n3,n4,n5]\n",
    "list2=[n6,n7,n8,n9,n10]\n",
    "common=(set(list1)&set(list2))\n",
    "if common:\n",
    "    print('{} items are common'.format(len(common)))\n",
    "    print(common)\n",
    "else:\n",
    "    print ('Nothing is common')"
   ]
  },
  {
   "cell_type": "code",
   "execution_count": null,
   "id": "6e0a4f3f",
   "metadata": {},
   "outputs": [],
   "source": [
    "\n"
   ]
  },
  {
   "cell_type": "code",
   "execution_count": null,
   "id": "66281fb3",
   "metadata": {},
   "outputs": [],
   "source": []
  }
 ],
 "metadata": {
  "kernelspec": {
   "display_name": "Python 3 (ipykernel)",
   "language": "python",
   "name": "python3"
  },
  "language_info": {
   "codemirror_mode": {
    "name": "ipython",
    "version": 3
   },
   "file_extension": ".py",
   "mimetype": "text/x-python",
   "name": "python",
   "nbconvert_exporter": "python",
   "pygments_lexer": "ipython3",
   "version": "3.9.12"
  }
 },
 "nbformat": 4,
 "nbformat_minor": 5
}
