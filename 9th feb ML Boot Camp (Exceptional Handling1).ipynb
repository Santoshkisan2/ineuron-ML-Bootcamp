{
 "cells": [
  {
   "cell_type": "markdown",
   "id": "4257f78e",
   "metadata": {},
   "source": [
    "1. compile error or syntax error\n",
    "\n",
    "2. runtime error or exceptional error"
   ]
  },
  {
   "cell_type": "code",
   "execution_count": 1,
   "id": "a098dbfb",
   "metadata": {},
   "outputs": [
    {
     "name": "stdout",
     "output_type": "stream",
     "text": [
      "enter first number52\n",
      "enter second number56\n",
      "div is  0.9285714285714286\n",
      "sum is : 108\n"
     ]
    }
   ],
   "source": [
    "a=int(input(\"enter first number\"))\n",
    "b=int(input(\"enter second number\"))\n",
    "c=a/b\n",
    "print(\"div is \",c)\n",
    "d=a+b\n",
    "print(\"sum is :\",d)"
   ]
  },
  {
   "cell_type": "code",
   "execution_count": 2,
   "id": "642b7835",
   "metadata": {},
   "outputs": [
    {
     "ename": "SyntaxError",
     "evalue": "invalid syntax (3020386958.py, line 2)",
     "output_type": "error",
     "traceback": [
      "\u001b[1;36m  Input \u001b[1;32mIn [2]\u001b[1;36m\u001b[0m\n\u001b[1;33m    b=int(input(\"enter second number\"))\u001b[0m\n\u001b[1;37m    ^\u001b[0m\n\u001b[1;31mSyntaxError\u001b[0m\u001b[1;31m:\u001b[0m invalid syntax\n"
     ]
    }
   ],
   "source": [
    "a=int(input(\"enter first number\") # compile error\n",
    "b=int(input(\"enter second number\"))\n",
    "c=a/b\n",
    "print(\"div is \",c)\n",
    "d=a+b\n",
    "print(\"sum is :\",d)"
   ]
  },
  {
   "cell_type": "code",
   "execution_count": 3,
   "id": "8dad8c90",
   "metadata": {},
   "outputs": [
    {
     "name": "stdout",
     "output_type": "stream",
     "text": [
      "enter first number41\n",
      "enter second number51\n"
     ]
    },
    {
     "ename": "NameError",
     "evalue": "name 'ab' is not defined",
     "output_type": "error",
     "traceback": [
      "\u001b[1;31m---------------------------------------------------------------------------\u001b[0m",
      "\u001b[1;31mNameError\u001b[0m                                 Traceback (most recent call last)",
      "Input \u001b[1;32mIn [3]\u001b[0m, in \u001b[0;36m<cell line: 3>\u001b[1;34m()\u001b[0m\n\u001b[0;32m      1\u001b[0m a\u001b[38;5;241m=\u001b[39m\u001b[38;5;28mint\u001b[39m(\u001b[38;5;28minput\u001b[39m(\u001b[38;5;124m\"\u001b[39m\u001b[38;5;124menter first number\u001b[39m\u001b[38;5;124m\"\u001b[39m))\n\u001b[0;32m      2\u001b[0m b\u001b[38;5;241m=\u001b[39m\u001b[38;5;28mint\u001b[39m(\u001b[38;5;28minput\u001b[39m(\u001b[38;5;124m\"\u001b[39m\u001b[38;5;124menter second number\u001b[39m\u001b[38;5;124m\"\u001b[39m))\n\u001b[1;32m----> 3\u001b[0m c\u001b[38;5;241m=\u001b[39m\u001b[43mab\u001b[49m\n\u001b[0;32m      4\u001b[0m \u001b[38;5;28mprint\u001b[39m(\u001b[38;5;124m\"\u001b[39m\u001b[38;5;124mdiv is \u001b[39m\u001b[38;5;124m\"\u001b[39m,c)\n\u001b[0;32m      5\u001b[0m d\u001b[38;5;241m=\u001b[39ma\u001b[38;5;241m+\u001b[39mb\n",
      "\u001b[1;31mNameError\u001b[0m: name 'ab' is not defined"
     ]
    }
   ],
   "source": [
    "a=int(input(\"enter first number\"))\n",
    "b=int(input(\"enter second number\"))\n",
    "c=ab  # runtime error\n",
    "print(\"div is \",c)\n",
    "d=a+b\n",
    "print(\"sum is :\",d)"
   ]
  },
  {
   "cell_type": "code",
   "execution_count": 4,
   "id": "9ff22d4c",
   "metadata": {
    "scrolled": true
   },
   "outputs": [
    {
     "ename": "NameError",
     "evalue": "name 'x' is not defined",
     "output_type": "error",
     "traceback": [
      "\u001b[1;31m---------------------------------------------------------------------------\u001b[0m",
      "\u001b[1;31mNameError\u001b[0m                                 Traceback (most recent call last)",
      "Input \u001b[1;32mIn [4]\u001b[0m, in \u001b[0;36m<cell line: 1>\u001b[1;34m()\u001b[0m\n\u001b[1;32m----> 1\u001b[0m \u001b[43mx\u001b[49m\n",
      "\u001b[1;31mNameError\u001b[0m: name 'x' is not defined"
     ]
    }
   ],
   "source": [
    "x"
   ]
  },
  {
   "cell_type": "code",
   "execution_count": 9,
   "id": "5d6a5cd4",
   "metadata": {},
   "outputs": [
    {
     "name": "stdout",
     "output_type": "stream",
     "text": [
      "enter first number10\n",
      "enter second number2m\n"
     ]
    },
    {
     "ename": "ValueError",
     "evalue": "invalid literal for int() with base 10: '2m'",
     "output_type": "error",
     "traceback": [
      "\u001b[1;31m---------------------------------------------------------------------------\u001b[0m",
      "\u001b[1;31mValueError\u001b[0m                                Traceback (most recent call last)",
      "Input \u001b[1;32mIn [9]\u001b[0m, in \u001b[0;36m<cell line: 2>\u001b[1;34m()\u001b[0m\n\u001b[0;32m      1\u001b[0m a\u001b[38;5;241m=\u001b[39m\u001b[38;5;28mint\u001b[39m(\u001b[38;5;28minput\u001b[39m(\u001b[38;5;124m\"\u001b[39m\u001b[38;5;124menter first number\u001b[39m\u001b[38;5;124m\"\u001b[39m))\n\u001b[1;32m----> 2\u001b[0m b\u001b[38;5;241m=\u001b[39m\u001b[38;5;28;43mint\u001b[39;49m\u001b[43m(\u001b[49m\u001b[38;5;28;43minput\u001b[39;49m\u001b[43m(\u001b[49m\u001b[38;5;124;43m\"\u001b[39;49m\u001b[38;5;124;43menter second number\u001b[39;49m\u001b[38;5;124;43m\"\u001b[39;49m\u001b[43m)\u001b[49m\u001b[43m)\u001b[49m\n\u001b[0;32m      3\u001b[0m c\u001b[38;5;241m=\u001b[39ma\u001b[38;5;241m/\u001b[39mb\n\u001b[0;32m      4\u001b[0m \u001b[38;5;28mprint\u001b[39m(\u001b[38;5;124m\"\u001b[39m\u001b[38;5;124mdiv is \u001b[39m\u001b[38;5;124m\"\u001b[39m,c)\n",
      "\u001b[1;31mValueError\u001b[0m: invalid literal for int() with base 10: '2m'"
     ]
    }
   ],
   "source": [
    "a=int(input(\"enter first number\"))\n",
    "b=int(input(\"enter second number\"))\n",
    "c=a/b\n",
    "print(\"div is \",c)\n",
    "d=a+b\n",
    "print(\"sum is :\",d)"
   ]
  },
  {
   "cell_type": "code",
   "execution_count": 7,
   "id": "5a256e6b",
   "metadata": {},
   "outputs": [
    {
     "ename": "SyntaxError",
     "evalue": "invalid syntax (3514276477.py, line 3)",
     "output_type": "error",
     "traceback": [
      "\u001b[1;36m  Input \u001b[1;32mIn [7]\u001b[1;36m\u001b[0m\n\u001b[1;33m    b=2a\u001b[0m\n\u001b[1;37m       ^\u001b[0m\n\u001b[1;31mSyntaxError\u001b[0m\u001b[1;31m:\u001b[0m invalid syntax\n"
     ]
    }
   ],
   "source": [
    "# this is not possible\n",
    "a=10\n",
    "b=2a"
   ]
  },
  {
   "cell_type": "markdown",
   "id": "6102e288",
   "metadata": {},
   "source": [
    "# 5 keyword\n",
    "\n",
    "try\n",
    "\n",
    "except\n",
    "\n",
    "else\n",
    "\n",
    "raise\n",
    "\n",
    "finally\n",
    "\n"
   ]
  },
  {
   "cell_type": "code",
   "execution_count": 12,
   "id": "7ec3c38c",
   "metadata": {},
   "outputs": [
    {
     "name": "stdout",
     "output_type": "stream",
     "text": [
      "enter first number 52\n",
      "enter second number 0\n",
      "b should not be 0\n"
     ]
    }
   ],
   "source": [
    "try:\n",
    "    a=int(input(\"enter first number \"))\n",
    "    b=int(input(\"enter second number \"))\n",
    "    c=a/b\n",
    "    print(\"div is \",c)\n",
    "    d=a+b\n",
    "    print(\"sum is :\",d)\n",
    "except:\n",
    "    print(\"b should not be 0\")"
   ]
  },
  {
   "cell_type": "code",
   "execution_count": 16,
   "id": "fb4fa142",
   "metadata": {},
   "outputs": [
    {
     "name": "stdout",
     "output_type": "stream",
     "text": [
      "enter first number 52\n",
      "enter second number 1a\n",
      "b should be integer\n",
      "sum is : 52\n"
     ]
    }
   ],
   "source": [
    "try:\n",
    "    a=int(input(\"enter first number \"))\n",
    "    b=int(input(\"enter second number \"))\n",
    "    c=a/b\n",
    "    print(\"div is \",c)\n",
    "except ZeroDivisionError:\n",
    "    print(\"b should not be zero\")\n",
    "except ValueError:\n",
    "    print(\"b should be integer\")\n",
    "d=a+b\n",
    "print(\"sum is :\",d)\n"
   ]
  },
  {
   "cell_type": "code",
   "execution_count": null,
   "id": "74a7141e",
   "metadata": {},
   "outputs": [],
   "source": []
  },
  {
   "cell_type": "markdown",
   "id": "83615cc3",
   "metadata": {},
   "source": [
    "# Complete hierarchy of Exception class\n",
    "BaseException: -->(Parent class)\n",
    "    Exception:\n",
    "        ArithmeticError:\n",
    "            ZeroDivisionError\n",
    "        OSError:\n",
    "            FileNotFoundError\n",
    "            PermissionError    \n",
    "        RuntimeError\n",
    "        LookupError:\n",
    "            IndexError\n",
    "            KeyError\n",
    "        SyntaxError:\n",
    "            IndentationError\n",
    "        "
   ]
  },
  {
   "cell_type": "code",
   "execution_count": null,
   "id": "736f0940",
   "metadata": {},
   "outputs": [],
   "source": []
  },
  {
   "cell_type": "code",
   "execution_count": 4,
   "id": "06175b6b",
   "metadata": {},
   "outputs": [
    {
     "name": "stdout",
     "output_type": "stream",
     "text": [
      "enter first number10\n",
      "enter second number0\n",
      "b should not be 0\n",
      "sum is  10\n"
     ]
    }
   ],
   "source": [
    "try:\n",
    "    a=int(input(\"enter first number\"))\n",
    "    b=int(input(\"enter second number\"))\n",
    "    c=a/b\n",
    "    print(\"div is \",c)\n",
    "except ZeroDivisionError:\n",
    "    print(\"b should not be 0\")\n",
    "d=a+b\n",
    "print(\"sum is \",d)"
   ]
  },
  {
   "cell_type": "code",
   "execution_count": 7,
   "id": "d2b5c95c",
   "metadata": {},
   "outputs": [
    {
     "name": "stdout",
     "output_type": "stream",
     "text": [
      "enter first number 10\n",
      "enter second number x\n",
      "second number should be integer\n",
      "sum is  10\n"
     ]
    }
   ],
   "source": [
    "try:\n",
    "    a=int(input(\"enter first number \"))\n",
    "    b=int(input(\"enter second number \"))\n",
    "    c=a/b\n",
    "    print(\"div is \",c)\n",
    "except:\n",
    "    print(\"second number should be integer\")\n",
    "d=a+b\n",
    "print(\"sum is \",d)"
   ]
  },
  {
   "cell_type": "code",
   "execution_count": 8,
   "id": "b4f617ea",
   "metadata": {},
   "outputs": [
    {
     "name": "stdout",
     "output_type": "stream",
     "text": [
      "enter first number10\n",
      "enter second number2x\n"
     ]
    },
    {
     "ename": "ValueError",
     "evalue": "invalid literal for int() with base 10: '2x'",
     "output_type": "error",
     "traceback": [
      "\u001b[1;31m---------------------------------------------------------------------------\u001b[0m",
      "\u001b[1;31mValueError\u001b[0m                                Traceback (most recent call last)",
      "Input \u001b[1;32mIn [8]\u001b[0m, in \u001b[0;36m<cell line: 1>\u001b[1;34m()\u001b[0m\n\u001b[0;32m      1\u001b[0m \u001b[38;5;28;01mtry\u001b[39;00m:\n\u001b[0;32m      2\u001b[0m     a\u001b[38;5;241m=\u001b[39m\u001b[38;5;28mint\u001b[39m(\u001b[38;5;28minput\u001b[39m(\u001b[38;5;124m\"\u001b[39m\u001b[38;5;124menter first number\u001b[39m\u001b[38;5;124m\"\u001b[39m))\n\u001b[1;32m----> 3\u001b[0m     b\u001b[38;5;241m=\u001b[39m\u001b[38;5;28;43mint\u001b[39;49m\u001b[43m(\u001b[49m\u001b[38;5;28;43minput\u001b[39;49m\u001b[43m(\u001b[49m\u001b[38;5;124;43m\"\u001b[39;49m\u001b[38;5;124;43menter second number\u001b[39;49m\u001b[38;5;124;43m\"\u001b[39;49m\u001b[43m)\u001b[49m\u001b[43m)\u001b[49m\n\u001b[0;32m      4\u001b[0m     c\u001b[38;5;241m=\u001b[39ma\u001b[38;5;241m/\u001b[39mb\n\u001b[0;32m      5\u001b[0m     \u001b[38;5;28mprint\u001b[39m(\u001b[38;5;124m\"\u001b[39m\u001b[38;5;124mdiv is \u001b[39m\u001b[38;5;124m\"\u001b[39m,c)\n",
      "\u001b[1;31mValueError\u001b[0m: invalid literal for int() with base 10: '2x'"
     ]
    }
   ],
   "source": [
    "try:\n",
    "    a=int(input(\"enter first number\"))\n",
    "    b=int(input(\"enter second number\"))\n",
    "    c=a/b\n",
    "    print(\"div is \",c)\n",
    "except ZeroDivisionError:\n",
    "    print(\"b should be integer\")\n",
    "d=a+b\n",
    "print(\"sum is \",d)"
   ]
  },
  {
   "cell_type": "code",
   "execution_count": 9,
   "id": "2e8fbfb6",
   "metadata": {},
   "outputs": [
    {
     "name": "stdout",
     "output_type": "stream",
     "text": [
      "enter first number10\n",
      "enter second number2x\n",
      "b should be integer\n",
      "sum is  10\n"
     ]
    }
   ],
   "source": [
    "#b=0 zerodivisionerror\n",
    "#b=2a value error\n",
    "\n",
    "try:\n",
    "    a=int(input(\"enter first number\"))\n",
    "    b=int(input(\"enter second number\"))\n",
    "    c=a/b\n",
    "    print(\"div is \",c)\n",
    "except ValueError:\n",
    "    print(\"b should be integer\")\n",
    "d=a+b\n",
    "print(\"sum is \",d)"
   ]
  },
  {
   "cell_type": "code",
   "execution_count": 10,
   "id": "5dd52eb3",
   "metadata": {},
   "outputs": [
    {
     "name": "stdout",
     "output_type": "stream",
     "text": [
      "enter first number10\n",
      "enter second number2a\n",
      "b should be integer\n",
      "sum is  10\n"
     ]
    }
   ],
   "source": [
    "try:\n",
    "    a=int(input(\"enter first number\"))\n",
    "    b=int(input(\"enter second number\"))\n",
    "    c=a/b\n",
    "    print(\"div is \",c)\n",
    "\n",
    "except ZeroDivisionError:\n",
    "    print(\"b should not be zero\")\n",
    "except ValueError:\n",
    "    print(\"b should be integer\")\n",
    "\n",
    "d=a+b\n",
    "print(\"sum is \",d)"
   ]
  },
  {
   "cell_type": "code",
   "execution_count": 11,
   "id": "e4c823b8",
   "metadata": {},
   "outputs": [
    {
     "ename": "OverflowError",
     "evalue": "math range error",
     "output_type": "error",
     "traceback": [
      "\u001b[1;31m---------------------------------------------------------------------------\u001b[0m",
      "\u001b[1;31mOverflowError\u001b[0m                             Traceback (most recent call last)",
      "Input \u001b[1;32mIn [11]\u001b[0m, in \u001b[0;36m<cell line: 2>\u001b[1;34m()\u001b[0m\n\u001b[0;32m      1\u001b[0m \u001b[38;5;28;01mimport\u001b[39;00m \u001b[38;5;21;01mmath\u001b[39;00m\n\u001b[1;32m----> 2\u001b[0m \u001b[43mmath\u001b[49m\u001b[38;5;241;43m.\u001b[39;49m\u001b[43mexp\u001b[49m\u001b[43m(\u001b[49m\u001b[38;5;241;43m20000\u001b[39;49m\u001b[43m)\u001b[49m\n",
      "\u001b[1;31mOverflowError\u001b[0m: math range error"
     ]
    }
   ],
   "source": [
    "import math\n",
    "math.exp(20000)"
   ]
  },
  {
   "cell_type": "code",
   "execution_count": 12,
   "id": "65985e79",
   "metadata": {},
   "outputs": [
    {
     "name": "stdout",
     "output_type": "stream",
     "text": [
      "Numeric calculation failed!\n"
     ]
    }
   ],
   "source": [
    "import math\n",
    "try:\n",
    "\tx=10/0\n",
    "\tprint(x)\n",
    "\tans=math.exp(20000)\n",
    "\tprint(ans)\n",
    "\n",
    "except ArithmeticError:\n",
    "\tprint(\"Numeric calculation failed!\")\n",
    "except ZeroDivisionError:\n",
    "\tprint(\"Division by 0 exception occurred!\")\t"
   ]
  },
  {
   "cell_type": "code",
   "execution_count": 13,
   "id": "939ffd52",
   "metadata": {},
   "outputs": [
    {
     "name": "stdout",
     "output_type": "stream",
     "text": [
      "Numeric calculation failed!\n"
     ]
    }
   ],
   "source": [
    "import math\n",
    "try:\n",
    "\tx=10/0\n",
    "\tprint(x)\n",
    "\tans=math.exp(20000)\n",
    "\tprint(ans)\n",
    "\n",
    "except ArithmeticError: # first there will be a parent class\n",
    "\tprint(\"Numeric calculation failed!\")\n",
    "except ZeroDivisionError: # then there will be a child class\n",
    "\tprint(\"Division by 0 exception occurred!\")\t"
   ]
  },
  {
   "cell_type": "code",
   "execution_count": 14,
   "id": "d3783a94",
   "metadata": {},
   "outputs": [
    {
     "name": "stdout",
     "output_type": "stream",
     "text": [
      "enter first number10\n",
      "enter second number0\n",
      "b should not be zero\n",
      "enter first number10\n",
      "enter second numberx\n",
      "b should be not be char or string\n",
      "enter first number10\n",
      "enter second number10\n",
      "1.0\n"
     ]
    }
   ],
   "source": [
    "while True:\n",
    "    try:\n",
    "        a=int(input(\"enter first number\"))\n",
    "        b=int(input(\"enter second number\"))\n",
    "        c=a/b\n",
    "        print(c)\n",
    "        break\n",
    "    except ZeroDivisionError:\n",
    "        print(\"b should not be zero\")\n",
    "    except ValueError:\n",
    "        print(\"b should be not be char or string\")"
   ]
  },
  {
   "cell_type": "code",
   "execution_count": 15,
   "id": "53853b1c",
   "metadata": {},
   "outputs": [
    {
     "name": "stdout",
     "output_type": "stream",
     "text": [
      "enter first number10\n",
      "enter second number0\n",
      "b should be not be char or string\n"
     ]
    }
   ],
   "source": [
    "# i am taking both specific class for the exception\n",
    "# child class should above parent class\n",
    "try:\n",
    "    a=int(input(\"enter first number\"))\n",
    "    b=int(input(\"enter second number\"))\n",
    "    c=a/b\n",
    "    print(c)\n",
    "except ArithmeticError:\n",
    "    print(\"b should be not be char or string\")\n",
    "except ZeroDivisionError:\n",
    "    print(\"b should not be zero\")\n"
   ]
  },
  {
   "cell_type": "code",
   "execution_count": 16,
   "id": "d9b12d9d",
   "metadata": {},
   "outputs": [
    {
     "name": "stdout",
     "output_type": "stream",
     "text": [
      "Input first no:10\n",
      "Input second no:0\n",
      "division by zero\n",
      "Input first no:10\n",
      "Input second no:a\n",
      "invalid literal for int() with base 10: 'a'\n",
      "Input first no:10\n",
      "Input second no:10\n",
      "Div is  1.0\n"
     ]
    }
   ],
   "source": [
    "while(True):\n",
    "\ttry:\n",
    "\t\ta=int(input(\"Input first no:\"))\n",
    "\t\tb=int(input(\"Input second no:\"))\n",
    "\t\tc=a/b\n",
    "\t\tprint(\"Div is \",c)\n",
    "\t\tbreak;\n",
    "\texcept (ValueError,ZeroDivisionError) as e: # Here e is the reference for perticular class\n",
    "\t\tprint(e)\t\n"
   ]
  },
  {
   "cell_type": "code",
   "execution_count": 19,
   "id": "03357c33",
   "metadata": {},
   "outputs": [
    {
     "ename": "SyntaxError",
     "evalue": "EOL while scanning string literal (140719325.py, line 6)",
     "output_type": "error",
     "traceback": [
      "\u001b[1;36m  Input \u001b[1;32mIn [19]\u001b[1;36m\u001b[0m\n\u001b[1;33m    \"\"\"\"\u001b[0m\n\u001b[1;37m        \n^\u001b[0m\n\u001b[1;31mSyntaxError\u001b[0m\u001b[1;31m:\u001b[0m EOL while scanning string literal\n"
     ]
    }
   ],
   "source": [
    "\"\"\"\"\n",
    "sys.exc_info()\n",
    "final block\n",
    "raise\n",
    "custom exception class\n",
    "\"\"\"\""
   ]
  },
  {
   "cell_type": "code",
   "execution_count": 20,
   "id": "06696911",
   "metadata": {},
   "outputs": [
    {
     "data": {
      "text/plain": [
       "['__breakpointhook__',\n",
       " '__displayhook__',\n",
       " '__doc__',\n",
       " '__excepthook__',\n",
       " '__interactivehook__',\n",
       " '__loader__',\n",
       " '__name__',\n",
       " '__package__',\n",
       " '__spec__',\n",
       " '__stderr__',\n",
       " '__stdin__',\n",
       " '__stdout__',\n",
       " '__unraisablehook__',\n",
       " '_base_executable',\n",
       " '_clear_type_cache',\n",
       " '_current_frames',\n",
       " '_debugmallocstats',\n",
       " '_enablelegacywindowsfsencoding',\n",
       " '_framework',\n",
       " '_getframe',\n",
       " '_git',\n",
       " '_home',\n",
       " '_xoptions',\n",
       " 'addaudithook',\n",
       " 'api_version',\n",
       " 'argv',\n",
       " 'audit',\n",
       " 'base_exec_prefix',\n",
       " 'base_prefix',\n",
       " 'breakpointhook',\n",
       " 'builtin_module_names',\n",
       " 'byteorder',\n",
       " 'call_tracing',\n",
       " 'copyright',\n",
       " 'displayhook',\n",
       " 'dllhandle',\n",
       " 'dont_write_bytecode',\n",
       " 'exc_info',\n",
       " 'excepthook',\n",
       " 'exec_prefix',\n",
       " 'executable',\n",
       " 'exit',\n",
       " 'flags',\n",
       " 'float_info',\n",
       " 'float_repr_style',\n",
       " 'get_asyncgen_hooks',\n",
       " 'get_coroutine_origin_tracking_depth',\n",
       " 'getallocatedblocks',\n",
       " 'getdefaultencoding',\n",
       " 'getfilesystemencodeerrors',\n",
       " 'getfilesystemencoding',\n",
       " 'getprofile',\n",
       " 'getrecursionlimit',\n",
       " 'getrefcount',\n",
       " 'getsizeof',\n",
       " 'getswitchinterval',\n",
       " 'gettrace',\n",
       " 'getwindowsversion',\n",
       " 'hash_info',\n",
       " 'hexversion',\n",
       " 'implementation',\n",
       " 'int_info',\n",
       " 'intern',\n",
       " 'is_finalizing',\n",
       " 'last_traceback',\n",
       " 'last_type',\n",
       " 'last_value',\n",
       " 'maxsize',\n",
       " 'maxunicode',\n",
       " 'meta_path',\n",
       " 'modules',\n",
       " 'path',\n",
       " 'path_hooks',\n",
       " 'path_importer_cache',\n",
       " 'platform',\n",
       " 'platlibdir',\n",
       " 'prefix',\n",
       " 'ps1',\n",
       " 'ps2',\n",
       " 'ps3',\n",
       " 'pycache_prefix',\n",
       " 'set_asyncgen_hooks',\n",
       " 'set_coroutine_origin_tracking_depth',\n",
       " 'setprofile',\n",
       " 'setrecursionlimit',\n",
       " 'setswitchinterval',\n",
       " 'settrace',\n",
       " 'stderr',\n",
       " 'stdin',\n",
       " 'stdout',\n",
       " 'thread_info',\n",
       " 'unraisablehook',\n",
       " 'version',\n",
       " 'version_info',\n",
       " 'warnoptions',\n",
       " 'winver']"
      ]
     },
     "execution_count": 20,
     "metadata": {},
     "output_type": "execute_result"
    }
   ],
   "source": [
    "import sys\n",
    "dir(sys)"
   ]
  },
  {
   "cell_type": "code",
   "execution_count": 21,
   "id": "7ba743d4",
   "metadata": {},
   "outputs": [
    {
     "name": "stdout",
     "output_type": "stream",
     "text": [
      "Input first no:10\n",
      "Input second no:0\n",
      "exception class <class 'ZeroDivisionError'>\n",
      "exception message division by zero\n",
      "line number 6\n",
      "Input first no:10\n",
      "Input second no:x\n",
      "exception class <class 'ValueError'>\n",
      "exception message invalid literal for int() with base 10: 'x'\n",
      "line number 5\n",
      "Input first no:10\n",
      "Input second no:10\n",
      "Div is  1.0\n"
     ]
    }
   ],
   "source": [
    "# it is giving me entire details\n",
    "while(True):\n",
    "    try:\n",
    "        a=int(input(\"Input first no:\"))\n",
    "        b=int(input(\"Input second no:\"))\n",
    "        c=a/b\n",
    "        print(\"Div is \",c)\n",
    "        break\n",
    "    except:\n",
    "        a,b,c=sys.exc_info()\n",
    "        print(\"exception class\",a)\n",
    "        print(\"exception message\",b)\n",
    "        print(\"line number\",c.tb_lineno)"
   ]
  },
  {
   "cell_type": "code",
   "execution_count": 24,
   "id": "f4a0b28d",
   "metadata": {},
   "outputs": [
    {
     "name": "stdout",
     "output_type": "stream",
     "text": [
      "Input first no:10\n",
      "Input second no:0\n",
      "b should not be a zero\n",
      "it will be always running\n"
     ]
    }
   ],
   "source": [
    "try:\n",
    "        a=int(input(\"Input first no:\"))\n",
    "        b=int(input(\"Input second no:\"))\n",
    "        c=a/b\n",
    "        print(\"Div is \",c)\n",
    "        \n",
    "        x=int('a')\n",
    "except:\n",
    "    print(\"b should not be a zero\")\n",
    "\n",
    "finally:\n",
    "    print(\"it will be always running\")"
   ]
  },
  {
   "cell_type": "code",
   "execution_count": 25,
   "id": "a20ac480",
   "metadata": {},
   "outputs": [
    {
     "name": "stdout",
     "output_type": "stream",
     "text": [
      "enter first number10\n",
      "enter second number-5\n",
      "negative number not allowed, try again\n",
      "enter first number10\n",
      "enter second number0\n",
      "b should not be zero\n",
      "enter first number10\n",
      "enter second numberx\n",
      "b should be not be char or string\n",
      "enter first number10\n",
      "enter second number10\n",
      "1.0\n"
     ]
    }
   ],
   "source": [
    "while True:\n",
    "    try:\n",
    "        a=int(input(\"enter first number\"))\n",
    "        b=int(input(\"enter second number\"))\n",
    "        # custom logic\n",
    "        if a<0 or b<0:\n",
    "            raise Exception(\"negative number not allowed, try again\")\n",
    "        c=a/b\n",
    "        print(c)\n",
    "        break\n",
    "    except ZeroDivisionError:\n",
    "        print(\"b should not be zero\")\n",
    "    except ValueError:\n",
    "        print(\"b should be not be char or string\")\n",
    "    except Exception as e:\n",
    "        print(e)"
   ]
  },
  {
   "cell_type": "code",
   "execution_count": 26,
   "id": "09c30b50",
   "metadata": {},
   "outputs": [
    {
     "name": "stdout",
     "output_type": "stream",
     "text": [
      "enter first number10\n",
      "enter second number-5\n",
      "negative number not allowed, try again\n",
      "enter first number-5\n",
      "enter second number10\n",
      "negative number not allowed, try again\n",
      "enter first number10\n",
      "enter second number0\n",
      "division by zero\n",
      "enter first number10\n",
      "enter second numberh\n",
      "invalid literal for int() with base 10: 'h'\n",
      "enter first number10\n",
      "enter second number10\n",
      "1.0\n"
     ]
    }
   ],
   "source": [
    "while True:\n",
    "    try:\n",
    "        a=int(input(\"enter first number\"))\n",
    "        b=int(input(\"enter second number\"))\n",
    "        # custom logic\n",
    "        if a<0 or b<0:\n",
    "            raise Exception(\"negative number not allowed, try again\")\n",
    "        c=a/b\n",
    "        print(c)\n",
    "        break\n",
    "    except Exception as e:\n",
    "        print(e)"
   ]
  },
  {
   "cell_type": "code",
   "execution_count": 28,
   "id": "ddf2ae1e",
   "metadata": {},
   "outputs": [
    {
     "name": "stdout",
     "output_type": "stream",
     "text": [
      "enter first number10\n",
      "enter second number0\n",
      "b should not be zero\n",
      "enter first number10\n",
      "enter second numberj\n",
      "b should be not be char or string\n",
      "enter first number10\n",
      "enter second number-5\n",
      "negative number not allowed, try again\n",
      "enter first number-8\n",
      "enter second number10\n",
      "negative number not allowed, try again\n",
      "enter first number10\n",
      "enter second number10\n",
      "1.0\n"
     ]
    }
   ],
   "source": [
    "class NegativeNumberException(Exception):\n",
    "    pass\n",
    "\n",
    "while True:\n",
    "    try:\n",
    "        a=int(input(\"enter first number\"))\n",
    "        b=int(input(\"enter second number\"))\n",
    "        # custom logic\n",
    "        if a<0 or b<0:\n",
    "            raise NegativeNumberException(\"negative number not allowed, try again\")\n",
    "        c=a/b\n",
    "        print(c)\n",
    "        break\n",
    "    except ZeroDivisionError:\n",
    "        print(\"b should not be zero\")\n",
    "    except ValueError:\n",
    "        print(\"b should be not be char or string\")\n",
    "    except NegativeNumberException as e:\n",
    "        print(e)"
   ]
  },
  {
   "cell_type": "code",
   "execution_count": null,
   "id": "86685163",
   "metadata": {},
   "outputs": [],
   "source": []
  },
  {
   "cell_type": "code",
   "execution_count": null,
   "id": "3a3853e2",
   "metadata": {},
   "outputs": [],
   "source": []
  },
  {
   "cell_type": "code",
   "execution_count": null,
   "id": "8b78e502",
   "metadata": {},
   "outputs": [],
   "source": []
  },
  {
   "cell_type": "code",
   "execution_count": null,
   "id": "307d1b11",
   "metadata": {},
   "outputs": [],
   "source": []
  }
 ],
 "metadata": {
  "kernelspec": {
   "display_name": "Python 3 (ipykernel)",
   "language": "python",
   "name": "python3"
  },
  "language_info": {
   "codemirror_mode": {
    "name": "ipython",
    "version": 3
   },
   "file_extension": ".py",
   "mimetype": "text/x-python",
   "name": "python",
   "nbconvert_exporter": "python",
   "pygments_lexer": "ipython3",
   "version": "3.9.12"
  }
 },
 "nbformat": 4,
 "nbformat_minor": 5
}
