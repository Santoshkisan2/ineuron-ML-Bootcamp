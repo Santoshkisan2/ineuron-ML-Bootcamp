{
 "cells": [
  {
   "cell_type": "code",
   "execution_count": 2,
   "id": "2b063c32",
   "metadata": {},
   "outputs": [],
   "source": [
    "# logging in python\n",
    "# file handling in python"
   ]
  },
  {
   "cell_type": "code",
   "execution_count": 3,
   "id": "62091409",
   "metadata": {},
   "outputs": [],
   "source": [
    "def test(in_num):\n",
    "    print('i am in the function')\n",
    "    result=in_num*10\n",
    "    print('multiplication done')\n",
    "    return result"
   ]
  },
  {
   "cell_type": "code",
   "execution_count": 5,
   "id": "efb6380a",
   "metadata": {},
   "outputs": [
    {
     "name": "stdout",
     "output_type": "stream",
     "text": [
      "i am in the function\n",
      "multiplication done\n",
      "here is a final answer: 5240\n"
     ]
    }
   ],
   "source": [
    "x=test(524)\n",
    "print(f'here is a final answer: {x}')"
   ]
  },
  {
   "cell_type": "raw",
   "id": "7903b5a4",
   "metadata": {},
   "source": [
    "https://docs.python.org/3/howto/logging.html"
   ]
  },
  {
   "cell_type": "code",
   "execution_count": 7,
   "id": "2774bb64",
   "metadata": {},
   "outputs": [],
   "source": [
    "import logging"
   ]
  },
  {
   "cell_type": "raw",
   "id": "b9c264cc",
   "metadata": {},
   "source": [
    "# we are going to preserve the information\n",
    "\n",
    "# notset 0, debug 10, info 20,warning 30, error 40, critical 50"
   ]
  },
  {
   "cell_type": "raw",
   "id": "316847a6",
   "metadata": {},
   "source": [
    "# logger level=30\n",
    "\n",
    "# only warning will be print\n",
    "# error will be print\n",
    "# critical will be print"
   ]
  },
  {
   "cell_type": "code",
   "execution_count": 10,
   "id": "eb88074b",
   "metadata": {},
   "outputs": [],
   "source": [
    "import logging\n",
    "logging.info('this is my ML bootcamp class')"
   ]
  },
  {
   "cell_type": "code",
   "execution_count": 16,
   "id": "c503e899",
   "metadata": {},
   "outputs": [],
   "source": [
    "# by default log level is set to warning only"
   ]
  },
  {
   "cell_type": "code",
   "execution_count": 17,
   "id": "46702ac8",
   "metadata": {},
   "outputs": [
    {
     "name": "stderr",
     "output_type": "stream",
     "text": [
      "WARNING:root:focus here only\n",
      "ERROR:root:no error\n",
      "CRITICAL:root:no critical issue here\n"
     ]
    }
   ],
   "source": [
    "import logging\n",
    "logging.debug('no debug')\n",
    "logging.info('this is my ML bootcamp class')\n",
    "logging.warning('focus here only')\n",
    "logging.error('no error')\n",
    "logging.critical('no critical issue here')"
   ]
  },
  {
   "cell_type": "code",
   "execution_count": null,
   "id": "07075c52",
   "metadata": {},
   "outputs": [],
   "source": []
  },
  {
   "cell_type": "raw",
   "id": "3ce8610a",
   "metadata": {},
   "source": [
    "i dont want this message or log on my console i want it in my file (physical file)"
   ]
  },
  {
   "cell_type": "raw",
   "id": "615b617f",
   "metadata": {},
   "source": [
    "basicConfig --> we can set level of the log"
   ]
  },
  {
   "cell_type": "code",
   "execution_count": 19,
   "id": "ffb1168a",
   "metadata": {},
   "outputs": [],
   "source": [
    "logging.basicConfig(level=logging.info)"
   ]
  },
  {
   "cell_type": "code",
   "execution_count": 20,
   "id": "a6775012",
   "metadata": {},
   "outputs": [
    {
     "name": "stderr",
     "output_type": "stream",
     "text": [
      "WARNING:root:focus here only\n",
      "ERROR:root:no error\n",
      "CRITICAL:root:no critical issue here\n"
     ]
    }
   ],
   "source": [
    "logging.debug('no debug')\n",
    "logging.info('this is my ML bootcamp class')\n",
    "logging.warning('focus here only')\n",
    "logging.error('no error')\n",
    "logging.critical('no critical issue here')"
   ]
  },
  {
   "cell_type": "code",
   "execution_count": 21,
   "id": "10ad86ba",
   "metadata": {},
   "outputs": [
    {
     "data": {
      "text/plain": [
       "'C:\\\\Users\\\\santo'"
      ]
     },
     "execution_count": 21,
     "metadata": {},
     "output_type": "execute_result"
    }
   ],
   "source": [
    "import os\n",
    "os.getcwd()"
   ]
  },
  {
   "cell_type": "code",
   "execution_count": 27,
   "id": "fcf5813a",
   "metadata": {},
   "outputs": [],
   "source": [
    "import logging\n",
    "logging.basicConfig(filename='test.log')"
   ]
  },
  {
   "cell_type": "code",
   "execution_count": 28,
   "id": "ec909501",
   "metadata": {},
   "outputs": [],
   "source": [
    "logging.basicConfig(filename='test.log',level=logging.INFO,force=True)"
   ]
  },
  {
   "cell_type": "raw",
   "id": "256c6e74",
   "metadata": {},
   "source": [
    "log over the console --> dont show the log over the console\n",
    "\n",
    "log inside the file --> it is a correct way\n",
    "\n",
    "different type of log info\n",
    "\n",
    "mode of the file append and write\n",
    "\n"
   ]
  },
  {
   "cell_type": "code",
   "execution_count": 32,
   "id": "83fe69c3",
   "metadata": {},
   "outputs": [],
   "source": [
    "myformat='%(asctime)s - %(name)s - %(levelname)s - %(message)s'\n",
    "logging.basicConfig(filename='logging.txt',level=logging.INFO,force=True,format=myformat, filemode='w')"
   ]
  },
  {
   "cell_type": "code",
   "execution_count": null,
   "id": "55695c2d",
   "metadata": {},
   "outputs": [],
   "source": []
  },
  {
   "cell_type": "code",
   "execution_count": null,
   "id": "b92fed60",
   "metadata": {},
   "outputs": [],
   "source": []
  },
  {
   "cell_type": "raw",
   "id": "42617e70",
   "metadata": {},
   "source": [
    "# File Handling\n",
    "\n",
    "file can be\n",
    ".txt\n",
    ".csv\n",
    ".tsv\n",
    ".log\n",
    ".parquest\n",
    ".json\n",
    ".dat\n",
    ".avro\n",
    ".xsls\n",
    ".pdf\n",
    ".xml"
   ]
  },
  {
   "cell_type": "code",
   "execution_count": 36,
   "id": "5247f0da",
   "metadata": {},
   "outputs": [],
   "source": [
    "# if file is availabel then it opens or it creates"
   ]
  },
  {
   "cell_type": "code",
   "execution_count": null,
   "id": "de81ddef",
   "metadata": {},
   "outputs": [],
   "source": [
    "file=open('logging.txt')"
   ]
  },
  {
   "cell_type": "code",
   "execution_count": 37,
   "id": "45e2c2a5",
   "metadata": {},
   "outputs": [
    {
     "data": {
      "text/plain": [
       "<_io.TextIOWrapper name='logging.txt' mode='r' encoding='cp1252'>"
      ]
     },
     "execution_count": 37,
     "metadata": {},
     "output_type": "execute_result"
    }
   ],
   "source": [
    "file"
   ]
  },
  {
   "cell_type": "code",
   "execution_count": 39,
   "id": "8ba33748",
   "metadata": {},
   "outputs": [
    {
     "name": "stdout",
     "output_type": "stream",
     "text": [
      "hello world\n"
     ]
    }
   ],
   "source": [
    "for i in file:\n",
    "    print(i)"
   ]
  },
  {
   "cell_type": "raw",
   "id": "fe0b0dcf",
   "metadata": {},
   "source": [
    "file --> txt file\n",
    "every file is having different modes\n",
    "READ mode--> 'r' read an exising file\n",
    "WRITE mode--> 'w' write an existing file\n",
    "READ and WRITE-->'R/W'\n",
    "appendmode--> 'a' previous content is there and on top of that i am going to add something\n",
    "r+= to read and write data into the file the previous data will be overridden\n",
    "w+= to write and read data it will overwrite existing data\n",
    "a+= to append and read data ,overwrite the existing data"
   ]
  },
  {
   "cell_type": "code",
   "execution_count": 42,
   "id": "82744921",
   "metadata": {},
   "outputs": [],
   "source": [
    "file1=open('loggingsecond.txt',mode='w')"
   ]
  },
  {
   "cell_type": "code",
   "execution_count": 84,
   "id": "6b11fdea",
   "metadata": {},
   "outputs": [
    {
     "data": {
      "text/plain": [
       "'Hello\\ni\\nam\\nsantosh'"
      ]
     },
     "execution_count": 84,
     "metadata": {},
     "output_type": "execute_result"
    }
   ],
   "source": [
    "file2=open('loggingsecond.txt','r')\n",
    "file2.read()"
   ]
  },
  {
   "cell_type": "code",
   "execution_count": 85,
   "id": "16e986c3",
   "metadata": {},
   "outputs": [],
   "source": [
    "for i in file2:\n",
    "    print(i)"
   ]
  },
  {
   "cell_type": "code",
   "execution_count": 55,
   "id": "456d436f",
   "metadata": {},
   "outputs": [],
   "source": [
    "file.close()"
   ]
  },
  {
   "cell_type": "code",
   "execution_count": 53,
   "id": "70d37338",
   "metadata": {},
   "outputs": [],
   "source": [
    "f=open(\"newfile.txt\",\"w\")"
   ]
  },
  {
   "cell_type": "code",
   "execution_count": null,
   "id": "0ffbdfcc",
   "metadata": {},
   "outputs": [],
   "source": []
  },
  {
   "cell_type": "code",
   "execution_count": 51,
   "id": "7fba350e",
   "metadata": {},
   "outputs": [
    {
     "data": {
      "text/plain": [
       "12"
      ]
     },
     "execution_count": 51,
     "metadata": {},
     "output_type": "execute_result"
    }
   ],
   "source": [
    "f.write('i am writing')"
   ]
  },
  {
   "cell_type": "code",
   "execution_count": 52,
   "id": "0a5389a1",
   "metadata": {},
   "outputs": [],
   "source": [
    "f.close()"
   ]
  },
  {
   "cell_type": "code",
   "execution_count": 56,
   "id": "a21c5c29",
   "metadata": {},
   "outputs": [],
   "source": [
    "#append some info into newfile.txt"
   ]
  },
  {
   "cell_type": "code",
   "execution_count": 70,
   "id": "47aa97b2",
   "metadata": {},
   "outputs": [],
   "source": [
    "file=open(\"newfile.txt\",\"a\")"
   ]
  },
  {
   "cell_type": "code",
   "execution_count": 61,
   "id": "00556335",
   "metadata": {},
   "outputs": [
    {
     "data": {
      "text/plain": [
       "15"
      ]
     },
     "execution_count": 61,
     "metadata": {},
     "output_type": "execute_result"
    }
   ],
   "source": [
    "file.write(\"this is awesome\")"
   ]
  },
  {
   "cell_type": "code",
   "execution_count": 71,
   "id": "926b74b4",
   "metadata": {},
   "outputs": [],
   "source": [
    "file.close()"
   ]
  },
  {
   "cell_type": "code",
   "execution_count": 72,
   "id": "1cc7bc08",
   "metadata": {},
   "outputs": [
    {
     "data": {
      "text/plain": [
       "'this is newthis is awesome'"
      ]
     },
     "execution_count": 72,
     "metadata": {},
     "output_type": "execute_result"
    }
   ],
   "source": [
    "file=open(\"newfile.txt\",\"r\")\n",
    "file.read()"
   ]
  },
  {
   "cell_type": "code",
   "execution_count": 76,
   "id": "e3a361eb",
   "metadata": {},
   "outputs": [
    {
     "name": "stdout",
     "output_type": "stream",
     "text": [
      "this is newthis is awesome\n"
     ]
    }
   ],
   "source": [
    "with open(\"newfile.txt\") as f:\n",
    "    print(f.read())"
   ]
  },
  {
   "cell_type": "code",
   "execution_count": 77,
   "id": "29d3e111",
   "metadata": {},
   "outputs": [],
   "source": [
    "\n",
    "with open ('mlbootcamp.csv','w') as f:\n",
    "    f.write('there is some info')\n",
    "# it will also automatically closes the file"
   ]
  },
  {
   "cell_type": "code",
   "execution_count": 78,
   "id": "84a9588f",
   "metadata": {},
   "outputs": [
    {
     "name": "stdout",
     "output_type": "stream",
     "text": [
      "there is some info\n"
     ]
    }
   ],
   "source": [
    "with open ('mlbootcamp.csv','r') as f:\n",
    "    print(f.read())"
   ]
  },
  {
   "cell_type": "code",
   "execution_count": 79,
   "id": "b4637b97",
   "metadata": {},
   "outputs": [],
   "source": [
    "with open ('mlbootcamp.csv','r') as f:\n",
    "    data=f.readlines()"
   ]
  },
  {
   "cell_type": "code",
   "execution_count": 80,
   "id": "30ea8e5b",
   "metadata": {},
   "outputs": [
    {
     "data": {
      "text/plain": [
       "['there is some info']"
      ]
     },
     "execution_count": 80,
     "metadata": {},
     "output_type": "execute_result"
    }
   ],
   "source": [
    "data"
   ]
  },
  {
   "cell_type": "code",
   "execution_count": 81,
   "id": "5b4f76a4",
   "metadata": {},
   "outputs": [
    {
     "name": "stdout",
     "output_type": "stream",
     "text": [
      "['there', 'is', 'some', 'info']\n"
     ]
    }
   ],
   "source": [
    "with open ('mlbootcamp.csv','r') as f:\n",
    "    data=f.readlines()\n",
    "    for line in data:\n",
    "        word=line.split()\n",
    "        print(word)"
   ]
  },
  {
   "cell_type": "code",
   "execution_count": null,
   "id": "a50ca6f8",
   "metadata": {},
   "outputs": [],
   "source": []
  }
 ],
 "metadata": {
  "kernelspec": {
   "display_name": "Python 3 (ipykernel)",
   "language": "python",
   "name": "python3"
  },
  "language_info": {
   "codemirror_mode": {
    "name": "ipython",
    "version": 3
   },
   "file_extension": ".py",
   "mimetype": "text/x-python",
   "name": "python",
   "nbconvert_exporter": "python",
   "pygments_lexer": "ipython3",
   "version": "3.9.12"
  }
 },
 "nbformat": 4,
 "nbformat_minor": 5
}
