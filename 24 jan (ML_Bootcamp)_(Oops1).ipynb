{
 "cells": [
  {
   "cell_type": "markdown",
   "id": "01008f20",
   "metadata": {},
   "source": [
    "# Object oriented programming (oops)"
   ]
  },
  {
   "cell_type": "code",
   "execution_count": null,
   "id": "dd01bda9",
   "metadata": {},
   "outputs": [],
   "source": [
    "1. how to define class and object in python\n",
    "2. variables in class\n",
    "   instance variable or object variable(done)\n",
    "   local veriable()\n",
    "   class variable\n",
    "3. methods in class\n",
    "   construtor(this is speical methods)(done)\n",
    "   instnace method(done)\n",
    "   class methods\n",
    "   static methods\n",
    "4. encapsulation\n",
    "5. inheritance\n",
    "6. abstraciton\n",
    "7. polymorphism"
   ]
  },
  {
   "cell_type": "code",
   "execution_count": 1,
   "id": "5a48798d",
   "metadata": {},
   "outputs": [],
   "source": [
    "class emp:\n",
    "    pass"
   ]
  },
  {
   "cell_type": "code",
   "execution_count": 2,
   "id": "7a80818a",
   "metadata": {},
   "outputs": [],
   "source": [
    "sunny=emp()"
   ]
  },
  {
   "cell_type": "code",
   "execution_count": 5,
   "id": "445940fe",
   "metadata": {},
   "outputs": [],
   "source": [
    "class emp():\n",
    "    def __init__(self):\n",
    "        print('Object oriented Programming')"
   ]
  },
  {
   "cell_type": "code",
   "execution_count": 6,
   "id": "6c9cb797",
   "metadata": {},
   "outputs": [
    {
     "name": "stdout",
     "output_type": "stream",
     "text": [
      "Object oriented Programming\n"
     ]
    }
   ],
   "source": [
    "oops=emp()"
   ]
  },
  {
   "cell_type": "markdown",
   "id": "e49a3688",
   "metadata": {},
   "source": [
    "# __init__ is a constructor which will be called immediately and automatically whenever we create a object"
   ]
  },
  {
   "cell_type": "code",
   "execution_count": 11,
   "id": "455b07d4",
   "metadata": {},
   "outputs": [],
   "source": [
    "# __init__(self): Here (self) is a keyword we can write anything instead self\n",
    "\n",
    "# __init__ is a special method in python or constructor\n"
   ]
  },
  {
   "cell_type": "code",
   "execution_count": 9,
   "id": "248537bd",
   "metadata": {},
   "outputs": [
    {
     "name": "stdout",
     "output_type": "stream",
     "text": [
      "Object oriented Programming\n"
     ]
    }
   ],
   "source": [
    "#object creation\n",
    "sunny=emp()"
   ]
  },
  {
   "cell_type": "code",
   "execution_count": 12,
   "id": "48264321",
   "metadata": {},
   "outputs": [],
   "source": [
    "class emp:\n",
    "    def __init__(self):\n",
    "        print(\"object created!!\")\n",
    "    def test(sunny):\n",
    "        print(\"python is fun\")\n",
    "    def demo(self):\n",
    "        print(\"python rocks\")"
   ]
  },
  {
   "cell_type": "code",
   "execution_count": 13,
   "id": "f69dac2b",
   "metadata": {},
   "outputs": [
    {
     "name": "stdout",
     "output_type": "stream",
     "text": [
      "object created!!\n"
     ]
    }
   ],
   "source": [
    "sudhanshu=emp()"
   ]
  },
  {
   "cell_type": "code",
   "execution_count": 14,
   "id": "d27f5ab8",
   "metadata": {},
   "outputs": [
    {
     "name": "stdout",
     "output_type": "stream",
     "text": [
      "python rocks\n"
     ]
    }
   ],
   "source": [
    "sudhanshu.demo()"
   ]
  },
  {
   "cell_type": "code",
   "execution_count": 15,
   "id": "9bfd7f8c",
   "metadata": {},
   "outputs": [
    {
     "name": "stdout",
     "output_type": "stream",
     "text": [
      "python is fun\n"
     ]
    }
   ],
   "source": [
    "sudhanshu.test()"
   ]
  },
  {
   "cell_type": "code",
   "execution_count": 4,
   "id": "688a3ce0",
   "metadata": {},
   "outputs": [],
   "source": [
    "class emp:\n",
    "    def __init__(self):\n",
    "        self.age=25\n",
    "        self.title=\"kisan\"\n",
    "        self.salary=25000"
   ]
  },
  {
   "cell_type": "code",
   "execution_count": 5,
   "id": "b284dcd3",
   "metadata": {},
   "outputs": [],
   "source": [
    "santosh=emp()"
   ]
  },
  {
   "cell_type": "code",
   "execution_count": 6,
   "id": "fd1962cc",
   "metadata": {},
   "outputs": [
    {
     "data": {
      "text/plain": [
       "25"
      ]
     },
     "execution_count": 6,
     "metadata": {},
     "output_type": "execute_result"
    }
   ],
   "source": [
    "santosh.age"
   ]
  },
  {
   "cell_type": "code",
   "execution_count": 7,
   "id": "31482b1f",
   "metadata": {},
   "outputs": [
    {
     "data": {
      "text/plain": [
       "'kisan'"
      ]
     },
     "execution_count": 7,
     "metadata": {},
     "output_type": "execute_result"
    }
   ],
   "source": [
    "santosh.title"
   ]
  },
  {
   "cell_type": "code",
   "execution_count": 8,
   "id": "1318bf9c",
   "metadata": {},
   "outputs": [],
   "source": [
    "class emp:\n",
    "    def __init__(self,a,b,c):\n",
    "        self.age=a\n",
    "        self.name=b\n",
    "        self.salary=c\n",
    "    def show(self):\n",
    "        print(self.age,self.name,self.salary)"
   ]
  },
  {
   "cell_type": "code",
   "execution_count": 9,
   "id": "36953a60",
   "metadata": {},
   "outputs": [
    {
     "ename": "TypeError",
     "evalue": "__init__() missing 3 required positional arguments: 'a', 'b', and 'c'",
     "output_type": "error",
     "traceback": [
      "\u001b[1;31m---------------------------------------------------------------------------\u001b[0m",
      "\u001b[1;31mTypeError\u001b[0m                                 Traceback (most recent call last)",
      "Input \u001b[1;32mIn [9]\u001b[0m, in \u001b[0;36m<cell line: 1>\u001b[1;34m()\u001b[0m\n\u001b[1;32m----> 1\u001b[0m santosh\u001b[38;5;241m=\u001b[39m\u001b[43memp\u001b[49m\u001b[43m(\u001b[49m\u001b[43m)\u001b[49m\n",
      "\u001b[1;31mTypeError\u001b[0m: __init__() missing 3 required positional arguments: 'a', 'b', and 'c'"
     ]
    }
   ],
   "source": [
    "santosh=emp()"
   ]
  },
  {
   "cell_type": "code",
   "execution_count": 11,
   "id": "ff2724fe",
   "metadata": {},
   "outputs": [],
   "source": [
    "santosh=emp(26,santosh,10000000)"
   ]
  },
  {
   "cell_type": "code",
   "execution_count": 12,
   "id": "647d1cc3",
   "metadata": {},
   "outputs": [
    {
     "data": {
      "text/plain": [
       "10000000"
      ]
     },
     "execution_count": 12,
     "metadata": {},
     "output_type": "execute_result"
    }
   ],
   "source": [
    "santosh.salary"
   ]
  },
  {
   "cell_type": "code",
   "execution_count": 13,
   "id": "cbcdf3b2",
   "metadata": {},
   "outputs": [
    {
     "name": "stdout",
     "output_type": "stream",
     "text": [
      "26 <__main__.emp object at 0x000002F5406FE5B0> 10000000\n"
     ]
    }
   ],
   "source": [
    "santosh.show()"
   ]
  },
  {
   "cell_type": "code",
   "execution_count": null,
   "id": "bdee1b77",
   "metadata": {},
   "outputs": [],
   "source": []
  }
 ],
 "metadata": {
  "kernelspec": {
   "display_name": "Python 3 (ipykernel)",
   "language": "python",
   "name": "python3"
  },
  "language_info": {
   "codemirror_mode": {
    "name": "ipython",
    "version": 3
   },
   "file_extension": ".py",
   "mimetype": "text/x-python",
   "name": "python",
   "nbconvert_exporter": "python",
   "pygments_lexer": "ipython3",
   "version": "3.9.12"
  }
 },
 "nbformat": 4,
 "nbformat_minor": 5
}
