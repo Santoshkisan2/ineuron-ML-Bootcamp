{
 "cells": [
  {
   "cell_type": "code",
   "execution_count": 1,
   "id": "f69975e1",
   "metadata": {},
   "outputs": [
    {
     "name": "stdout",
     "output_type": "stream",
     "text": [
      "all in limit\n"
     ]
    }
   ],
   "source": [
    "my_list=[14,10,12,17]\n",
    "low_bound=10\n",
    "up_bound=20\n",
    "for i in my_list:\n",
    "    if i<low_bound or i>up_bound:\n",
    "        print('all not in limit')\n",
    "        break\n",
    "else:\n",
    "    print('all in limit')"
   ]
  },
  {
   "cell_type": "code",
   "execution_count": 2,
   "id": "54950c0b",
   "metadata": {},
   "outputs": [
    {
     "name": "stdout",
     "output_type": "stream",
     "text": [
      "all not in limit\n"
     ]
    }
   ],
   "source": [
    "my_list=[14,10,12,17,50]\n",
    "low_bound=10\n",
    "up_bound=20\n",
    "for i in my_list:\n",
    "    if i<low_bound or i>up_bound:\n",
    "        print('all not in limit')\n",
    "        break\n",
    "else:\n",
    "    print('all in limit')"
   ]
  },
  {
   "cell_type": "code",
   "execution_count": 6,
   "id": "1a809cae",
   "metadata": {},
   "outputs": [],
   "source": [
    "# range() function in python which return range object\n",
    "# this function used to generate sequence of number in form of list"
   ]
  },
  {
   "cell_type": "code",
   "execution_count": 4,
   "id": "199b7a39",
   "metadata": {},
   "outputs": [],
   "source": [
    "a=range(10)"
   ]
  },
  {
   "cell_type": "code",
   "execution_count": 5,
   "id": "5c8e260f",
   "metadata": {},
   "outputs": [
    {
     "name": "stdout",
     "output_type": "stream",
     "text": [
      "range(0, 10)\n"
     ]
    }
   ],
   "source": [
    "print(a)"
   ]
  },
  {
   "cell_type": "code",
   "execution_count": 7,
   "id": "9f8ba9d0",
   "metadata": {},
   "outputs": [
    {
     "data": {
      "text/plain": [
       "[0, 1, 2, 3, 4, 5, 6, 7, 8, 9]"
      ]
     },
     "execution_count": 7,
     "metadata": {},
     "output_type": "execute_result"
    }
   ],
   "source": [
    "list(a)"
   ]
  },
  {
   "cell_type": "code",
   "execution_count": 9,
   "id": "5efd1329",
   "metadata": {},
   "outputs": [],
   "source": [
    "# range(start,stop,step)"
   ]
  },
  {
   "cell_type": "code",
   "execution_count": 10,
   "id": "972663be",
   "metadata": {},
   "outputs": [],
   "source": [
    "b=range(4)"
   ]
  },
  {
   "cell_type": "code",
   "execution_count": 11,
   "id": "47339697",
   "metadata": {},
   "outputs": [
    {
     "name": "stdout",
     "output_type": "stream",
     "text": [
      "range(0, 4)\n"
     ]
    }
   ],
   "source": [
    "print(b)"
   ]
  },
  {
   "cell_type": "code",
   "execution_count": 12,
   "id": "7e1e9c31",
   "metadata": {},
   "outputs": [
    {
     "data": {
      "text/plain": [
       "[0, 1, 2, 3]"
      ]
     },
     "execution_count": 12,
     "metadata": {},
     "output_type": "execute_result"
    }
   ],
   "source": [
    "list(b)"
   ]
  },
  {
   "cell_type": "code",
   "execution_count": 13,
   "id": "d57591cf",
   "metadata": {},
   "outputs": [
    {
     "name": "stdout",
     "output_type": "stream",
     "text": [
      "0\n",
      "1\n",
      "2\n",
      "3\n"
     ]
    }
   ],
   "source": [
    "for i in b:\n",
    "    print(i)"
   ]
  },
  {
   "cell_type": "code",
   "execution_count": 14,
   "id": "81861e5f",
   "metadata": {},
   "outputs": [],
   "source": [
    "x=range(7)"
   ]
  },
  {
   "cell_type": "code",
   "execution_count": 15,
   "id": "fa001d52",
   "metadata": {},
   "outputs": [
    {
     "name": "stdout",
     "output_type": "stream",
     "text": [
      "0\n",
      "1\n",
      "2\n",
      "3\n",
      "4\n",
      "5\n",
      "6\n"
     ]
    }
   ],
   "source": [
    "for i in x:\n",
    "    print(i)"
   ]
  },
  {
   "cell_type": "code",
   "execution_count": 16,
   "id": "20b7c01c",
   "metadata": {},
   "outputs": [],
   "source": [
    "y=range(1,7)"
   ]
  },
  {
   "cell_type": "code",
   "execution_count": 24,
   "id": "ddb9b374",
   "metadata": {},
   "outputs": [
    {
     "name": "stdout",
     "output_type": "stream",
     "text": [
      "1\n",
      "2\n",
      "3\n",
      "4\n",
      "5\n",
      "6\n"
     ]
    }
   ],
   "source": [
    "for i in y:\n",
    "    print(i)\n",
    "# Range(7) mmeans upto 6 but not 7 itself"
   ]
  },
  {
   "cell_type": "code",
   "execution_count": 25,
   "id": "362510e0",
   "metadata": {},
   "outputs": [],
   "source": [
    "x=range(-10) # range always start from 0 or its jump towards right of start value"
   ]
  },
  {
   "cell_type": "code",
   "execution_count": 23,
   "id": "0d0d6e33",
   "metadata": {},
   "outputs": [
    {
     "data": {
      "text/plain": [
       "[]"
      ]
     },
     "execution_count": 23,
     "metadata": {},
     "output_type": "execute_result"
    }
   ],
   "source": [
    "list(x)"
   ]
  },
  {
   "cell_type": "code",
   "execution_count": 37,
   "id": "fd1a0491",
   "metadata": {},
   "outputs": [],
   "source": [
    "a=range(-10,3)\n"
   ]
  },
  {
   "cell_type": "code",
   "execution_count": 39,
   "id": "2efee985",
   "metadata": {},
   "outputs": [
    {
     "data": {
      "text/plain": [
       "[-10, -9, -8, -7, -6, -5, -4, -3, -2, -1, 0, 1, 2]"
      ]
     },
     "execution_count": 39,
     "metadata": {},
     "output_type": "execute_result"
    }
   ],
   "source": [
    "list(a)\n"
   ]
  },
  {
   "cell_type": "code",
   "execution_count": 42,
   "id": "8b6aeed3",
   "metadata": {},
   "outputs": [
    {
     "data": {
      "text/plain": [
       "[-7, -5, -3, -1, 1, 3]"
      ]
     },
     "execution_count": 42,
     "metadata": {},
     "output_type": "execute_result"
    }
   ],
   "source": [
    "a=range(-7,5,2)\n",
    "list(a)"
   ]
  },
  {
   "cell_type": "code",
   "execution_count": 43,
   "id": "32c65b04",
   "metadata": {},
   "outputs": [
    {
     "data": {
      "text/plain": [
       "[7, 5, 3, 1, -1, -3]"
      ]
     },
     "execution_count": 43,
     "metadata": {},
     "output_type": "execute_result"
    }
   ],
   "source": [
    "a=range(7,-5,-2)\n",
    "list(a)"
   ]
  },
  {
   "cell_type": "code",
   "execution_count": 44,
   "id": "7934bac7",
   "metadata": {},
   "outputs": [
    {
     "data": {
      "text/plain": [
       "[5]"
      ]
     },
     "execution_count": 44,
     "metadata": {},
     "output_type": "execute_result"
    }
   ],
   "source": [
    "a=range(5,10,20)\n",
    "list(a)"
   ]
  },
  {
   "cell_type": "code",
   "execution_count": 45,
   "id": "965f4d57",
   "metadata": {},
   "outputs": [
    {
     "ename": "TypeError",
     "evalue": "'float' object cannot be interpreted as an integer",
     "output_type": "error",
     "traceback": [
      "\u001b[1;31m---------------------------------------------------------------------------\u001b[0m",
      "\u001b[1;31mTypeError\u001b[0m                                 Traceback (most recent call last)",
      "\u001b[1;32m~\\AppData\\Local\\Temp\\ipykernel_4236\\2249156124.py\u001b[0m in \u001b[0;36m<module>\u001b[1;34m\u001b[0m\n\u001b[1;32m----> 1\u001b[1;33m \u001b[0ma\u001b[0m\u001b[1;33m=\u001b[0m\u001b[0mrange\u001b[0m\u001b[1;33m(\u001b[0m\u001b[1;33m-\u001b[0m\u001b[1;36m7\u001b[0m\u001b[1;33m,\u001b[0m\u001b[1;36m5\u001b[0m\u001b[1;33m,\u001b[0m\u001b[1;36m1.5\u001b[0m\u001b[1;33m)\u001b[0m\u001b[1;33m\u001b[0m\u001b[1;33m\u001b[0m\u001b[0m\n\u001b[0m\u001b[0;32m      2\u001b[0m \u001b[0mlist\u001b[0m\u001b[1;33m(\u001b[0m\u001b[0ma\u001b[0m\u001b[1;33m)\u001b[0m\u001b[1;33m\u001b[0m\u001b[1;33m\u001b[0m\u001b[0m\n",
      "\u001b[1;31mTypeError\u001b[0m: 'float' object cannot be interpreted as an integer"
     ]
    }
   ],
   "source": [
    "a=range(-7,5,1.5)\n",
    "list(a)"
   ]
  },
  {
   "cell_type": "code",
   "execution_count": 50,
   "id": "64244150",
   "metadata": {},
   "outputs": [
    {
     "data": {
      "text/plain": [
       "[5, 7, 9]"
      ]
     },
     "execution_count": 50,
     "metadata": {},
     "output_type": "execute_result"
    }
   ],
   "source": [
    "a=range(5,10,2)\n",
    "list(a)"
   ]
  },
  {
   "cell_type": "code",
   "execution_count": 51,
   "id": "66b1292e",
   "metadata": {},
   "outputs": [
    {
     "name": "stdout",
     "output_type": "stream",
     "text": [
      "0\n",
      "1\n",
      "2\n",
      "3\n",
      "4\n",
      "5\n",
      "6\n",
      "7\n",
      "8\n",
      "9\n",
      "10\n"
     ]
    }
   ],
   "source": [
    "for i in range(11):\n",
    "    print(i)"
   ]
  },
  {
   "cell_type": "code",
   "execution_count": 56,
   "id": "28c7a045",
   "metadata": {},
   "outputs": [
    {
     "name": "stdout",
     "output_type": "stream",
     "text": [
      "enter the int 5\n",
      "sum of num is 1 to 5 is 15\n"
     ]
    }
   ],
   "source": [
    "num=int(input('enter the int '))\n",
    "total=0\n",
    "\n",
    "for i in range(1,num+1):\n",
    "    total=total+i\n",
    "    \n",
    "print('sum of num is 1 to {} is {}'.format(num,total))"
   ]
  },
  {
   "cell_type": "code",
   "execution_count": 57,
   "id": "bb4ef267",
   "metadata": {},
   "outputs": [
    {
     "name": "stdout",
     "output_type": "stream",
     "text": [
      "100\n",
      "90\n",
      "80\n",
      "70\n",
      "60\n",
      "50\n",
      "40\n",
      "30\n",
      "20\n",
      "10\n"
     ]
    }
   ],
   "source": [
    "for i in range(100,0,-10):\n",
    "    print(i)"
   ]
  },
  {
   "cell_type": "code",
   "execution_count": 58,
   "id": "48b538ba",
   "metadata": {},
   "outputs": [
    {
     "name": "stdout",
     "output_type": "stream",
     "text": [
      "0\n",
      "1\n",
      "2\n",
      "3\n",
      "4\n",
      "5\n",
      "6\n",
      "7\n",
      "8\n",
      "9\n",
      "loop complete\n"
     ]
    }
   ],
   "source": [
    "for i in range(10):\n",
    "    print(i)\n",
    "else:\n",
    "    print('loop complete')"
   ]
  },
  {
   "cell_type": "code",
   "execution_count": 60,
   "id": "0d76919f",
   "metadata": {},
   "outputs": [
    {
     "name": "stdout",
     "output_type": "stream",
     "text": [
      "1\n",
      "a\n",
      "b\n",
      "c\n",
      "2\n",
      "a\n",
      "b\n",
      "c\n",
      "3\n",
      "a\n",
      "b\n",
      "c\n"
     ]
    }
   ],
   "source": [
    "number=[1,2,3]\n",
    "alpha=['a','b','c']\n",
    "for n in number:\n",
    "    print(n)\n",
    "    for ch in alpha:\n",
    "        print(ch)\n",
    "# second for will run full for each first for"
   ]
  },
  {
   "cell_type": "code",
   "execution_count": 7,
   "id": "8dcd8cc8",
   "metadata": {},
   "outputs": [
    {
     "name": "stdout",
     "output_type": "stream",
     "text": [
      "* * * \n",
      "* * * \n",
      "* * * \n",
      "* * * \n"
     ]
    }
   ],
   "source": [
    "for i in range(4):\n",
    "    for j in range(3):\n",
    "        print('*',end=' ')\n",
    "    print()"
   ]
  },
  {
   "cell_type": "code",
   "execution_count": 12,
   "id": "9cfbe343",
   "metadata": {},
   "outputs": [
    {
     "name": "stdout",
     "output_type": "stream",
     "text": [
      "***\n",
      "***\n",
      "***\n",
      "***\n"
     ]
    }
   ],
   "source": [
    "for i in range(1,5):\n",
    "    print('*'*3)"
   ]
  },
  {
   "cell_type": "code",
   "execution_count": 65,
   "id": "10666f6f",
   "metadata": {},
   "outputs": [
    {
     "name": "stdout",
     "output_type": "stream",
     "text": [
      "*  \n",
      "* *  \n",
      "* * *  \n",
      "* * * *  \n"
     ]
    }
   ],
   "source": [
    "for i in range(4):\n",
    "    for j in range(i+1):\n",
    "        print('*',end=' ')\n",
    "    print(' ')"
   ]
  },
  {
   "cell_type": "code",
   "execution_count": 14,
   "id": "55cbca38",
   "metadata": {},
   "outputs": [
    {
     "name": "stdout",
     "output_type": "stream",
     "text": [
      "****\n",
      "***\n",
      "**\n",
      "*\n"
     ]
    }
   ],
   "source": [
    "for i in range(4):\n",
    "    for j in range(4-i):\n",
    "        print('*',end='')\n",
    "    print('')"
   ]
  },
  {
   "cell_type": "code",
   "execution_count": 70,
   "id": "93488255",
   "metadata": {},
   "outputs": [
    {
     "name": "stdout",
     "output_type": "stream",
     "text": [
      "Please Enter any Number: 5\n",
      "The List of Natural Numbers from 1 to 5\n",
      "1\n",
      "2\n",
      "3\n",
      "4\n",
      "5\n",
      "Please Enter any Number: 0\n",
      "The List of Natural Numbers from 1 to 0\n"
     ]
    }
   ],
   "source": [
    "while True: \n",
    "    n = int(input(\"Please Enter any Number: \"))\n",
    "    print(\"The List of Natural Numbers from 1\", \"to\", n) \n",
    "    if n==0:\n",
    "        break\n",
    "    for i in range(1, n+1):\n",
    "        print (i)"
   ]
  },
  {
   "cell_type": "code",
   "execution_count": 72,
   "id": "1c8a36bd",
   "metadata": {},
   "outputs": [
    {
     "name": "stdout",
     "output_type": "stream",
     "text": [
      "Enter num : 5\n",
      "0\n",
      "1\n",
      "2\n",
      "3\n",
      "4\n",
      "Enter num : 0\n"
     ]
    }
   ],
   "source": [
    "user_num = int(input('Enter num : '))\n",
    "while(user_num!=0):\n",
    "    if user_num==0:\n",
    "        break\n",
    "        print('exit')\n",
    "    else:\n",
    "        for i in range(user_num):\n",
    "            print(i)\n",
    "    user_num=int(input('Enter num : '))"
   ]
  },
  {
   "cell_type": "code",
   "execution_count": 73,
   "id": "643d71a9",
   "metadata": {},
   "outputs": [
    {
     "name": "stdout",
     "output_type": "stream",
     "text": [
      " \n",
      " \n",
      "*  \n",
      "* *  \n"
     ]
    }
   ],
   "source": [
    "for i in range(4):\n",
    "    for j in range(i-1):\n",
    "        print('*',end=' ')\n",
    "    print(' ')"
   ]
  },
  {
   "cell_type": "code",
   "execution_count": null,
   "id": "9038705e",
   "metadata": {},
   "outputs": [],
   "source": []
  }
 ],
 "metadata": {
  "kernelspec": {
   "display_name": "Python 3 (ipykernel)",
   "language": "python",
   "name": "python3"
  },
  "language_info": {
   "codemirror_mode": {
    "name": "ipython",
    "version": 3
   },
   "file_extension": ".py",
   "mimetype": "text/x-python",
   "name": "python",
   "nbconvert_exporter": "python",
   "pygments_lexer": "ipython3",
   "version": "3.9.15"
  }
 },
 "nbformat": 4,
 "nbformat_minor": 5
}
