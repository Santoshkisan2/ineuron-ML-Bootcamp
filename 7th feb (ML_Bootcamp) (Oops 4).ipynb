{
 "cells": [
  {
   "cell_type": "markdown",
   "id": "9ae76b2c",
   "metadata": {},
   "source": [
    "simple inheritance\n",
    "\n",
    "multilevel inheritance\n",
    "\n",
    "hirarchical inheritance\n",
    "\n",
    "multiple inheritance\n",
    "\n",
    "hybrid inheritance"
   ]
  },
  {
   "cell_type": "markdown",
   "id": "dfca23a7",
   "metadata": {},
   "source": [
    "# This is example of hierarchical ingeritance"
   ]
  },
  {
   "cell_type": "code",
   "execution_count": 6,
   "id": "20dbb20a",
   "metadata": {},
   "outputs": [],
   "source": [
    "class schoolmember:\n",
    "    def __init__(self,name,age):\n",
    "        self.name=name\n",
    "        self.age=age\n",
    "    def tell(self):\n",
    "        print(self.name,self.age,end=\" \")\n",
    "class student(schoolmember):\n",
    "    def __init__(self,name,age,rollno,per):\n",
    "        super().__init__(name,age)\n",
    "        self.rollno=rollno\n",
    "        self.per=per\n",
    "    def tell(self):\n",
    "        super().tell()\n",
    "        print(self.rollno,self.per)\n",
    "class teacher(schoolmember):\n",
    "    def __init__(self,name,age,sal):\n",
    "        super().__init__()\n",
    "        self.sal=sal"
   ]
  },
  {
   "cell_type": "code",
   "execution_count": 7,
   "id": "ca102da3",
   "metadata": {},
   "outputs": [],
   "source": [
    "pranab=student('pranab',26,12,75)"
   ]
  },
  {
   "cell_type": "code",
   "execution_count": 8,
   "id": "9c15bedc",
   "metadata": {},
   "outputs": [
    {
     "name": "stdout",
     "output_type": "stream",
     "text": [
      "pranab 26 12 75\n"
     ]
    }
   ],
   "source": [
    "pranab.tell()"
   ]
  },
  {
   "cell_type": "markdown",
   "id": "69b0957e",
   "metadata": {},
   "source": [
    "# Example of multiple inheritance\n",
    "\n",
    "# this is Method Resolution Order (MRO)"
   ]
  },
  {
   "cell_type": "code",
   "execution_count": 1,
   "id": "e741fd42",
   "metadata": {},
   "outputs": [],
   "source": [
    "# MRO(method resolution order)"
   ]
  },
  {
   "cell_type": "code",
   "execution_count": 2,
   "id": "30604090",
   "metadata": {},
   "outputs": [],
   "source": [
    "class A:\n",
    "    pass\n",
    "    #def __init__(self):\n",
    "        #print(\"A has been called\")\n",
    "class B:\n",
    "    def __init__(self):\n",
    "        print(\"B has been called\")\n",
    "class C(A,B):\n",
    "    pass\n",
    "    #def __init__(self):\n",
    "        #pass"
   ]
  },
  {
   "cell_type": "code",
   "execution_count": 3,
   "id": "0a951f48",
   "metadata": {},
   "outputs": [
    {
     "name": "stdout",
     "output_type": "stream",
     "text": [
      "[<class '__main__.C'>, <class '__main__.A'>, <class '__main__.B'>, <class 'object'>]\n"
     ]
    }
   ],
   "source": [
    "print(C.mro())"
   ]
  },
  {
   "cell_type": "code",
   "execution_count": 4,
   "id": "504a23ba",
   "metadata": {},
   "outputs": [
    {
     "name": "stdout",
     "output_type": "stream",
     "text": [
      "B has been called\n"
     ]
    }
   ],
   "source": [
    "obj_first=C()"
   ]
  },
  {
   "cell_type": "code",
   "execution_count": 5,
   "id": "7975c8f0",
   "metadata": {},
   "outputs": [],
   "source": [
    "class A:\n",
    "    def __init__(self):\n",
    "        print(\"A has been called\")\n",
    "class B:\n",
    "    pass\n",
    "    #def __init__(self):\n",
    "        #print(\"B has been called\")\n",
    "class C(B,A):\n",
    "    pass\n",
    "    #def __init__(self):\n",
    "        #print(\"c has been called\")"
   ]
  },
  {
   "cell_type": "code",
   "execution_count": 6,
   "id": "7a2e3b2c",
   "metadata": {},
   "outputs": [
    {
     "name": "stdout",
     "output_type": "stream",
     "text": [
      "[<class '__main__.C'>, <class '__main__.B'>, <class '__main__.A'>, <class 'object'>]\n"
     ]
    }
   ],
   "source": [
    "print(C.mro())"
   ]
  },
  {
   "cell_type": "code",
   "execution_count": null,
   "id": "f594a5b6",
   "metadata": {},
   "outputs": [],
   "source": [
    "class person:\n",
    "    def __init__(self,name,age)\n",
    "class student:\n",
    "    def __init__(self,rollno,per):\n",
    "class sciencestudent(person,student):\n",
    "    def __init__(self,name,age,rollno,per,stream)"
   ]
  },
  {
   "cell_type": "code",
   "execution_count": 7,
   "id": "01c047b7",
   "metadata": {},
   "outputs": [],
   "source": [
    "obj_third=object()"
   ]
  },
  {
   "cell_type": "code",
   "execution_count": 8,
   "id": "82ef060a",
   "metadata": {},
   "outputs": [
    {
     "data": {
      "text/plain": [
       "['__class__',\n",
       " '__delattr__',\n",
       " '__dir__',\n",
       " '__doc__',\n",
       " '__eq__',\n",
       " '__format__',\n",
       " '__ge__',\n",
       " '__getattribute__',\n",
       " '__gt__',\n",
       " '__hash__',\n",
       " '__init__',\n",
       " '__init_subclass__',\n",
       " '__le__',\n",
       " '__lt__',\n",
       " '__ne__',\n",
       " '__new__',\n",
       " '__reduce__',\n",
       " '__reduce_ex__',\n",
       " '__repr__',\n",
       " '__setattr__',\n",
       " '__sizeof__',\n",
       " '__str__',\n",
       " '__subclasshook__']"
      ]
     },
     "execution_count": 8,
     "metadata": {},
     "output_type": "execute_result"
    }
   ],
   "source": [
    "dir(obj_third)"
   ]
  },
  {
   "cell_type": "markdown",
   "id": "fc385745",
   "metadata": {},
   "source": [
    "# hybrid inheritance"
   ]
  },
  {
   "cell_type": "code",
   "execution_count": 9,
   "id": "4ab2c246",
   "metadata": {},
   "outputs": [],
   "source": [
    "class A:\n",
    "    def m(self):\n",
    "        print(\"m of A called\")\n",
    "\n",
    "class B(A):\n",
    "    def m(self):\n",
    "        print(\"m of B called\")\n",
    "    \n",
    "class C(A):\n",
    "    def m(self):\n",
    "        print(\"m of C called\")\n",
    "\n",
    "class D(B,C):\n",
    "    def m(self):\n",
    "        print(\"m of D called\")\n",
    "        B.m(self)\n",
    "        C.m(self)\n",
    "        A.m(self)"
   ]
  },
  {
   "cell_type": "code",
   "execution_count": 10,
   "id": "97d93f6c",
   "metadata": {},
   "outputs": [],
   "source": [
    "mysecondobj=D()"
   ]
  },
  {
   "cell_type": "code",
   "execution_count": 11,
   "id": "e0e53fc8",
   "metadata": {},
   "outputs": [
    {
     "name": "stdout",
     "output_type": "stream",
     "text": [
      "m of D called\n",
      "m of B called\n",
      "m of C called\n",
      "m of A called\n"
     ]
    }
   ],
   "source": [
    "mysecondobj.m()"
   ]
  },
  {
   "cell_type": "markdown",
   "id": "66da628b",
   "metadata": {},
   "source": [
    "# polymorphism"
   ]
  },
  {
   "cell_type": "code",
   "execution_count": 13,
   "id": "a7e29eec",
   "metadata": {},
   "outputs": [],
   "source": [
    "# method overriding\n",
    "\n",
    "# repr-->A\n",
    "# repr-->B\n",
    "# repr-->c"
   ]
  },
  {
   "cell_type": "code",
   "execution_count": null,
   "id": "109c34b6",
   "metadata": {},
   "outputs": [],
   "source": [
    "+ operator arthmetic operator"
   ]
  },
  {
   "cell_type": "code",
   "execution_count": 14,
   "id": "f8846bf3",
   "metadata": {},
   "outputs": [
    {
     "ename": "NameError",
     "evalue": "name 'point' is not defined",
     "output_type": "error",
     "traceback": [
      "\u001b[1;31m---------------------------------------------------------------------------\u001b[0m",
      "\u001b[1;31mNameError\u001b[0m                                 Traceback (most recent call last)",
      "Input \u001b[1;32mIn [14]\u001b[0m, in \u001b[0;36m<cell line: 1>\u001b[1;34m()\u001b[0m\n\u001b[1;32m----> 1\u001b[0m p1\u001b[38;5;241m=\u001b[39m\u001b[43mpoint\u001b[49m(\u001b[38;5;241m2\u001b[39m,\u001b[38;5;241m4\u001b[39m)\n\u001b[0;32m      2\u001b[0m p2\u001b[38;5;241m=\u001b[39mpoint(\u001b[38;5;241m3\u001b[39m,\u001b[38;5;241m6\u001b[39m)\n\u001b[0;32m      3\u001b[0m p1\u001b[38;5;241m+\u001b[39mp2\n",
      "\u001b[1;31mNameError\u001b[0m: name 'point' is not defined"
     ]
    }
   ],
   "source": [
    "p1=point(2,4)\n",
    "p2=point(3,6)\n",
    "p1+p2"
   ]
  },
  {
   "cell_type": "code",
   "execution_count": 16,
   "id": "b442ec02",
   "metadata": {},
   "outputs": [],
   "source": [
    "class point:\n",
    "    def __init__(self,x,y):\n",
    "        self.x=x\n",
    "        self.y=y\n",
    "    def __add__(self,other):  # called magic method in python\n",
    "        x=self.x+other.x\n",
    "        y=self.y+other.y\n",
    "        p=point(x,y)\n",
    "        return p\n",
    "    def __repr__(self):\n",
    "        return f\"x={self.x},y={self.y}\""
   ]
  },
  {
   "cell_type": "code",
   "execution_count": 17,
   "id": "f731e3fd",
   "metadata": {},
   "outputs": [
    {
     "name": "stdout",
     "output_type": "stream",
     "text": [
      "x=2,y=4\n"
     ]
    }
   ],
   "source": [
    "p1=point(2,4)\n",
    "print(p1)"
   ]
  },
  {
   "cell_type": "code",
   "execution_count": 18,
   "id": "94465250",
   "metadata": {},
   "outputs": [
    {
     "name": "stdout",
     "output_type": "stream",
     "text": [
      "x=4,y=8\n"
     ]
    }
   ],
   "source": [
    "p2=point(4,8)\n",
    "print(p2)"
   ]
  },
  {
   "cell_type": "code",
   "execution_count": 19,
   "id": "e180d0df",
   "metadata": {},
   "outputs": [
    {
     "data": {
      "text/plain": [
       "x=6,y=12"
      ]
     },
     "execution_count": 19,
     "metadata": {},
     "output_type": "execute_result"
    }
   ],
   "source": [
    "p1+p2"
   ]
  },
  {
   "cell_type": "code",
   "execution_count": 20,
   "id": "755da873",
   "metadata": {},
   "outputs": [],
   "source": [
    "class point:\n",
    "    def __init__(self,x,y):\n",
    "        self.x=x\n",
    "        self.y=y\n",
    "    def __sub__(self,other):\n",
    "        x=self.x-other.x\n",
    "        y=self.y-other.y\n",
    "        p=point(x,y)\n",
    "        return p\n",
    "    def __repr__(self):\n",
    "        return f\"x={self.x},y={self.y}\""
   ]
  },
  {
   "cell_type": "code",
   "execution_count": 22,
   "id": "d4060a7a",
   "metadata": {},
   "outputs": [
    {
     "data": {
      "text/plain": [
       "x=5,y=10"
      ]
     },
     "execution_count": 22,
     "metadata": {},
     "output_type": "execute_result"
    }
   ],
   "source": [
    "p1=point(10,20)\n",
    "p2=point(5,10)\n",
    "p1-p2"
   ]
  },
  {
   "cell_type": "code",
   "execution_count": null,
   "id": "94e96d1f",
   "metadata": {},
   "outputs": [],
   "source": []
  },
  {
   "cell_type": "code",
   "execution_count": null,
   "id": "517d5e91",
   "metadata": {},
   "outputs": [],
   "source": []
  },
  {
   "cell_type": "code",
   "execution_count": null,
   "id": "90fcc6fc",
   "metadata": {},
   "outputs": [],
   "source": []
  },
  {
   "cell_type": "code",
   "execution_count": null,
   "id": "f7fb39e2",
   "metadata": {},
   "outputs": [],
   "source": []
  },
  {
   "cell_type": "code",
   "execution_count": 26,
   "id": "089a5116",
   "metadata": {},
   "outputs": [
    {
     "ename": "SyntaxError",
     "evalue": "invalid syntax (716145242.py, line 1)",
     "output_type": "error",
     "traceback": [
      "\u001b[1;36m  Input \u001b[1;32mIn [26]\u001b[1;36m\u001b[0m\n\u001b[1;33m    https://docs.google.com/document/d/1fxZeoO5W2aD0PfeSZx2bW6XFjuJAJv3-OeaFYiaUZ3Y/edit?usp&#61;sharing%5C\u001b[0m\n\u001b[1;37m          ^\u001b[0m\n\u001b[1;31mSyntaxError\u001b[0m\u001b[1;31m:\u001b[0m invalid syntax\n"
     ]
    }
   ],
   "source": [
    "https://docs.google.com/document/d/1fxZeoO5W2aD0PfeSZx2bW6XFjuJAJv3-OeaFYiaUZ3Y/edit?usp&#61;sharing%5C"
   ]
  },
  {
   "cell_type": "code",
   "execution_count": 27,
   "id": "84d5ede8",
   "metadata": {},
   "outputs": [
    {
     "ename": "SyntaxError",
     "evalue": "invalid syntax (42150911.py, line 1)",
     "output_type": "error",
     "traceback": [
      "\u001b[1;36m  Input \u001b[1;32mIn [27]\u001b[1;36m\u001b[0m\n\u001b[1;33m    https://docs.google.com/document/d/1fxZeoO5W2aD0PfeSZx2bW6XFjuJAJv3-OeaFYiaUZ3Y/edit?usp&#61;sharing\u001b[0m\n\u001b[1;37m          ^\u001b[0m\n\u001b[1;31mSyntaxError\u001b[0m\u001b[1;31m:\u001b[0m invalid syntax\n"
     ]
    }
   ],
   "source": [
    "https://docs.google.com/document/d/1fxZeoO5W2aD0PfeSZx2bW6XFjuJAJv3-OeaFYiaUZ3Y/edit?usp&#61;sharing"
   ]
  },
  {
   "cell_type": "code",
   "execution_count": null,
   "id": "ac32a743",
   "metadata": {},
   "outputs": [],
   "source": []
  }
 ],
 "metadata": {
  "kernelspec": {
   "display_name": "Python 3 (ipykernel)",
   "language": "python",
   "name": "python3"
  },
  "language_info": {
   "codemirror_mode": {
    "name": "ipython",
    "version": 3
   },
   "file_extension": ".py",
   "mimetype": "text/x-python",
   "name": "python",
   "nbconvert_exporter": "python",
   "pygments_lexer": "ipython3",
   "version": "3.9.12"
  }
 },
 "nbformat": 4,
 "nbformat_minor": 5
}
