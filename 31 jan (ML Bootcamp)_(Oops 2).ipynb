{
 "cells": [
  {
   "cell_type": "markdown",
   "id": "aece2064",
   "metadata": {},
   "source": [
    "sunny.savita@ineuron.ai"
   ]
  },
  {
   "cell_type": "markdown",
   "id": "e14c2db9",
   "metadata": {},
   "source": [
    "oops\n",
    "1. encapsulation\n",
    "2. inheritance\n",
    "3. polymorphism\n",
    "4. abstrsction"
   ]
  },
  {
   "cell_type": "code",
   "execution_count": 5,
   "id": "36db5a9f",
   "metadata": {},
   "outputs": [
    {
     "name": "stdout",
     "output_type": "stream",
     "text": [
      "3.141592653589793\n"
     ]
    }
   ],
   "source": [
    "import math\n",
    "print(math.pi)"
   ]
  },
  {
   "cell_type": "code",
   "execution_count": 1,
   "id": "6c9028e9",
   "metadata": {},
   "outputs": [],
   "source": [
    "class circle:\n",
    "    def __init__(self,r):\n",
    "        self.radius=r # instance variable\n",
    "        print(self.radius)\n",
    "    def cal_area(self):\n",
    "        self.area=math.pi*(self.radius**2)\n",
    "        print(self.area)\n",
    "    def cal_circumference(self):\n",
    "        self.cir=2*math.pi*(self.radius)\n",
    "        print(self.cir)\n",
    "    def display(self):\n",
    "        print(f\"area {self.area}\")\n",
    "        print(f\"circumference {self.cir}\")\n",
    "    "
   ]
  },
  {
   "cell_type": "code",
   "execution_count": 2,
   "id": "4dd25ef1",
   "metadata": {},
   "outputs": [
    {
     "name": "stdout",
     "output_type": "stream",
     "text": [
      "radius: 10\n",
      "10\n"
     ]
    }
   ],
   "source": [
    "r=int(input(\"radius: \"))\n",
    "obj=circle(r)"
   ]
  },
  {
   "cell_type": "code",
   "execution_count": 6,
   "id": "1e844f43",
   "metadata": {},
   "outputs": [
    {
     "name": "stdout",
     "output_type": "stream",
     "text": [
      "314.1592653589793\n"
     ]
    }
   ],
   "source": [
    "obj.cal_area()"
   ]
  },
  {
   "cell_type": "code",
   "execution_count": 7,
   "id": "536d657d",
   "metadata": {},
   "outputs": [
    {
     "name": "stdout",
     "output_type": "stream",
     "text": [
      "62.83185307179586\n"
     ]
    }
   ],
   "source": [
    "obj.cal_circumference()"
   ]
  },
  {
   "cell_type": "code",
   "execution_count": 8,
   "id": "910c52c6",
   "metadata": {},
   "outputs": [
    {
     "name": "stdout",
     "output_type": "stream",
     "text": [
      "area 314.1592653589793\n",
      "circumference 62.83185307179586\n"
     ]
    }
   ],
   "source": [
    "obj.display()"
   ]
  },
  {
   "cell_type": "code",
   "execution_count": 9,
   "id": "082b4697",
   "metadata": {},
   "outputs": [],
   "source": [
    "class xyz:\n",
    "    var1 = \"abc\" # class variable\n",
    "def abc(self,a): # instance variable\n",
    "    self.x=a # local variable"
   ]
  },
  {
   "cell_type": "code",
   "execution_count": 10,
   "id": "b7fdd55f",
   "metadata": {},
   "outputs": [],
   "source": [
    "class emp:\n",
    "    def __init__(self,a,b,c):\n",
    "        self.name=a\n",
    "        self.age=b\n",
    "        self.salary=c\n",
    "        "
   ]
  },
  {
   "cell_type": "code",
   "execution_count": null,
   "id": "ae1a02d9",
   "metadata": {},
   "outputs": [],
   "source": []
  },
  {
   "cell_type": "code",
   "execution_count": 11,
   "id": "b8dd1346",
   "metadata": {},
   "outputs": [],
   "source": [
    "class emp:\n",
    "    raise_amount = 0.05\n",
    "    \n",
    "    def __init__(self, name, age, salary):\n",
    "        self.name = name\n",
    "        self.age = age\n",
    "        self.salary = salary\n",
    "\n",
    "    def increase_salary(self):\n",
    "        self.salary = self.salary + (self.salary * emp.raise_amount)\n",
    "\n",
    "    def display(self):\n",
    "        print(\"Name:\", self.name)\n",
    "        print(\"Age:\", self.age)\n",
    "        print(\"Salary:\", self.salary)\n",
    "\n",
    "        \n",
    "\n"
   ]
  },
  {
   "cell_type": "code",
   "execution_count": 12,
   "id": "6da406e7",
   "metadata": {},
   "outputs": [
    {
     "name": "stdout",
     "output_type": "stream",
     "text": [
      "Name: John Doe\n",
      "Age: 30\n",
      "Salary: 5000\n"
     ]
    }
   ],
   "source": [
    "emp.raise_amount=0.05\n",
    "emp1 = emp(\"John Doe\", 30, 5000)\n",
    "emp1.display()\n",
    "emp1.increase_salary()"
   ]
  },
  {
   "cell_type": "code",
   "execution_count": 13,
   "id": "c72d2450",
   "metadata": {},
   "outputs": [],
   "source": [
    "class emp:\n",
    "    raise_amount=0\n",
    "    @classmethod # decorator\n",
    "    def set_raise_amt(cls):\n",
    "        cls.raise_amount=float(input('Write a percent increase '))\n",
    "    \n",
    "    def __init__(self,name,age,sal):\n",
    "        self.name=name\n",
    "        self.age = age\n",
    "        self.sal = sal\n",
    "    def increase_sal():\n",
    "        self.sal=self.sal+(self.sal*emp.raise_amount/100)\n",
    "    def display(self):\n",
    "        print(self.name,self.age,self.sal)"
   ]
  },
  {
   "cell_type": "markdown",
   "id": "2c4d9cab",
   "metadata": {},
   "source": [
    "Write a program to create a class called Emp , having an instance members called name , age and sal . Also declare a class variable called raise_amount to store the increment percentage of sal and set it the value given by the user\n",
    "\n",
    "Now provide following methods in your class __init___() : This method should initialize instance members with the parameter passed\n",
    "\n",
    "increase_sal(): This method should calculate the increment in sal and add it to the instance member sal\n",
    "\n",
    "display(): This method should display name , age and sal of the employee\n",
    "\n",
    "Finally , in the main script , create 2 Emp objects , initialize them and increase their salary . Finally display the data"
   ]
  },
  {
   "cell_type": "code",
   "execution_count": 14,
   "id": "c678a00c",
   "metadata": {},
   "outputs": [
    {
     "name": "stdout",
     "output_type": "stream",
     "text": [
      "Name : satish\n",
      "Age : 30\n",
      "salary :  200\n",
      "Name : satish\n",
      "Age : 30\n",
      "salary :  250.0\n"
     ]
    }
   ],
   "source": [
    "class emp:\n",
    "    raise_amount = 25\n",
    "    def __init__(self,n,a,s):\n",
    "        self.name =n\n",
    "        self.age =a\n",
    "        self.sal=s\n",
    "    def increase_sal(self):\n",
    "        self.sal =  self.sal + (self.sal *(emp.raise_amount/100))\n",
    "        \n",
    "    def display(self):\n",
    "        print( \"Name :\",self.name)\n",
    "        print( \"Age :\",self.age)\n",
    "        print(\"salary : \",self.sal)\n",
    "        \n",
    "e1 =   emp(\"satish\",30,200)\n",
    "\n",
    "e1.display()\n",
    "\n",
    "e1.increase_sal()\n",
    "\n",
    "e1.display()"
   ]
  },
  {
   "cell_type": "code",
   "execution_count": 15,
   "id": "aad5c9cb",
   "metadata": {},
   "outputs": [
    {
     "name": "stdout",
     "output_type": "stream",
     "text": [
      "Enter Raise Percentage: 20\n"
     ]
    }
   ],
   "source": [
    "class Employee:\n",
    "    raise_amount = int(input(\"Enter Raise Percentage: \"))\n",
    "    def __init__(self,name,age,sal):\n",
    "        self.Name = name\n",
    "        self.Age = age\n",
    "        self.Sal = sal\n",
    "    def increase_sal(self):\n",
    "        self.Sal = self.Sal+(self.Sal*(self.raise_amount/100))\n",
    "    def display(self):\n",
    "        print(f\"Employee Name: {self.Name} | Employee Age: {self.Age} | Emloyee Salary: {self.Sal}\")"
   ]
  },
  {
   "cell_type": "code",
   "execution_count": 16,
   "id": "b729850c",
   "metadata": {},
   "outputs": [
    {
     "name": "stdout",
     "output_type": "stream",
     "text": [
      "Employee Name: Ajay | Employee Age: 23 | Emloyee Salary: 12000.0\n"
     ]
    }
   ],
   "source": [
    "obj = Employee(\"Ajay\",23,10000)\n",
    "obj.increase_sal()\n",
    "obj.display()"
   ]
  },
  {
   "cell_type": "code",
   "execution_count": 17,
   "id": "3d8b354e",
   "metadata": {},
   "outputs": [],
   "source": [
    "class emp:\n",
    "    raise_amout=0\n",
    "    \n",
    "    @classmethod\n",
    "    def set_raise_amt(cls):\n",
    "        cls.raise_amout=float(input(\"write a percent which you want to increase\"))\n",
    "    \n",
    "    \n",
    "    \n",
    "    def __init__(self,name,age,sal):\n",
    "        self.name=name\n",
    "        self.age=age\n",
    "        self.sal=sal\n",
    "    def increase_sal(self):\n",
    "        self.sal=self.sal+(self.sal*emp.raise_amout/100)\n",
    "    def display(self):\n",
    "        print(self.sal,self.name,self.age)"
   ]
  },
  {
   "cell_type": "code",
   "execution_count": 18,
   "id": "7c81b0bc",
   "metadata": {},
   "outputs": [
    {
     "name": "stdout",
     "output_type": "stream",
     "text": [
      "50000 kush 25\n"
     ]
    }
   ],
   "source": [
    "kush=emp(\"kush\",25,50000)\n",
    "kush.display()\n",
    "kush.increase_sal()\n"
   ]
  },
  {
   "cell_type": "code",
   "execution_count": null,
   "id": "dd5e0728",
   "metadata": {},
   "outputs": [],
   "source": []
  }
 ],
 "metadata": {
  "kernelspec": {
   "display_name": "Python 3 (ipykernel)",
   "language": "python",
   "name": "python3"
  },
  "language_info": {
   "codemirror_mode": {
    "name": "ipython",
    "version": 3
   },
   "file_extension": ".py",
   "mimetype": "text/x-python",
   "name": "python",
   "nbconvert_exporter": "python",
   "pygments_lexer": "ipython3",
   "version": "3.9.12"
  }
 },
 "nbformat": 4,
 "nbformat_minor": 5
}
