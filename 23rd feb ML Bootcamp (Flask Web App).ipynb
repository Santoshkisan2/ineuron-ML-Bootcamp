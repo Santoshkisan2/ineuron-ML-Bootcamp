{
 "cells": [
  {
   "cell_type": "raw",
   "id": "c7d30a99",
   "metadata": {},
   "source": [
    "Applications\n",
    "1. Desktop app\n",
    "2. Web app\n",
    "3. Mobile app"
   ]
  },
  {
   "cell_type": "raw",
   "id": "be6f417b",
   "metadata": {},
   "source": [
    "Desktop app using python\n",
    "1. tkinter\n",
    "2. kivy\n",
    "3. wx python\n",
    "4. pyqt"
   ]
  },
  {
   "cell_type": "raw",
   "id": "34cca3a9",
   "metadata": {},
   "source": [
    "Web app\n",
    "1. flask\n",
    "2. Django\n",
    "3. Fast API\n",
    "4. falcan"
   ]
  },
  {
   "cell_type": "raw",
   "id": "64e17a40",
   "metadata": {},
   "source": [
    "COllection creating of web pages --> HTML\n",
    "for designing --> css\n",
    "to make interactive one from user side --> java script \n",
    "popular libraries --> React, Node, Angular, nest"
   ]
  },
  {
   "cell_type": "raw",
   "id": "9f5ee10b",
   "metadata": {},
   "source": [
    "Deployment on cloud or on local server\n",
    "local server  127.0.0.0.1:\n",
    "                0.0.0.0"
   ]
  },
  {
   "cell_type": "raw",
   "id": "6612a36f",
   "metadata": {},
   "source": [
    "protocols\n",
    "HTTP/HTTPS\n",
    "methods\n",
    "put, get, post, delete, head"
   ]
  },
  {
   "cell_type": "raw",
   "id": "b5455c61",
   "metadata": {},
   "source": [
    "API --> Appplication Programming Interface"
   ]
  },
  {
   "cell_type": "raw",
   "id": "ea22fe11",
   "metadata": {},
   "source": [
    "url --> uniform resources locator"
   ]
  },
  {
   "cell_type": "code",
   "execution_count": null,
   "id": "65ffa1fd",
   "metadata": {},
   "outputs": [],
   "source": [
    "sunny.savita@ineuron.ai"
   ]
  },
  {
   "cell_type": "code",
   "execution_count": null,
   "id": "8555054b",
   "metadata": {},
   "outputs": [],
   "source": []
  },
  {
   "cell_type": "code",
   "execution_count": null,
   "id": "e58fa157",
   "metadata": {},
   "outputs": [],
   "source": [
    "# Basic Flask Web App"
   ]
  },
  {
   "cell_type": "code",
   "execution_count": null,
   "id": "79d756f4",
   "metadata": {},
   "outputs": [],
   "source": [
    "from flask import Flask\n",
    "\n",
    "app = Flask(__name__)\n",
    "\n",
    "@app.route(\"/\")\n",
    "def hello_world():\n",
    "    return \"<h1>Hello, World!</h1>\"\n",
    "\n",
    "if __name__==\"__main__\":\n",
    "    app.run(host=\"0.0.0.0\",port=5000)\n"
   ]
  },
  {
   "cell_type": "code",
   "execution_count": null,
   "id": "6afe7e08",
   "metadata": {},
   "outputs": [],
   "source": [
    "from flask import Flask,request,jsonify,render_template\n",
    "\n",
    "# jsonify() function returns a Response object. Flask serializes your data as JSON and adds it to this Response object.\n",
    "# Testing api from the postman .\n",
    "\n",
    "app=Flask(__name__)\n",
    "\n",
    "@app.route(\"/\")\n",
    "def home_page():\n",
    "    return render_template('index.html')\n",
    "\n",
    "@app.route(\"/sunny\",methods=[\"POST\"])\n",
    "def operation():\n",
    "    if (request.method==\"POST\"):  # we are requesting input from user\n",
    "        first_name=request.json[\"firstname\"]\n",
    "        last_name=request.json[\"lastname\"]\n",
    "        result=f\"my full name is : {first_name+last_name}\"\n",
    "    return jsonify(result)\n",
    "    # jsonify --> return the file in json format\n",
    "\n",
    "@app.route(\"/math\",methods=[\"POST\"])\n",
    "def add_number():\n",
    "    if request.method==\"POST\" :\n",
    "        num1=request.json[\"num1\"]\n",
    "        num2=request.json[\"num2\"]\n",
    "        result=f\"addition is : {num1+num2}\"\n",
    "    return jsonify(result)\n",
    "\n",
    "if __name__==\"__main__\":\n",
    "    app.run(host=\"0.0.0.0\")"
   ]
  },
  {
   "cell_type": "code",
   "execution_count": null,
   "id": "084c5181",
   "metadata": {},
   "outputs": [],
   "source": []
  },
  {
   "cell_type": "code",
   "execution_count": null,
   "id": "9e9db2fc",
   "metadata": {},
   "outputs": [],
   "source": []
  }
 ],
 "metadata": {
  "kernelspec": {
   "display_name": "Python 3 (ipykernel)",
   "language": "python",
   "name": "python3"
  },
  "language_info": {
   "codemirror_mode": {
    "name": "ipython",
    "version": 3
   },
   "file_extension": ".py",
   "mimetype": "text/x-python",
   "name": "python",
   "nbconvert_exporter": "python",
   "pygments_lexer": "ipython3",
   "version": "3.9.12"
  }
 },
 "nbformat": 4,
 "nbformat_minor": 5
}
