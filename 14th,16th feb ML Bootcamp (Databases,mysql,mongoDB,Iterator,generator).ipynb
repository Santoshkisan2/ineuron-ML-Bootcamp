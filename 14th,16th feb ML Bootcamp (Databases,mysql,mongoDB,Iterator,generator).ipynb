{
 "cells": [
  {
   "cell_type": "code",
   "execution_count": 2,
   "id": "a89a5c18",
   "metadata": {},
   "outputs": [],
   "source": [
    "# Mysql connector in python"
   ]
  },
  {
   "cell_type": "code",
   "execution_count": null,
   "id": "a3266b90",
   "metadata": {},
   "outputs": [],
   "source": [
    "import mysql.connector\n",
    "# import mysql.connector\n",
    "#create user 'user'@'%' identified by 'password'\n",
    "mydb = mysql.connector.connect(\n",
    "  host=\"localhost\",\n",
    "  user=\"abc\",\n",
    "  password=\"password\"\n",
    ")\n",
    "print(mydb)\n",
    "mycursor = mydb.cursor()\n",
    "mycursor.execute(\"SHOW DATABASES\") # write the query in \"xyz\"\n",
    "\n",
    "# mydb.commit() # To store data in mydb\n",
    "\n",
    "for x in mycursor: # to print the object\n",
    "    print(x)"
   ]
  },
  {
   "cell_type": "code",
   "execution_count": null,
   "id": "e49d3c23",
   "metadata": {},
   "outputs": [],
   "source": []
  },
  {
   "cell_type": "code",
   "execution_count": null,
   "id": "e1c5e068",
   "metadata": {},
   "outputs": [],
   "source": []
  },
  {
   "cell_type": "code",
   "execution_count": 1,
   "id": "b82f68a7",
   "metadata": {},
   "outputs": [],
   "source": [
    "# Mongodb demo on python"
   ]
  },
  {
   "cell_type": "code",
   "execution_count": null,
   "id": "b0fe7d6e",
   "metadata": {},
   "outputs": [],
   "source": [
    "import pymongo\n",
    "\n",
    "# Provide the mongodb localhost url to connect python to mongodb.\n",
    "client = pymongo.MongoClient(\"mongodb+srv://santosh0:<password>@cluster0.iqaiqul.mongodb.net/?retryWrites=true&w=majority\")\n",
    "\n",
    "# Database Name\n",
    "dataBase = client[\"neurolabDB\"]\n",
    "\n",
    "# Collection  Name\n",
    "collection = dataBase['Products']\n",
    "\n",
    "# Sample data\n",
    "d = {'companyName': 'iNeuron',\n",
    "     'product': 'Affordable AI',\n",
    "     'courseOffered': 'Machine Learning with Deployment'}\n",
    "\n",
    "# Insert above records in the collection\n",
    "rec = collection.insert_one(d)\n",
    "\n",
    "# Lets Verify all the record at once present in the record with all the fields\n",
    "all_record = collection.find()\n",
    "\n",
    "# Printing all records present in the collection\n",
    "for idx, record in enumerate(all_record):\n",
    "     print(f\"{idx}: {record}\")"
   ]
  },
  {
   "cell_type": "code",
   "execution_count": null,
   "id": "f8ff4150",
   "metadata": {},
   "outputs": [],
   "source": [
    "# document --> mongoDB --> (NoSQL)\n",
    "# json object in {} curly bracket"
   ]
  },
  {
   "cell_type": "code",
   "execution_count": null,
   "id": "8b1bead0",
   "metadata": {},
   "outputs": [],
   "source": [
    "ls --> list of file in terminal\n",
    "pip list --> list of libbrary installed in directory\n",
    "pip install -r requirements.txt --> install all library from requirements.txt file\n",
    "python filename.py --> to run .py file in the terminal\n"
   ]
  },
  {
   "cell_type": "code",
   "execution_count": null,
   "id": "c0f88198",
   "metadata": {},
   "outputs": [],
   "source": [
    "https://codeshare.io/ZJONqn\n",
    "https://archive.ics.uci.edu/ml/datasets/Census+Income\n",
    "https://archive.ics.uci.edu/ml/machine-learning-databases/adult/\n",
    "https://www.mongodb.com/docs/atlas/atlas-ui/"
   ]
  },
  {
   "cell_type": "code",
   "execution_count": 1,
   "id": "592e8df5",
   "metadata": {},
   "outputs": [
    {
     "ename": "SyntaxError",
     "evalue": "invalid syntax (1447649521.py, line 1)",
     "output_type": "error",
     "traceback": [
      "\u001b[1;36m  Input \u001b[1;32mIn [1]\u001b[1;36m\u001b[0m\n\u001b[1;33m    1. Create a database\u001b[0m\n\u001b[1;37m       ^\u001b[0m\n\u001b[1;31mSyntaxError\u001b[0m\u001b[1;31m:\u001b[0m invalid syntax\n"
     ]
    }
   ],
   "source": [
    "1. Create a database\n",
    "2. collection\n",
    "3. document(json,dict)"
   ]
  },
  {
   "cell_type": "code",
   "execution_count": null,
   "id": "21aa6e80",
   "metadata": {},
   "outputs": [],
   "source": []
  },
  {
   "cell_type": "markdown",
   "id": "5aa44497",
   "metadata": {},
   "source": [
    "# ZIP"
   ]
  },
  {
   "cell_type": "code",
   "execution_count": 4,
   "id": "6ad9957d",
   "metadata": {},
   "outputs": [],
   "source": [
    "mylist1=['a','b','c','d','e']\n",
    "mylist2=[1,2,3,4,5]"
   ]
  },
  {
   "cell_type": "code",
   "execution_count": 5,
   "id": "f194d9e2",
   "metadata": {},
   "outputs": [
    {
     "name": "stdout",
     "output_type": "stream",
     "text": [
      "('a', 1)\n",
      "('b', 2)\n",
      "('c', 3)\n",
      "('d', 4)\n",
      "('e', 5)\n"
     ]
    }
   ],
   "source": [
    "for i in zip(mylist1,mylist2):\n",
    "    print(i)"
   ]
  },
  {
   "cell_type": "code",
   "execution_count": 6,
   "id": "ad8a0c18",
   "metadata": {},
   "outputs": [
    {
     "name": "stdout",
     "output_type": "stream",
     "text": [
      "a 1\n",
      "b 2\n",
      "c 3\n",
      "d 4\n",
      "e 5\n"
     ]
    }
   ],
   "source": [
    "for x,y in zip(mylist1,mylist2):\n",
    "    print(x,y)"
   ]
  },
  {
   "cell_type": "code",
   "execution_count": 7,
   "id": "617d4ba5",
   "metadata": {},
   "outputs": [
    {
     "data": {
      "text/plain": [
       "{'a': 1, 'b': 2, 'c': 3, 'd': 4, 'e': 5}"
      ]
     },
     "execution_count": 7,
     "metadata": {},
     "output_type": "execute_result"
    }
   ],
   "source": [
    "dict={}\n",
    "for x,y in zip(mylist1,mylist2):\n",
    "    dict[x]=y\n",
    "dict"
   ]
  },
  {
   "cell_type": "code",
   "execution_count": null,
   "id": "d21b5394",
   "metadata": {},
   "outputs": [],
   "source": [
    "map(func,seq) # it will give me value according to the logic\n",
    "filter(func,seq) # it will give me value according to the logic\n",
    "reduce(func,seq) # it will reduce the value"
   ]
  },
  {
   "cell_type": "code",
   "execution_count": 8,
   "id": "62c4c8aa",
   "metadata": {},
   "outputs": [],
   "source": [
    "# reduce\n",
    "import functools"
   ]
  },
  {
   "cell_type": "code",
   "execution_count": 10,
   "id": "2941fa67",
   "metadata": {},
   "outputs": [],
   "source": [
    "mylist=[1,3,5,6,2]"
   ]
  },
  {
   "cell_type": "code",
   "execution_count": 11,
   "id": "58f5d661",
   "metadata": {},
   "outputs": [
    {
     "data": {
      "text/plain": [
       "17"
      ]
     },
     "execution_count": 11,
     "metadata": {},
     "output_type": "execute_result"
    }
   ],
   "source": [
    "functools.reduce(lambda a,b: a+b ,mylist)"
   ]
  },
  {
   "cell_type": "markdown",
   "id": "8eab706b",
   "metadata": {},
   "source": [
    "# Iterator and generator"
   ]
  },
  {
   "cell_type": "code",
   "execution_count": 13,
   "id": "2124d28a",
   "metadata": {},
   "outputs": [],
   "source": [
    "# generator"
   ]
  },
  {
   "cell_type": "code",
   "execution_count": 16,
   "id": "50b07391",
   "metadata": {},
   "outputs": [],
   "source": [
    "def gen(n):\n",
    "    for i in range(n):\n",
    "        yield i         # here yield is the keyyword"
   ]
  },
  {
   "cell_type": "code",
   "execution_count": 17,
   "id": "b8657fc6",
   "metadata": {},
   "outputs": [
    {
     "data": {
      "text/plain": [
       "<generator object gen at 0x000001560E1F3270>"
      ]
     },
     "execution_count": 17,
     "metadata": {},
     "output_type": "execute_result"
    }
   ],
   "source": [
    "gen(10)"
   ]
  },
  {
   "cell_type": "code",
   "execution_count": 20,
   "id": "9b4499fd",
   "metadata": {},
   "outputs": [
    {
     "name": "stdout",
     "output_type": "stream",
     "text": [
      "1469000411408\n",
      "1469000411440\n",
      "1469000411472\n",
      "1469000411504\n",
      "1469000411536\n",
      "1469000411568\n",
      "1469000411600\n",
      "1469000411632\n",
      "1469000411664\n",
      "1469000411696\n"
     ]
    }
   ],
   "source": [
    "for i in gen(10):\n",
    "    print(id(i))"
   ]
  },
  {
   "cell_type": "code",
   "execution_count": 3,
   "id": "e4b87864",
   "metadata": {},
   "outputs": [],
   "source": [
    "def test(n):\n",
    "    for i in range(n):\n",
    "        yield i"
   ]
  },
  {
   "cell_type": "code",
   "execution_count": 4,
   "id": "c6968c61",
   "metadata": {},
   "outputs": [
    {
     "data": {
      "text/plain": [
       "<generator object test at 0x000002123EA54040>"
      ]
     },
     "execution_count": 4,
     "metadata": {},
     "output_type": "execute_result"
    }
   ],
   "source": [
    "test(10)"
   ]
  },
  {
   "cell_type": "code",
   "execution_count": null,
   "id": "627b88ae",
   "metadata": {},
   "outputs": [],
   "source": [
    "iterable --> list,tuple,string,set,dict\n",
    "it is a sequence of the value"
   ]
  },
  {
   "cell_type": "code",
   "execution_count": null,
   "id": "1ad18797",
   "metadata": {},
   "outputs": [],
   "source": [
    "iterator --> its a object on top of that we can perform iteration"
   ]
  },
  {
   "cell_type": "code",
   "execution_count": 6,
   "id": "cc2097bd",
   "metadata": {},
   "outputs": [],
   "source": [
    "mylist=[1,2,3,4,5]"
   ]
  },
  {
   "cell_type": "code",
   "execution_count": 8,
   "id": "8f7b6a59",
   "metadata": {},
   "outputs": [],
   "source": [
    "obj=iter(mylist)"
   ]
  },
  {
   "cell_type": "code",
   "execution_count": 9,
   "id": "922efcbd",
   "metadata": {},
   "outputs": [
    {
     "data": {
      "text/plain": [
       "1"
      ]
     },
     "execution_count": 9,
     "metadata": {},
     "output_type": "execute_result"
    }
   ],
   "source": [
    "next(obj)"
   ]
  },
  {
   "cell_type": "code",
   "execution_count": 10,
   "id": "ed90c45e",
   "metadata": {},
   "outputs": [
    {
     "data": {
      "text/plain": [
       "2"
      ]
     },
     "execution_count": 10,
     "metadata": {},
     "output_type": "execute_result"
    }
   ],
   "source": [
    "next(obj)"
   ]
  },
  {
   "cell_type": "code",
   "execution_count": 11,
   "id": "144c6244",
   "metadata": {},
   "outputs": [
    {
     "data": {
      "text/plain": [
       "3"
      ]
     },
     "execution_count": 11,
     "metadata": {},
     "output_type": "execute_result"
    }
   ],
   "source": [
    "next(obj)"
   ]
  },
  {
   "cell_type": "code",
   "execution_count": null,
   "id": "d355e9c3",
   "metadata": {},
   "outputs": [],
   "source": []
  }
 ],
 "metadata": {
  "kernelspec": {
   "display_name": "Python 3 (ipykernel)",
   "language": "python",
   "name": "python3"
  },
  "language_info": {
   "codemirror_mode": {
    "name": "ipython",
    "version": 3
   },
   "file_extension": ".py",
   "mimetype": "text/x-python",
   "name": "python",
   "nbconvert_exporter": "python",
   "pygments_lexer": "ipython3",
   "version": "3.9.12"
  }
 },
 "nbformat": 4,
 "nbformat_minor": 5
}
