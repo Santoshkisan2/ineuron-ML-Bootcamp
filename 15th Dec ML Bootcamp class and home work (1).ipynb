{
 "cells": [
  {
   "cell_type": "code",
   "execution_count": null,
   "id": "a0ea03c8",
   "metadata": {},
   "outputs": [],
   "source": []
  },
  {
   "cell_type": "markdown",
   "id": "04b8f7a4",
   "metadata": {},
   "source": [
    "Q:WAP to accept an integer from the user and check whether it is an even or odd "
   ]
  },
  {
   "cell_type": "code",
   "execution_count": 4,
   "id": "630163c7",
   "metadata": {},
   "outputs": [
    {
     "name": "stdout",
     "output_type": "stream",
     "text": [
      "num1:444\n",
      "your num is Even\n"
     ]
    }
   ],
   "source": [
    "num1=int(input('num1:'))\n",
    "if num1%2==0:\n",
    "    print('your num is Even')\n",
    "else:\n",
    "    print('your number is Odd')"
   ]
  },
  {
   "cell_type": "markdown",
   "id": "3a250583",
   "metadata": {},
   "source": [
    "Q:WAP to accept a character from the user and check whether it is a capital letter or small letter. Assume user will input only alphabets\n"
   ]
  },
  {
   "cell_type": "code",
   "execution_count": 11,
   "id": "ca1dcb95",
   "metadata": {},
   "outputs": [
    {
     "name": "stdout",
     "output_type": "stream",
     "text": [
      "write any albhabet character:Santos\n",
      "First letter capital\n"
     ]
    }
   ],
   "source": [
    "char=(input('write any albhabet character:'))\n",
    "if char[0] in ('abcdefghijklmnopqrstuvwxyz'):\n",
    "    print('First letter small')\n",
    "else:\n",
    "    print('First letter capital')"
   ]
  },
  {
   "cell_type": "markdown",
   "id": "a26b71f2",
   "metadata": {},
   "source": [
    "Q:WAP to accept a character from the user and check whether it is a capital letter or small letter or a digit or some special symbol"
   ]
  },
  {
   "cell_type": "code",
   "execution_count": 27,
   "id": "d29ada63",
   "metadata": {},
   "outputs": [
    {
     "name": "stdout",
     "output_type": "stream",
     "text": [
      "write any single character:@\n",
      "It is a Special symbol\n"
     ]
    }
   ],
   "source": [
    "char1=(input('write any single character:'))\n",
    "if char1[0] in ('[@_!#$%^&*()<>?/\\|}{~:]'):\n",
    "    print('It is a Special symbol')\n",
    "elif 'A'<=char1[0]<='Z':\n",
    "    print('First letter Capital')\n",
    "elif 'a'<=char1[0]<='z':\n",
    "    print('First letter Small')\n",
    "     \n",
    "else:\n",
    "    print('It is a number')\n",
    "            "
   ]
  },
  {
   "cell_type": "markdown",
   "id": "c0c91a08",
   "metadata": {},
   "source": [
    "Q:WAP to accept 3 integers from the user and without using any logical operator and cascading of relational operators , find out the greatest number amongst them"
   ]
  },
  {
   "cell_type": "code",
   "execution_count": 28,
   "id": "14018cd9",
   "metadata": {},
   "outputs": [
    {
     "name": "stdout",
     "output_type": "stream",
     "text": [
      "num1:4545\n",
      "num2:44455\n",
      "num3:445\n",
      "num2 is greater\n"
     ]
    }
   ],
   "source": [
    "num1=int(input('num1:'))\n",
    "num2=int(input('num2:'))\n",
    "num3=int(input('num3:'))\n",
    "if num1>num2>num3:\n",
    "    print('num1 is greater')\n",
    "elif num2>num1>num3:\n",
    "    print('num2 is greater')\n",
    "else:\n",
    "    print('num3 is greater')"
   ]
  },
  {
   "cell_type": "markdown",
   "id": "a3e8e858",
   "metadata": {},
   "source": [
    "Q:WAP to accept a year from the user and check whether it is a leap year or not."
   ]
  },
  {
   "cell_type": "code",
   "execution_count": 63,
   "id": "c9d06e00",
   "metadata": {},
   "outputs": [
    {
     "name": "stdout",
     "output_type": "stream",
     "text": [
      "year:2020\n",
      "Leap Year\n"
     ]
    }
   ],
   "source": [
    "year=int(input('year:'))\n",
    "if year%400==0:\n",
    "    print('Leap Year')\n",
    "elif year%4==0:\n",
    "    if year%100!=0:\n",
    "        print('Leap Year')\n",
    "    else:\n",
    "        print('Not Leap year')\n",
    "elif year%400==0:\n",
    "    print('Leap Year')\n",
    "else:\n",
    "    print('Not leap year')"
   ]
  },
  {
   "cell_type": "markdown",
   "id": "7d76152c",
   "metadata": {},
   "source": [
    "Q:You have to develop a number guessing game. Following are the steps needed:\n",
    "At first , the program will generate a random integer secretly.\n",
    "\n",
    "Now it will ask the user to guess that number .\n",
    "\n",
    "If the user guessed it correctly then the program prints “Congratulations! You guessed it right” .\n",
    "\n",
    "But if the number guessed by the user is larger than the secret number then program should print “Number too large” and , if the number guessed by the user is smaller than the secret number then the program should print “Number too small” \n",
    "\n",
    "This should continue until the user guesses the number correctly or quits .\n",
    "\n",
    "If the user wants to quit in between he will have to type 0 or negative number\n"
   ]
  },
  {
   "cell_type": "code",
   "execution_count": 234,
   "id": "79b615a4",
   "metadata": {},
   "outputs": [
    {
     "name": "stdout",
     "output_type": "stream",
     "text": [
      "guess a number between 1 and 10: 5\n",
      "your Number is too small. Guess again!\n",
      "Type 0 or any negative number to exit this game or keep guessing\n",
      "guess a number between 1 and 10: 8\n",
      "your Number is too large. Guess again!\n",
      "Type 0 or nay negative number to exit this game or keep guessing\n",
      "guess a number between 1 and 10: 7\n",
      "congratulations! you won!\n"
     ]
    }
   ],
   "source": [
    "import random\n",
    "\n",
    "num = random.randint(1, 10)\n",
    "guess = None\n",
    "\n",
    "while guess != num:\n",
    "    guess = input(\"guess a number between 1 and 10: \")\n",
    "    guess = int(guess)\n",
    "    \n",
    "    if guess==0 or guess<0:\n",
    "        print('Run this programme to play again :)')\n",
    "        break\n",
    "    elif guess == num:\n",
    "        print(\"congratulations! you won!\")\n",
    "        #break   \n",
    "    #elif guess == num:\n",
    "        #print(\"nope, sorry. try again!\")\n",
    "    elif guess<num:\n",
    "        print('your Number is too small. Guess again!')\n",
    "        print('Type 0 or any negative number to exit this game or keep guessing')\n",
    "        #break\n",
    "    #elif guess == num:\n",
    "        #print(\"nope, sorry. try again!\")\n",
    "    elif guess>num:\n",
    "        print('your Number is too large. Guess again!')\n",
    "        print('Type 0 or nay negative number to exit this game or keep guessing')\n",
    "        #break\n",
    "    \n",
    "    else:\n",
    "        print(\"Sorry. try again!\")"
   ]
  },
  {
   "cell_type": "markdown",
   "id": "c4cad9b3",
   "metadata": {},
   "source": [
    "Q:Write a program to accept a string from the user and display it vertically but don’t display the vowels in it."
   ]
  },
  {
   "cell_type": "code",
   "execution_count": 213,
   "id": "f2bcb6b4",
   "metadata": {},
   "outputs": [
    {
     "name": "stdout",
     "output_type": "stream",
     "text": [
      "Write your string:kIsan\n",
      "k\n",
      "s\n",
      "n\n"
     ]
    }
   ],
   "source": [
    "st=input('Write your string:')\n",
    "i=0\n",
    "while i<len(st):\n",
    "    if st[i] not in 'aeiou' :\n",
    "        if st[i] not in 'AEIOU':\n",
    "            print(st[i])\n",
    "    i=i+1   "
   ]
  },
  {
   "cell_type": "markdown",
   "id": "5af2dbc4",
   "metadata": {},
   "source": [
    "Q:Write a program to continuously accept integers from the user until the user types 0 and as soon as 0 is entered display sum of all the nos entered before 0"
   ]
  },
  {
   "cell_type": "code",
   "execution_count": 256,
   "id": "9e2ba2ae",
   "metadata": {},
   "outputs": [
    {
     "name": "stdout",
     "output_type": "stream",
     "text": [
      "Enter a Integer or enter zero to Quit >5\n",
      "Sum of all integer till now : 5\n",
      "Enter a Integer or enter zero to Quit >4\n",
      "Sum of all integer till now : 9\n",
      "Enter a Integer or enter zero to Quit >0\n"
     ]
    }
   ],
   "source": [
    "total = 0 \n",
    "while True: \n",
    "   number = input('Enter a Integer or enter zero to Quit >') \n",
    "   if number == '0': \n",
    "        break \n",
    "   total += int(number) \n",
    "   print('Sum of all integer till now :', total) "
   ]
  },
  {
   "cell_type": "markdown",
   "id": "aab95a26",
   "metadata": {},
   "source": [
    "Q:Write a program using a for loop to accept a string from the user and display it vertically but don’t display the vowels in it."
   ]
  },
  {
   "cell_type": "code",
   "execution_count": 126,
   "id": "416928af",
   "metadata": {},
   "outputs": [
    {
     "name": "stdout",
     "output_type": "stream",
     "text": [
      "Write your string:SANtosh\n",
      "S\n",
      "N\n",
      "t\n",
      "s\n",
      "h\n"
     ]
    }
   ],
   "source": [
    "st=input('Write your string:')\n",
    "i=0\n",
    "while i<len(st):\n",
    "    if st[i] not in 'aeiou' :\n",
    "        if st[i] not in 'AEIOU':\n",
    "            print(st[i])\n",
    "    i=i+1   "
   ]
  },
  {
   "cell_type": "markdown",
   "id": "6d93663d",
   "metadata": {},
   "source": [
    "Q:Write a program to accept an integer from the user and display the sum of all the numbers from 1 to that number."
   ]
  },
  {
   "cell_type": "code",
   "execution_count": 278,
   "id": "2b8d09e9",
   "metadata": {},
   "outputs": [
    {
     "name": "stdout",
     "output_type": "stream",
     "text": [
      "Enter a positive number: 100\n",
      "The sums of all the numbers from 1 to that number 100 is 5051\n"
     ]
    }
   ],
   "source": [
    "num = int(input(\"Enter a positive number: \"))\n",
    "\n",
    "sums = 1\n",
    "\n",
    "if num == 0:\n",
    "   print(\"The sums of zero is 0\")\n",
    "else:\n",
    "   for i in range(1,num + 1):\n",
    "       sums = sums+i\n",
    "   print(\"The sums of all the numbers from 1 to that number\",num,\"is\",sums)"
   ]
  },
  {
   "cell_type": "markdown",
   "id": "05c05e93",
   "metadata": {},
   "source": [
    "Q:Write a program to accept an integer from the user and calculate its factorial"
   ]
  },
  {
   "cell_type": "code",
   "execution_count": 271,
   "id": "426cec12",
   "metadata": {},
   "outputs": [
    {
     "name": "stdout",
     "output_type": "stream",
     "text": [
      "Enter a number: 5\n",
      "The factorial of 5 is 120\n"
     ]
    }
   ],
   "source": [
    "num = int(input(\"Enter a number: \"))\n",
    "\n",
    "factorial = 1\n",
    "\n",
    "if num < 0:\n",
    "   print(\"Sorry, factorial does not exist for negative numbers\")\n",
    "elif num == 0:\n",
    "   print(\"The factorial of 0 is 1\")\n",
    "else:\n",
    "   for i in range(1,num + 1):\n",
    "       factorial = factorial*i\n",
    "   print(\"The factorial of\",num,\"is\",factorial)"
   ]
  },
  {
   "cell_type": "markdown",
   "id": "d2d67746",
   "metadata": {},
   "source": [
    "Q:Write a program to accept an integer from the user and display all the numbers from 1 to that number. Repeat the process until the user enters 0."
   ]
  },
  {
   "cell_type": "code",
   "execution_count": 268,
   "id": "70920a1f",
   "metadata": {},
   "outputs": [
    {
     "name": "stdout",
     "output_type": "stream",
     "text": [
      "Please Enter any Number: 4\n",
      "The List of Natural Numbers from 1 to 4\n",
      "1 2 3 4 Please Enter any Number: 5\n",
      "The List of Natural Numbers from 1 to 5\n",
      "1 2 3 4 5 Please Enter any Number: 0\n",
      "The List of Natural Numbers from 1 to 0\n"
     ]
    }
   ],
   "source": [
    "\n",
    "while True: \n",
    "    n = int(input(\"Please Enter any Number: \"))\n",
    "    print(\"The List of Natural Numbers from 1\", \"to\", n) \n",
    "    if n==0:\n",
    "        break\n",
    "    for i in range(1, n+1):\n",
    "        print (i,end=' ')"
   ]
  },
  {
   "cell_type": "code",
   "execution_count": null,
   "id": "33cec098",
   "metadata": {},
   "outputs": [],
   "source": []
  },
  {
   "cell_type": "code",
   "execution_count": null,
   "id": "2c9bd5dc",
   "metadata": {},
   "outputs": [],
   "source": []
  },
  {
   "cell_type": "code",
   "execution_count": null,
   "id": "06f4b319",
   "metadata": {},
   "outputs": [],
   "source": []
  },
  {
   "cell_type": "code",
   "execution_count": null,
   "id": "8235591c",
   "metadata": {},
   "outputs": [],
   "source": [
    "        "
   ]
  },
  {
   "cell_type": "code",
   "execution_count": null,
   "id": "77e6d2ac",
   "metadata": {},
   "outputs": [],
   "source": []
  },
  {
   "cell_type": "code",
   "execution_count": null,
   "id": "237d9201",
   "metadata": {},
   "outputs": [],
   "source": []
  },
  {
   "cell_type": "code",
   "execution_count": null,
   "id": "c2fe00b3",
   "metadata": {},
   "outputs": [],
   "source": []
  },
  {
   "cell_type": "code",
   "execution_count": null,
   "id": "01910820",
   "metadata": {},
   "outputs": [],
   "source": []
  },
  {
   "cell_type": "code",
   "execution_count": null,
   "id": "97c5b59b",
   "metadata": {},
   "outputs": [],
   "source": []
  },
  {
   "cell_type": "code",
   "execution_count": null,
   "id": "4fb0b3c6",
   "metadata": {},
   "outputs": [],
   "source": []
  },
  {
   "cell_type": "code",
   "execution_count": null,
   "id": "5557b950",
   "metadata": {},
   "outputs": [],
   "source": []
  }
 ],
 "metadata": {
  "kernelspec": {
   "display_name": "Python 3 (ipykernel)",
   "language": "python",
   "name": "python3"
  },
  "language_info": {
   "codemirror_mode": {
    "name": "ipython",
    "version": 3
   },
   "file_extension": ".py",
   "mimetype": "text/x-python",
   "name": "python",
   "nbconvert_exporter": "python",
   "pygments_lexer": "ipython3",
   "version": "3.9.12"
  }
 },
 "nbformat": 4,
 "nbformat_minor": 5
}
